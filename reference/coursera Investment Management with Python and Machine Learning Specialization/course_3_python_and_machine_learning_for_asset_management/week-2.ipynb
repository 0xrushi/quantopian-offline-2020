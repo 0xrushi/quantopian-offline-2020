{
 "cells": [
  {
   "cell_type": "markdown",
   "metadata": {},
   "source": [
    "# Week 1-2"
   ]
  },
  {
   "cell_type": "code",
   "execution_count": 385,
   "metadata": {},
   "outputs": [],
   "source": [
    "import sys\n",
    "import pandas as pd\n",
    "import numpy as np\n",
    "import statsmodels.api as sm\n",
    "import matplotlib.pyplot as plt\n",
    "import datetime as dt\n",
    "\n",
    "import cvxpy as cp\n",
    "from sklearn.linear_model import LinearRegression, Lasso, Ridge, ElasticNet\n",
    "from sklearn.model_selection import KFold, GridSearchCV\n",
    "from scipy.optimize import minimize\n",
    "from pandas_datareader import data "
   ]
  },
  {
   "cell_type": "code",
   "execution_count": 386,
   "metadata": {},
   "outputs": [
    {
     "name": "stdout",
     "output_type": "stream",
     "text": [
      "The autoreload extension is already loaded. To reload it, use:\n",
      "  %reload_ext autoreload\n"
     ]
    }
   ],
   "source": [
    "%load_ext autoreload\n",
    "%autoreload 2\n",
    "%matplotlib inline"
   ]
  },
  {
   "cell_type": "code",
   "execution_count": 387,
   "metadata": {},
   "outputs": [],
   "source": [
    "import ml_asset_kit as mla\n",
    "sys.path.append(\"../\")\n",
    "import edhec_risk_kit as erk"
   ]
  },
  {
   "cell_type": "code",
   "execution_count": 388,
   "metadata": {},
   "outputs": [],
   "source": [
    "# using seaborn style (type plt.style.available to see available styles)\n",
    "plt.style.use(\"seaborn-dark\")"
   ]
  },
  {
   "cell_type": "markdown",
   "metadata": {},
   "source": [
    "# Brief summary of week 1 (questions and home points)\n",
    "\n",
    "## Introduction to Machine Learning\n",
    "\n",
    "**QUESTION: What distinguishes supervised learning from unsupervised learning? Multiple responses possible.**\n",
    "1. Supervised learning requires labeled data to properly classify objects, whereas unsupervised learning identifies interesting patterns in data – without label\n",
    "2. Most successful applications of machine learning have occurred in supervised learning\n",
    "3. Supervised learning requires a human to watch over the algorithm to be sure that it’s  working properly.\n",
    "\n",
    "**ANSWER: 1,2.** Supervised learning includes classification such as identifying the name of a song or the numbers on a handwritten zip-code. The success of these schemes depends upon several items: a large set of labeled data. I call this amount of data needed for a successful application: *adequate data*. Second, in most cases, there is the need for a type of stability. \n",
    "For example, we assume that the zip-code IDs remains the digits 0-9. \n",
    "\n",
    "Over the past decade, most successes in machine learning have occurred in the area of supervised learning (mostly classification). More recently, there have been breakthroughs in games such as Chess, Shogi, and Go, whereby the DeepMind team \n",
    "at Google in London have created the world best software for these problem. This domain fits under **reinforcement learning**.\n",
    "\n",
    "**QUESTION: What are the main differences between traditional statistical methods and modern non-parametric methods? Multiple responses possible.**\n",
    "1. Few assumptions needed for non-parametric methods\n",
    "2. Traditional statistical methods rely on assumptions such as normal distributions for the random variables\n",
    "3. Traditional statistics depend upon massive data\n",
    "\n",
    "**ANSWER: 1,2**. The area of classical statistical analysis grew up with a host of assumptions. The most obvious ones occur \n",
    "in linear regression: linearity of explanatory and outcome variables, additivity, and relative independence \n",
    "of the explanatory variables. Massive research took place in the 1950s and 1960s to overcome some of these assumptions, \n",
    "such as adding nonlinear transformations, and addressing other loss functions such as absolute value |L1|.  \n",
    "These extensions had a minor impact on practice, partially due to the focus on theoretical properties of the techniques. \n",
    "Recall the long list of tests to *prove* statistical significance. The area of non-parametric methods began with \n",
    "the emergence of data collection at much higher frequency and across domains. These techniques led to modern \n",
    "machine learning algorithms and improved testing methodologies. In addition, statisticians (and other data scientists) \n",
    "began to recognize that stochastic optimization plays a critical role in the success of machine learning. \n",
    "In particular, increased computational capability, merged with large data and incentives for improving classification, \n",
    "has resulted in practical successes. These successes have surprised many expert observers over the past decade. "
   ]
  },
  {
   "cell_type": "markdown",
   "metadata": {},
   "source": [
    "## Financial Applications\n",
    "\n",
    "**QUESTION: What are a few future applications of the FinTech revolution?**\n",
    "1. Robo-advisors will replace human investment advisors\n",
    "2. FinTech promises to bring loans and mortgages to individuals without long approval periods\n",
    "3. Machine learning algorithms will find the best performing stock and thereby eliminate investment professional\n",
    "4. Machine learning will be able to decide upon the best home location to satisfy our needs\n",
    "\n",
    "**ANSWER: 2**. The use of machine learning to issue bonds and mortgages is confirmed by reference to the efforts by \n",
    "Ant Financial in China – the MyBank app. Here, loans are issues with any formal support from the \n",
    "Ant Financial team and without reference to the massive amounts of research in this domain.\n",
    "\n",
    "Some HOME POINTS:\n",
    "- Financial Applications are often more complex than direct classification, e.g., due to privacy and ethical issues \n",
    "- Machine Learning algorithms can be difficult to interpret \n",
    "- Feature selection very important "
   ]
  },
  {
   "cell_type": "markdown",
   "metadata": {},
   "source": [
    "## Supervised Learning\n",
    "\n",
    "**QUESTION: Which of the following are successful applications of supervised learning? Multiple responses possible.**\n",
    "1. Identify objects in front of an auto or truck\n",
    "2. Computer driven loans for individuals\n",
    "3. Fraud detection for credit cards\n",
    "\n",
    "**ANSWER: all of them.** The successes in supervised learning are arriving at an accelerating rate. Outside of finance,  we can readily identify the name of a song by an app listening to a few bars, or we can give a name to a \n",
    "bird or tree without fail. Likewise, zip-codes are read by automated supervised learning algorithms, \n",
    "at a lower error rate than humans. Visual object identification has gained in accuracy as well, and \n",
    "these classification algorithms are a critical element in automated vehicles. \n",
    "In the area of finance and banking, FinTech firms such as Ant Financial are able to issue \n",
    "loans by means of machine learning, without the need for traditional bankers or brick and mortar \n",
    "bank branches. And fraud detection has been improved. **There is still much to be done in the domain of decision making under uncertainty.**\n",
    "\n",
    "\n",
    "**QUESTION: What are the primary assumptions of supervised learning? Multiple responses possible.**\n",
    "1. There is adequate data possessing labels\n",
    "2. The underlying application has stability so that the data is representative\n",
    "3. The labels indicate correct classification\n",
    "4. The classification problem requires linearity\n",
    "\n",
    "**ANSWER: 1,2,3**. The nature of supervised learning requires data with the correct classification, called labels. \n",
    "The amount of data must be “adequate” so that the machine learning algorithm is able to identify \n",
    "the characteristics for future out-of-sample evaluation. \n",
    "In addition, there must be enough stability over time. \n",
    "\n",
    "Some HOME POINTS:\n",
    "- Machine Learning operates on a large number of features. Perhaps more systematic than humans. \n",
    "- Humans apply intuition and vast experience. \n",
    "- Computers apply multiple algorithms with a large number of features. "
   ]
  },
  {
   "cell_type": "markdown",
   "metadata": {},
   "source": [
    "## First algorithms\n",
    "**QUESTION: How does the train-and-test approach improve accuracy? Multiple responses possible**\n",
    "1. Provides out-of-sample evidence and thereby reduces overfitting\n",
    "2. Allows for evaluation of performance ex post\n",
    "3. Refines the information content of historical data\n",
    "\n",
    "**ANSWER: 1,3**. Traditional statistical methods rely on a large number of assumptions in order to provide \n",
    "evidence of good statistical properties. On the other hand, machine learning algorithms \n",
    "render fewer assumptions than traditional methods, and thereby there is a greater need \n",
    "for out-of-sample analysis. The train-and-test approach, in conjunction with cross validation, fits this philosophy. \n",
    "\n",
    "Some HOME POINTS:\n",
    "- Adequate data must be available so that results can be generalised.\n",
    "- Data must relatively stable, changes in the data cannot occur at high frequency. "
   ]
  },
  {
   "cell_type": "markdown",
   "metadata": {},
   "source": [
    "## Highlights of best practice and challenges ahead\n",
    "**QUESTION: What is the motivation for employing an ensemble forecasting framework?**\n",
    "1. The forecasting problem can be posed as a linear regression model\n",
    "2. The application requires linearity\n",
    "3. Ensemble forecasts are superior to a single forecasting model when the aggregation of weak classifiers is better than the forecast of a single strong classifier\n",
    "\n",
    "**ANSWER: 3**. There are many examples in which an ensemble forecast is more reliable than the forecast \n",
    "from a single model.  An example is the forecast of recessions in the U.S. over the last 20 years. \n",
    "The Blue Chip economists projections were better able to forecast a recession than the \n",
    "leading econometric forecasting system\n",
    "\n",
    "**QUESTION: What are the advantages of the train-and-test procedures? Multiple responses possible.**\n",
    "1. Helps evaluate the model’s capability via out of sample testing\n",
    "2. Reduces the chances of overfitting\n",
    "3. Provides a full proof approach for classification\n",
    "4. Indicates readiness for decision making\n",
    "\n",
    "**ANSWER: 1,2**. The traditional statistical methods such as linear regression and econometrics made a \n",
    "number of assumptions about model structure and employed as much historical data as possible. \n",
    "Machine learning, on the other hand, employs the data without many assumptions about \n",
    "model structure. This approach requires much more data than earlier methods, but it \n",
    "provides more reliable algorithms for classification in many situations.\n",
    "The train-and-test procedures are employed to calculate the (hyper-parameters) of a model \n",
    "via out-of-sample data and to reduce the chances of overfitting.  As we have mentioned, \n",
    "a model that fits the data perfectly in-sample is often unable to do well with out of sample data. \n",
    "Thus, the train-and-test procedure is helpful in reducing overfitting. \n",
    "\n",
    "\n",
    "\n",
    "**QUESTION: What are potential and actual successes of reinforcement learning? Multiple responses possible**\n",
    "1. The most powerful game playing systems in the world for chess, shogi, and go (AlphaZero)\n",
    "2. Automated medical diagnosis and treatment\n",
    "3. Online poker playing and associated betting strategies\n",
    "4. Identifying products for customers on the Amazon website\n",
    "\n",
    "**ANSWER: 1,3,4**. The area of reinforcement learning has gained much credibility and renown since the fast and \n",
    "powerful successes of the DeepMind team at Google with their software systems that \n",
    "created the world’s most powerful systems for playing chess, shogi, and go. This remarkable \n",
    "system requires no domain specific information about the game.  Instead, it simply “watches” \n",
    "each of these gains over a carefully curated set of experiments.  \n",
    "The product selection problem has similar characteristics in terms of its potential application \n",
    "of reinforcement learning. However, this area is much less structured that zero-sum games. \n",
    "And accordingly, there is controversy about the degree of success of **reinforcement learning**.\n",
    "\n",
    "\n",
    "Some HOME POINTS:\n",
    "- Train and test process\n",
    "- Ensamble models: combine a set of weak classifier into a strong classifier (boosting); then take the average of classifiers (**Wisdom of the crowd**) -> more robust classification \n",
    "- Shrinkage methods "
   ]
  },
  {
   "cell_type": "markdown",
   "metadata": {},
   "source": [
    "# WEEK 2\n",
    "\n",
    "Below we briefly recall **factor models** (**see week 1 and week 2 of course 2**).\n",
    "\n",
    "## Factor models\n",
    "A **factor** is a variable that influences the **returns of assets**. It represents a **commonality** \n",
    "in the returns, i.e., something outside the individual asset, and normally, **an exposure to some factor risk** over the long run **yields a reward** (the risk premium).\n",
    "\n",
    "In general, a **(multi)-factor model** with $K$ factors states that the \n",
    "**excessive return** of an asset $i$ satisfies:\n",
    "$$\n",
    "r_i^e := r_{i,t} - r_{f,t}  = \\alpha_i + \\beta_1^i f^{e}_1 +\\dots +\\beta_K^i f^{e}_K + \\varepsilon_{i,t}, \n",
    "$$\n",
    "where $\\{\\beta_j^i\\}_{j=1,\\dots,K}$ and $\\alpha_i$ are some real coefficients to be estimated, $\\varepsilon_{i,t}$ are idiosyncratic (uncorrelated) errors, and $\\{f_j\\}_{i=j,\\dots,K}$ are the **factor premia** which are the **returns that we get in exchange for exposing ourselves to the factors** (in particular $f^{e}_j$ denotes the excess return of the factor). \n",
    "\n",
    "We will call the betas coefficients as the **factor loadings**."
   ]
  },
  {
   "cell_type": "markdown",
   "metadata": {},
   "source": [
    "\n",
    "\n",
    "### Single Factor model\n",
    "We recall that the simplest factor model is the Sharpe's single-factor **Market Model** in which the only factor used is the excess return of the market $f^e_t = r_{m,t} - r_{f,t}$:\n",
    "$$\n",
    "r_i^e := r_{i,t} - r_{f,t} = \\alpha_i + \\beta^i (r_{m,t} - r_{f,t}) + \\varepsilon_{i,t}.\n",
    "$$\n",
    "In particular we recall that the **Capital Asset Pricing Model (CAPM)** is the model that predicts $\\alpha_i=0$:\n",
    "$$\n",
    "r_i^e := r_{i,t} - r_{f,t} = \\beta^i (r_{m,t} - r_{f,t}) + \\varepsilon_{i,t},\n",
    "$$\n",
    "and in which:\n",
    "$$\n",
    "\\beta_i := \\frac{\\text{Cov}(r_i,r_m)}{\\text{Var}(r_m)},\n",
    "$$\n",
    "denotes the sensitivity of the asset with respect to the market.\n",
    "\n",
    "\n",
    "In the risk analysis, we notice that when using the CAPM, we can obtain an expression for the variance of the return of asset $i$ in terms of the variance of the market. That is, if we take tha variance on both sides of the equation above:\n",
    "$$\n",
    "(\\sigma_i^e)^2 = \\beta_i^2 (\\sigma_m^e)^2 + \\sigma^2_{\\varepsilon_i},\n",
    "$$\n",
    "and this allows us to classify the risk between **systematic risk $(\\sigma_m^e)$** \n",
    "on the one hand and **specific risks $\\sigma_{\\varepsilon_i}$** on the other hand.\n",
    "\n",
    "Furthermore, we can alos define the $R^2$ metrics defined as:\n",
    "$$\n",
    "R^2 := \\frac{ \\beta_i^2 (\\sigma_m^e)^2 }{(\\sigma_i^e)^2}, \n",
    "$$\n",
    "which is **the part of the variance explained by the factor**."
   ]
  },
  {
   "cell_type": "markdown",
   "metadata": {},
   "source": [
    "### Fama-French Model\n",
    "\n",
    "The **Fama-French model** is a **three-factor** model which enhance the CAPM (one-factor model). The three factors are:\n",
    "- **Market Factor**: the market risk (i.e., as in the CAPM),\n",
    "- **Size Factor**: the outperformance of **small versus big** companies,\n",
    "- **Value Factor**: the outperformance of **high book/market versus small book/market** companies.\n",
    "\n",
    "What Fama and French did was to take the entire universe of stocks an put them into ten buckets (**deciles**). They sorted such deciles in two ways. \n",
    "\n",
    "A first sorting was done according to the **size**, i.e., the **market capitalization**, \n",
    "and then they compared the performance of the bottom $10\\%$ companies versus the top $10\\%$ companies according to the size.\n",
    "\n",
    "The second sorting was done according to the **book-to-market ratios** (B/P ratio), and then they did the same, i.e., they looked at \n",
    "the performance of the bottom $10\\%$ companies (Growth Stocks) versus the top $10\\%$ companies (Value Stocks). \n",
    "\n",
    "Fama and French observed that the classes of stocks that have tended to do better than the market as a whole have been \n",
    "(i) the **small caps** (bottom decile w.r.t sizes) and (ii) the **Value Stocks** (top decile w.r.t. B/P ratios). \n",
    "Hence, they introduced the **size factor** and the **value factor** in addition to the **market factor** \n",
    "of simple CAPM and enhance the model ($1993$): \n",
    "$$\n",
    "\\mathbb{E}[r_i] - r_f = \n",
    "\\beta_{i,\\text{MKT}}\\mathbb{E}[r_m - r_f] + \\beta_{i,\\text{SMB}}\\mathbb{E}[\\text{SMB}] + \\beta_{i,\\text{HMS}}\\mathbb{E}[\\text{HMS}],   \n",
    "$$\n",
    "where:\n",
    "- $\\beta_{i,\\text{MKT}}$ is the same $\\beta$ of the CAPM (we stress the dependence on the **market**), \n",
    "- $\\text{SMB}$ means **Small (Size) Minus Big (Size)** stocks, \n",
    "- $\\text{HML}$ means **High (B/P ratio) Minus Low (B/P ratio)** stocks.\n",
    "\n",
    "It is remarkable the fact that **high book-to-price stocks (i.e., Value stocks)**, **small-cap**, and **past winners** stocks \n",
    "have been found to earn a higher return (that is, they have been found to outperform **low book-to-price (Growth)**, **large-cap**, and \n",
    "**past losers** stocks, respectively)."
   ]
  },
  {
   "cell_type": "markdown",
   "metadata": {},
   "source": [
    "### Other Factors\n",
    "In addition to **market**, **value** and **size** factors, the **Momentum Factor** has been also very often used as a meaningful, explanatory variable to try and explain differences in expected return. \n",
    "\n",
    "The **Momentum factor** is defined as the **difference in performance between the past winners and the past losers**. In particular, the momentum can be seen as an attribute of the asset. \n",
    "We can think about the asset, on a given sample period, as being a past winner or a past loser and this would tend to explain some persistence in performance because past winners tend to outperform past losers. \n",
    "\n",
    "Literature has also looked at other factors, including the **Low Volatility factor**, distinguishing the low volatility assets from the high volatility assets. In this case, we found that **low volatility assets tend to outperform high volatility assets** even though they are less risky. \n",
    "\n",
    "There is also a **Liquidity Factor**. Less liquid assets tend to have a higher risk premia associated to them compared to higher liquidity stocks, as expected. \n",
    "\n",
    "Another last factor can be the **Quality Factor**."
   ]
  },
  {
   "cell_type": "markdown",
   "metadata": {},
   "source": [
    "### Assumptions on factors \n",
    "\n",
    "Let us consider tha case of a simple two-factors model ($K=2$): \n",
    "$$\n",
    "r_i^e := r_i - r_f =  \\beta_1^i f_1 + \\beta_2^i f_2 + \\varepsilon_i\n",
    "\\quad \\forall\\;i=1,\\dots,N.\n",
    "$$\n",
    "\n",
    "Now, the variance of the asset's excess return is given by, for all $i$: \n",
    "$$\n",
    "c_{ii}^2 = (\\sigma_i^e)^2 := \\text{Var}\\left(\\beta_1^i f_1 + \\beta_2^i f_2 + \\varepsilon_i\\right) \n",
    "= (\\beta_1^i)^2 \\sigma_{f_1}^2 + (\\beta_2^i)^2 \\sigma_{f_2}^2 + 2\\beta_1^i \\beta_2^i\\text{Cov}(f_1,f_2) + \\sigma_{\\varepsilon_i}^2, \n",
    "$$\n",
    "where we have assumed that the **covariances between factors and errors are zero**. \n",
    "\n",
    "The covariances are then:\n",
    "$$\n",
    "c_{ij} = \\text{Cov}\\left(r_i^e,r_j^e\\right) \n",
    "= \\text{Cov}\\left(\\beta_1^i f_1 + \\beta_2^i f_2 + \\varepsilon_i, \\beta_1^j f_1 + \\beta_2^j f_2 + \\varepsilon_j\\right)\n",
    "= \\beta_1^i \\beta_1^j \\sigma_{f_1}^2 \n",
    "+ \\beta_2^i \\beta_2^j \\sigma_{f_2}^2 \n",
    "+ \\left(\\beta_1^i \\beta_2^j + \\beta_2^i \\beta_1^j\\right) \\text{Cov}(f_1,f_2) + \\text{Cov}(\\varepsilon_i,\\varepsilon_j).\n",
    "$$\n",
    "\n",
    "In a general multi-factor model (with $K$ factors), the variances and covariances are then given by:\n",
    "\\begin{align}\n",
    "c_{ii}^2 &= \\sum_{k=1}^K \\beta_k^i\\sigma_{f_k}^2 + \\sum_{k\\neq n}\\beta_k^i\\beta_n^i \\text{Cov}(f_k,f_n) + \\sigma_{\\varepsilon_i}^2, \\\\\n",
    "c_{ij}   &= \\sum_{k=1}^K \\beta_k^i\\beta_k^j\\sigma_{f_k}^2 + \\sum_{k\\neq n} \\beta_k^i\\beta_n^j \\text{Cov}(f_k,f_n)  \n",
    "+ \\text{Cov}(\\varepsilon_i,\\varepsilon_j) \n",
    "\\quad\\text{for $i\\neq j$}.\n",
    "\\end{align}\n",
    "\n",
    "Now, two things that we should try to do are (i) try to **look for uncorrelated factors**, i.e., $\\text{Cov}(f_k,f_n)=0$, for $k\\neq n$,  \n",
    "and (ii) assume that **errors are uncorrelated**, i.e., $\\text{Cov}(\\varepsilon_i,\\varepsilon_j)=0$, for $i\\neq j$. \n",
    "If a few factors can completely capture the cross-sectional risks, the number of parameters in covariance matrix estimation can be significantly reduced. In particular, the equations above are simplified:\n",
    "\\begin{align}\n",
    "c_{ii}^2 &= \\sum_{k=1}^K \\beta_k^i\\sigma_{f_k}^2  + \\sigma_{\\varepsilon_i}^2, \\\\\n",
    "c_{ij}   &= \\sum_{k=1}^K \\beta_k^i\\beta_k^j\\sigma_{f_k}^2\n",
    "\\quad\\text{for $i\\neq j$}.\n",
    "\\end{align}\n",
    "\n"
   ]
  },
  {
   "cell_type": "markdown",
   "metadata": {},
   "source": [
    "## Regression and Penalty Methods\n",
    "When using a factor model, all is about estimating parameters betas and alphas. \n",
    "Normally, we can conduct **traditional regressions**, where we minimize some error between the return of the asset that we are \n",
    "looking at and the loadings of the factors on that asset.\n",
    "\n",
    "### Classic Least-Squared fit (Ordinary Least-Squared OLS)\n",
    "\n",
    "In this context, we have a $n\\times 1$ vector $\\mathbf{y}$ which is the excess return of the asset under consideration and a $n\\times K$ \n",
    "matrix $X$ which represent our data, i.e., the excess return of the $K$ factors we have chosen. Hence we have to minimize:\n",
    "$$\n",
    "\\text{minimize} \\;\\; \\frac{1}{2N}||\\mathbf{y} - X\\mathbf{\\beta}||_2^2 = \n",
    "\\frac{1}{2N}\\sum_{i=1}^n \\left(y_i  - X_i\\cdot\\mathbf{\\beta}  \\right)^2, \n",
    "$$\n",
    "where $\\mathbf{\\beta}=(\\beta_1,\\dots,\\beta_K, \\alpha)^T$ is the vector of betas and the intercept alpha coefficients, \n",
    "and $X_i$ denotes the $i$-th row of the matrix $X$. \n",
    "The betas give us the best solution fitting of the assets to a linear relationship between the explanatory variables (the factors) \n",
    "and the dependent variable (the return of the asset). \n",
    "\n",
    "For such a minimization problem we can find the analytical expression for coefficients betas and alpha. The solution is given by \n",
    "$$\n",
    "\\beta^{\\text{OLS}} = (X^T X)^{-1} X^T \\mathbf{y}. \n",
    "$$"
   ]
  },
  {
   "cell_type": "markdown",
   "metadata": {},
   "source": [
    "### Penalty method: Ridge methods ($L^2$ penalization)\n",
    "\n",
    "Traditional regression methods are enhanced and made more robust by addign **penalty terms**. In particular, betas values would be much too high or low if the expalantory variables (the factors) had moderate-to-hight correlation. \n",
    "\n",
    "Then we can modify the minimization problem above by adding an extra term which at the end of the day simply \n",
    "**shrinks the optimal betas values**:\n",
    "$$\n",
    "\\text{minimize} \\;\\; \\frac{1}{2N} \\bigl( ||\\mathbf{y} - X\\mathbf{\\beta}||^2_2 + \\lambda||\\beta||_2^2  \\bigr)\n",
    "$$\n",
    "which is equivalent on solving the classic least-squared fit problem with a constraint on the betas coefficients. This method is called **$L^2$ penalization method or Ridge regression**."
   ]
  },
  {
   "cell_type": "markdown",
   "metadata": {},
   "source": [
    "### Penalty method: Lasso methods ($L^1$ penalization)\n",
    "\n",
    "A second modification to the first minimization problem is adding an extra term which, as in the Ridge regression, \n",
    "simply **shrinks the optimal betas values** and increase sparsity of the coefficient:\n",
    "$$\n",
    "\\text{minimize} \\;\\; \\frac{1}{2N} \\bigl( ||\\mathbf{y} - X\\mathbf{\\beta} ||_2^2 + \\lambda||\\beta||_1  \\bigr)\n",
    "$$\n",
    "which is equivalent on solving the classic least-squared fit problem with a constraint on the betas coefficients. This method is called **$L^1$ penalization method or Lasso regression**.\n",
    "\n",
    "Lasso regression results in a sparser solution than Ridge regression (i.e., fewer coefficients with non-zero values)."
   ]
  },
  {
   "cell_type": "markdown",
   "metadata": {},
   "source": [
    "### Penalty method: Elastic Net\n",
    "\n",
    "A third modification of the first minimization problem is putting together both the Lasso and the Ridge penalizations, i.e., we add \n",
    "adding two extra terms for shrinking the optimal betas values and increase sparsity of the coefficient:\n",
    "$$\n",
    "\\text{minimize} \\;\\; \\frac{1}{2N} \\bigl( ||\\mathbf{y} - X\\mathbf{\\beta} ||_2^2 + \\lambda_1||\\beta||_1 + \\lambda_2||\\beta||^2_2  \\bigr).\n",
    "$$\n",
    "This method is called the **Elastic Net regression**.\n"
   ]
  },
  {
   "cell_type": "markdown",
   "metadata": {},
   "source": [
    "### Best Subset Regression \n",
    "\n",
    "Penalized regressions are not the only type of regression we can run. We can also run constrained regressions. \n",
    "Formally, we define an intuitive constrained regression called the **Best Subset Regression** which attempts to find the linear model subject to the constraint that only $x$ factor loadings can be nonzero (in this case, $x$ is an integer that the user defines).\n",
    "\n",
    "The best subset regression is defined as follows. \n",
    "Let $L$ be the number of variables considered, i.e., the explanatory variables of the model (the factors) and let $N$ be the maximum number of variables allowed in the subset. \n",
    "Also let $\\textbf{z}$ be a $L\\times 1$ vector of **binary variables** and let $M$ be a very \n",
    "large number. \n",
    "Then: \n",
    "\\begin{equation*} \n",
    "    {\\hat{\\beta}}^{\\text{Best Subset}} = \\text{argmin}\\left\\{ ||\\mathbf{y} - X\\mathbf{\\beta} ||_2^2 \\right\\}\n",
    "\\end{equation*}\n",
    "subject to:\n",
    "\\begin{cases}\n",
    "\\sum_{i=1}^{L} z_i &\\leq N,  \\\\\n",
    "Mz + \\beta & \\geq 0,         \\\\\n",
    "\\beta  &\\leq Mz,             \\\\\n",
    "\\text{$\\mathbf{z}$ is binary}\n",
    "\\end{cases}"
   ]
  },
  {
   "cell_type": "markdown",
   "metadata": {},
   "source": [
    "### Cross validation\n",
    "\n",
    "The **Cross validation** is a Machine Learning approach for calculating the parameter in a statistical estimation task. \n",
    "Rather than fitting a model to all of the available data, **the approach “sets aside” subsets of the data for a validation phase** and repeat the process a certain number of times (e.g. 10 times). Then it averages the results obtained.\n",
    "\n",
    "For the purpose of factor investing, we add a penalty term to shrink the beta estimates, the factor loadings in the regression model \n",
    "(e.g., by using Ridge or Lasso regression). In addition, we add a penalty parameter that determines the best degree of shrinkage. \n",
    "This hyper parameter is calculated by identifying the value with the lowest out-of-sample error. \n",
    "Thus, **cross validation reduces the chances of overfitting**."
   ]
  },
  {
   "cell_type": "markdown",
   "metadata": {},
   "source": [
    "## Example of 5-factor models \n",
    "\n",
    "In the following example, we are interested in explaining the asset returns with a **five-factor model**:\n",
    "- **World Equity**: this factor represents worldwide equity returns.\n",
    "- **US Treasury**: this factor contains returns from treasury bonds in United States, the bonds with the least risk.\n",
    "- **Bond Risk Premia**: this is a credit factor that captures extra yield from risky bonds. It is defined as the spread between high risk bonds and US Treasury bonds.\n",
    "- **Inflation Protection**: this is a *style* factor that considers the difference between real and nominal returns, thus balances the need for both.\n",
    "- **Currency Protection**: this is also a *style* factor that includes risk premia for US domestic assets.\n",
    "\n",
    "We have the data for the above factors and for the following set of assets:\n",
    "- **US Equities**:\n",
    "- **Real Estate**:\n",
    "- **Commodities**:\n",
    "- **Corp Bonds**:"
   ]
  },
  {
   "cell_type": "code",
   "execution_count": 367,
   "metadata": {},
   "outputs": [
    {
     "data": {
      "text/html": [
       "<div>\n",
       "<style scoped>\n",
       "    .dataframe tbody tr th:only-of-type {\n",
       "        vertical-align: middle;\n",
       "    }\n",
       "\n",
       "    .dataframe tbody tr th {\n",
       "        vertical-align: top;\n",
       "    }\n",
       "\n",
       "    .dataframe thead th {\n",
       "        text-align: right;\n",
       "    }\n",
       "</style>\n",
       "<table border=\"1\" class=\"dataframe\">\n",
       "  <thead>\n",
       "    <tr style=\"text-align: right;\">\n",
       "      <th></th>\n",
       "      <th>World Equities</th>\n",
       "      <th>US Treasuries</th>\n",
       "      <th>Bond Risk Premium</th>\n",
       "      <th>Inflation Protection</th>\n",
       "      <th>Currency Protection</th>\n",
       "      <th>Regime-5</th>\n",
       "      <th>Regime-7</th>\n",
       "      <th>US Equities</th>\n",
       "      <th>Real Estate</th>\n",
       "      <th>Commodities</th>\n",
       "      <th>Corp Bonds</th>\n",
       "    </tr>\n",
       "    <tr>\n",
       "      <th>Date</th>\n",
       "      <th></th>\n",
       "      <th></th>\n",
       "      <th></th>\n",
       "      <th></th>\n",
       "      <th></th>\n",
       "      <th></th>\n",
       "      <th></th>\n",
       "      <th></th>\n",
       "      <th></th>\n",
       "      <th></th>\n",
       "      <th></th>\n",
       "    </tr>\n",
       "  </thead>\n",
       "  <tbody>\n",
       "    <tr>\n",
       "      <th>1985-01</th>\n",
       "      <td>0.028511</td>\n",
       "      <td>0.031500</td>\n",
       "      <td>0.006408</td>\n",
       "      <td>-0.016265</td>\n",
       "      <td>0.030292</td>\n",
       "      <td>1</td>\n",
       "      <td>1</td>\n",
       "      <td>0.081301</td>\n",
       "      <td>0.056605</td>\n",
       "      <td>0.021351</td>\n",
       "      <td>0.048963</td>\n",
       "    </tr>\n",
       "    <tr>\n",
       "      <th>1985-02</th>\n",
       "      <td>-0.009204</td>\n",
       "      <td>-0.044692</td>\n",
       "      <td>0.057381</td>\n",
       "      <td>0.006362</td>\n",
       "      <td>0.010258</td>\n",
       "      <td>1</td>\n",
       "      <td>1</td>\n",
       "      <td>0.030075</td>\n",
       "      <td>0.016448</td>\n",
       "      <td>-0.015217</td>\n",
       "      <td>-0.042029</td>\n",
       "    </tr>\n",
       "    <tr>\n",
       "      <th>1985-03</th>\n",
       "      <td>0.075134</td>\n",
       "      <td>0.028719</td>\n",
       "      <td>-0.024396</td>\n",
       "      <td>-0.002848</td>\n",
       "      <td>-0.020739</td>\n",
       "      <td>1</td>\n",
       "      <td>1</td>\n",
       "      <td>-0.007299</td>\n",
       "      <td>-0.006716</td>\n",
       "      <td>0.037171</td>\n",
       "      <td>0.032666</td>\n",
       "    </tr>\n",
       "    <tr>\n",
       "      <th>1985-04</th>\n",
       "      <td>-0.002459</td>\n",
       "      <td>0.023084</td>\n",
       "      <td>-0.004869</td>\n",
       "      <td>0.003089</td>\n",
       "      <td>0.008187</td>\n",
       "      <td>1</td>\n",
       "      <td>1</td>\n",
       "      <td>-0.012255</td>\n",
       "      <td>0.000906</td>\n",
       "      <td>-0.035116</td>\n",
       "      <td>0.037125</td>\n",
       "    </tr>\n",
       "    <tr>\n",
       "      <th>1985-05</th>\n",
       "      <td>0.040245</td>\n",
       "      <td>0.086780</td>\n",
       "      <td>-0.044417</td>\n",
       "      <td>0.004077</td>\n",
       "      <td>-0.002219</td>\n",
       "      <td>1</td>\n",
       "      <td>1</td>\n",
       "      <td>0.064516</td>\n",
       "      <td>0.027241</td>\n",
       "      <td>0.004351</td>\n",
       "      <td>0.104199</td>\n",
       "    </tr>\n",
       "  </tbody>\n",
       "</table>\n",
       "</div>"
      ],
      "text/plain": [
       "         World Equities  US Treasuries  Bond Risk Premium  \\\n",
       "Date                                                        \n",
       "1985-01        0.028511       0.031500           0.006408   \n",
       "1985-02       -0.009204      -0.044692           0.057381   \n",
       "1985-03        0.075134       0.028719          -0.024396   \n",
       "1985-04       -0.002459       0.023084          -0.004869   \n",
       "1985-05        0.040245       0.086780          -0.044417   \n",
       "\n",
       "         Inflation Protection  Currency Protection  Regime-5  Regime-7  \\\n",
       "Date                                                                     \n",
       "1985-01             -0.016265             0.030292         1         1   \n",
       "1985-02              0.006362             0.010258         1         1   \n",
       "1985-03             -0.002848            -0.020739         1         1   \n",
       "1985-04              0.003089             0.008187         1         1   \n",
       "1985-05              0.004077            -0.002219         1         1   \n",
       "\n",
       "         US Equities  Real Estate  Commodities  Corp Bonds  \n",
       "Date                                                        \n",
       "1985-01     0.081301     0.056605     0.021351    0.048963  \n",
       "1985-02     0.030075     0.016448    -0.015217   -0.042029  \n",
       "1985-03    -0.007299    -0.006716     0.037171    0.032666  \n",
       "1985-04    -0.012255     0.000906    -0.035116    0.037125  \n",
       "1985-05     0.064516     0.027241     0.004351    0.104199  "
      ]
     },
     "execution_count": 367,
     "metadata": {},
     "output_type": "execute_result"
    }
   ],
   "source": [
    "factors_assets = mla.get_factors_and_assets()\n",
    "factor_names   = list( factors_assets.columns[:5] )\n",
    "asset_names    = list( factors_assets.columns[7:] )\n",
    "factors_assets.head()"
   ]
  },
  {
   "cell_type": "code",
   "execution_count": 368,
   "metadata": {},
   "outputs": [
    {
     "data": {
      "image/png": "[encoded data removed]",
      "text/plain": [
       "<Figure size 576x360 with 1 Axes>"
      ]
     },
     "metadata": {},
     "output_type": "display_data"
    }
   ],
   "source": [
    "fs = [\"Real Estate\",\"Commodities\"]\n",
    "erk.compound_returns(factors_assets[fs], start=1).plot(grid=True, figsize=(8,5), logy=True, title=\"Total returns of assets\")\n",
    "plt.show()"
   ]
  },
  {
   "cell_type": "code",
   "execution_count": 369,
   "metadata": {},
   "outputs": [],
   "source": [
    "# choose Real Estate as the dependent variable and using the 5 factors as explanatory variables\n",
    "factors = factors_assets[factor_names].values\n",
    "assets  = factors_assets[asset_names].values\n",
    "y = factors_assets[\"Real Estate\"].values"
   ]
  },
  {
   "cell_type": "code",
   "execution_count": 371,
   "metadata": {},
   "outputs": [
    {
     "data": {
      "text/html": [
       "<div>\n",
       "<style scoped>\n",
       "    .dataframe tbody tr th:only-of-type {\n",
       "        vertical-align: middle;\n",
       "    }\n",
       "\n",
       "    .dataframe tbody tr th {\n",
       "        vertical-align: top;\n",
       "    }\n",
       "\n",
       "    .dataframe thead th {\n",
       "        text-align: right;\n",
       "    }\n",
       "</style>\n",
       "<table border=\"1\" class=\"dataframe\">\n",
       "  <thead>\n",
       "    <tr style=\"text-align: right;\">\n",
       "      <th></th>\n",
       "      <th>World Equities</th>\n",
       "      <th>US Treasuries</th>\n",
       "      <th>Bond Risk Premium</th>\n",
       "      <th>Inflation Protection</th>\n",
       "      <th>Currency Protection</th>\n",
       "      <th>alpha</th>\n",
       "    </tr>\n",
       "  </thead>\n",
       "  <tbody>\n",
       "    <tr>\n",
       "      <th>beta</th>\n",
       "      <td>0.310261</td>\n",
       "      <td>1.212508</td>\n",
       "      <td>1.054238</td>\n",
       "      <td>0.287919</td>\n",
       "      <td>0.36184</td>\n",
       "      <td>-0.003587</td>\n",
       "    </tr>\n",
       "  </tbody>\n",
       "</table>\n",
       "</div>"
      ],
      "text/plain": [
       "      World Equities  US Treasuries  Bond Risk Premium  Inflation Protection  \\\n",
       "beta        0.310261       1.212508           1.054238              0.287919   \n",
       "\n",
       "      Currency Protection     alpha  \n",
       "beta              0.36184 -0.003587  "
      ]
     },
     "execution_count": 371,
     "metadata": {},
     "output_type": "execute_result"
    }
   ],
   "source": [
    "# Linear Regression (OLS) using analytical formula\n",
    "factors_ones = np.concatenate( (factors, np.ones((factors.shape[0],1))), axis=1 )\n",
    "betas = np.linalg.inv( factors_ones.T.dot(factors_ones) ).dot( factors_ones.T ).dot( y )\n",
    "betas = mla.display_betas(betas, factor_names) \n",
    "betas"
   ]
  },
  {
   "cell_type": "code",
   "execution_count": 372,
   "metadata": {},
   "outputs": [
    {
     "data": {
      "text/html": [
       "<div>\n",
       "<style scoped>\n",
       "    .dataframe tbody tr th:only-of-type {\n",
       "        vertical-align: middle;\n",
       "    }\n",
       "\n",
       "    .dataframe tbody tr th {\n",
       "        vertical-align: top;\n",
       "    }\n",
       "\n",
       "    .dataframe thead th {\n",
       "        text-align: right;\n",
       "    }\n",
       "</style>\n",
       "<table border=\"1\" class=\"dataframe\">\n",
       "  <thead>\n",
       "    <tr style=\"text-align: right;\">\n",
       "      <th></th>\n",
       "      <th>World Equities</th>\n",
       "      <th>US Treasuries</th>\n",
       "      <th>Bond Risk Premium</th>\n",
       "      <th>Inflation Protection</th>\n",
       "      <th>Currency Protection</th>\n",
       "      <th>alpha</th>\n",
       "    </tr>\n",
       "  </thead>\n",
       "  <tbody>\n",
       "    <tr>\n",
       "      <th>beta</th>\n",
       "      <td>0.310261</td>\n",
       "      <td>1.212508</td>\n",
       "      <td>1.054238</td>\n",
       "      <td>0.287919</td>\n",
       "      <td>0.36184</td>\n",
       "      <td>-0.003587</td>\n",
       "    </tr>\n",
       "  </tbody>\n",
       "</table>\n",
       "</div>"
      ],
      "text/plain": [
       "      World Equities  US Treasuries  Bond Risk Premium  Inflation Protection  \\\n",
       "beta        0.310261       1.212508           1.054238              0.287919   \n",
       "\n",
       "      Currency Protection     alpha  \n",
       "beta              0.36184 -0.003587  "
      ]
     },
     "execution_count": 372,
     "metadata": {},
     "output_type": "execute_result"
    }
   ],
   "source": [
    "# Linear Regression (OLS) using statsmodels OLS method implemented in our kit\n",
    "lm = erk.linear_regression(y, factors)\n",
    "betas = mla.display_betas(lm.params, factor_names)\n",
    "betas"
   ]
  },
  {
   "cell_type": "markdown",
   "metadata": {},
   "source": [
    "Right, they coincide. We can also use the method **linear_regression_sk** which uses **scikit-learn** library:"
   ]
  },
  {
   "cell_type": "code",
   "execution_count": 373,
   "metadata": {},
   "outputs": [
    {
     "data": {
      "text/html": [
       "<div>\n",
       "<style scoped>\n",
       "    .dataframe tbody tr th:only-of-type {\n",
       "        vertical-align: middle;\n",
       "    }\n",
       "\n",
       "    .dataframe tbody tr th {\n",
       "        vertical-align: top;\n",
       "    }\n",
       "\n",
       "    .dataframe thead th {\n",
       "        text-align: right;\n",
       "    }\n",
       "</style>\n",
       "<table border=\"1\" class=\"dataframe\">\n",
       "  <thead>\n",
       "    <tr style=\"text-align: right;\">\n",
       "      <th></th>\n",
       "      <th>World Equities</th>\n",
       "      <th>US Treasuries</th>\n",
       "      <th>Bond Risk Premium</th>\n",
       "      <th>Inflation Protection</th>\n",
       "      <th>Currency Protection</th>\n",
       "      <th>alpha</th>\n",
       "    </tr>\n",
       "  </thead>\n",
       "  <tbody>\n",
       "    <tr>\n",
       "      <th>beta</th>\n",
       "      <td>0.310261</td>\n",
       "      <td>1.212508</td>\n",
       "      <td>1.054238</td>\n",
       "      <td>0.287919</td>\n",
       "      <td>0.36184</td>\n",
       "      <td>-0.003587</td>\n",
       "    </tr>\n",
       "  </tbody>\n",
       "</table>\n",
       "</div>"
      ],
      "text/plain": [
       "      World Equities  US Treasuries  Bond Risk Premium  Inflation Protection  \\\n",
       "beta        0.310261       1.212508           1.054238              0.287919   \n",
       "\n",
       "      Currency Protection     alpha  \n",
       "beta              0.36184 -0.003587  "
      ]
     },
     "execution_count": 373,
     "metadata": {},
     "output_type": "execute_result"
    }
   ],
   "source": [
    "lm = mla.linear_regression_sk(y, factors)\n",
    "betas = mla.display_betas( np.append(lm.coef_, lm.intercept_), factor_names)\n",
    "betas"
   ]
  },
  {
   "cell_type": "markdown",
   "metadata": {},
   "source": [
    "### OLS Drawbacks \n",
    "\n",
    "OLS has major drawbacks. First, OLS has **no mechanism to filter out noise variables**. Second, it assumes that **factor loadings are constant over time**. In practice, you will generally have many variables that you would like to filter down.  Moreover, the assumption that the factor loadings are constant over time is restrictive, and not true.  In fact, we will show that factor loadings are highly dependent on the time period.\n",
    "\n",
    "To demonstrate how OLS can be susceptible to noise, we introduce **a noise variable positively correlated with the World Equities factor**. \n",
    "Then we re-run the OLS regression and we will see that the regression chosses to average the two signals, \n",
    "changing the loading on the World Equity factor:"
   ]
  },
  {
   "cell_type": "code",
   "execution_count": 374,
   "metadata": {},
   "outputs": [],
   "source": [
    "factors_plus_noise = factors_assets[factor_names].copy()\n",
    "factors_plus_noise_names = factor_names + [\"Noise\"]"
   ]
  },
  {
   "cell_type": "code",
   "execution_count": 375,
   "metadata": {},
   "outputs": [],
   "source": [
    "ndata = factors_assets.shape[0]\n",
    "noise = np.random.normal(loc=0, scale=2*factors_assets[\"World Equities\"].std(), size=ndata)\n",
    "noise = np.reshape( noise + factors_assets[\"World Equities\"].values, (ndata,1) )"
   ]
  },
  {
   "cell_type": "code",
   "execution_count": 376,
   "metadata": {},
   "outputs": [],
   "source": [
    "factors_plus_noise[\"Noise\"] = noise"
   ]
  },
  {
   "cell_type": "code",
   "execution_count": 377,
   "metadata": {},
   "outputs": [
    {
     "data": {
      "text/html": [
       "<div>\n",
       "<style scoped>\n",
       "    .dataframe tbody tr th:only-of-type {\n",
       "        vertical-align: middle;\n",
       "    }\n",
       "\n",
       "    .dataframe tbody tr th {\n",
       "        vertical-align: top;\n",
       "    }\n",
       "\n",
       "    .dataframe thead th {\n",
       "        text-align: right;\n",
       "    }\n",
       "</style>\n",
       "<table border=\"1\" class=\"dataframe\">\n",
       "  <thead>\n",
       "    <tr style=\"text-align: right;\">\n",
       "      <th></th>\n",
       "      <th>World Equities</th>\n",
       "      <th>US Treasuries</th>\n",
       "      <th>Bond Risk Premium</th>\n",
       "      <th>Inflation Protection</th>\n",
       "      <th>Currency Protection</th>\n",
       "      <th>Noise</th>\n",
       "      <th>alpha</th>\n",
       "    </tr>\n",
       "  </thead>\n",
       "  <tbody>\n",
       "    <tr>\n",
       "      <th>beta</th>\n",
       "      <td>0.308896</td>\n",
       "      <td>1.212651</td>\n",
       "      <td>1.054312</td>\n",
       "      <td>0.28735</td>\n",
       "      <td>0.361935</td>\n",
       "      <td>0.001284</td>\n",
       "      <td>-0.003585</td>\n",
       "    </tr>\n",
       "  </tbody>\n",
       "</table>\n",
       "</div>"
      ],
      "text/plain": [
       "      World Equities  US Treasuries  Bond Risk Premium  Inflation Protection  \\\n",
       "beta        0.308896       1.212651           1.054312               0.28735   \n",
       "\n",
       "      Currency Protection     Noise     alpha  \n",
       "beta             0.361935  0.001284 -0.003585  "
      ]
     },
     "execution_count": 377,
     "metadata": {},
     "output_type": "execute_result"
    }
   ],
   "source": [
    "lm = mla.linear_regression_sk(y, factors_plus_noise)\n",
    "betas = mla.display_betas( np.append(lm.coef_, lm.intercept_), factors_plus_noise_names)\n",
    "betas"
   ]
  },
  {
   "cell_type": "markdown",
   "metadata": {},
   "source": [
    "To demonstrate on the drawback of the OLS regression we show that **the OLS estimator depends greatly on the time period**. \n",
    "We pick different time periods and run the OLS regression and see that the factor loadings can change dramatically \n",
    "depending on the time period. \n",
    "\n",
    "We filter the data into two different regimes: a first **normal regime** will be months where US Equities had a positive monthly return and a second **crash regime** being the months where US Equities had a negative return. \n",
    "These are crude approximations, but even with this crude definition we will return substantially different factor loadings:"
   ]
  },
  {
   "cell_type": "code",
   "execution_count": 378,
   "metadata": {},
   "outputs": [
    {
     "data": {
      "text/html": [
       "<div>\n",
       "<style scoped>\n",
       "    .dataframe tbody tr th:only-of-type {\n",
       "        vertical-align: middle;\n",
       "    }\n",
       "\n",
       "    .dataframe tbody tr th {\n",
       "        vertical-align: top;\n",
       "    }\n",
       "\n",
       "    .dataframe thead th {\n",
       "        text-align: right;\n",
       "    }\n",
       "</style>\n",
       "<table border=\"1\" class=\"dataframe\">\n",
       "  <thead>\n",
       "    <tr style=\"text-align: right;\">\n",
       "      <th></th>\n",
       "      <th>World Equities</th>\n",
       "      <th>US Treasuries</th>\n",
       "      <th>Bond Risk Premium</th>\n",
       "      <th>Inflation Protection</th>\n",
       "      <th>Currency Protection</th>\n",
       "      <th>alpha</th>\n",
       "    </tr>\n",
       "  </thead>\n",
       "  <tbody>\n",
       "    <tr>\n",
       "      <th>beta</th>\n",
       "      <td>0.15022</td>\n",
       "      <td>1.30286</td>\n",
       "      <td>1.100558</td>\n",
       "      <td>0.210193</td>\n",
       "      <td>0.05183</td>\n",
       "      <td>0.00348</td>\n",
       "    </tr>\n",
       "  </tbody>\n",
       "</table>\n",
       "</div>"
      ],
      "text/plain": [
       "      World Equities  US Treasuries  Bond Risk Premium  Inflation Protection  \\\n",
       "beta         0.15022        1.30286           1.100558              0.210193   \n",
       "\n",
       "      Currency Protection    alpha  \n",
       "beta              0.05183  0.00348  "
      ]
     },
     "execution_count": 378,
     "metadata": {},
     "output_type": "execute_result"
    }
   ],
   "source": [
    "# filtering data for positive US Equities - normal regime \n",
    "normal_data = factors_assets[factors_assets[\"US Equities\"] > 0].copy()\n",
    "normal_factors = normal_data[factor_names]\n",
    "normal_y = normal_data[asset_names][\"Real Estate\"]\n",
    "\n",
    "lm = mla.linear_regression_sk(normal_y, normal_factors)\n",
    "betas = mla.display_betas( np.append(lm.coef_, lm.intercept_), factor_names)\n",
    "betas"
   ]
  },
  {
   "cell_type": "code",
   "execution_count": 379,
   "metadata": {},
   "outputs": [
    {
     "data": {
      "text/html": [
       "<div>\n",
       "<style scoped>\n",
       "    .dataframe tbody tr th:only-of-type {\n",
       "        vertical-align: middle;\n",
       "    }\n",
       "\n",
       "    .dataframe tbody tr th {\n",
       "        vertical-align: top;\n",
       "    }\n",
       "\n",
       "    .dataframe thead th {\n",
       "        text-align: right;\n",
       "    }\n",
       "</style>\n",
       "<table border=\"1\" class=\"dataframe\">\n",
       "  <thead>\n",
       "    <tr style=\"text-align: right;\">\n",
       "      <th></th>\n",
       "      <th>World Equities</th>\n",
       "      <th>US Treasuries</th>\n",
       "      <th>Bond Risk Premium</th>\n",
       "      <th>Inflation Protection</th>\n",
       "      <th>Currency Protection</th>\n",
       "      <th>alpha</th>\n",
       "    </tr>\n",
       "  </thead>\n",
       "  <tbody>\n",
       "    <tr>\n",
       "      <th>beta</th>\n",
       "      <td>0.365824</td>\n",
       "      <td>0.959781</td>\n",
       "      <td>0.792532</td>\n",
       "      <td>0.540801</td>\n",
       "      <td>0.588727</td>\n",
       "      <td>-0.011274</td>\n",
       "    </tr>\n",
       "  </tbody>\n",
       "</table>\n",
       "</div>"
      ],
      "text/plain": [
       "      World Equities  US Treasuries  Bond Risk Premium  Inflation Protection  \\\n",
       "beta        0.365824       0.959781           0.792532              0.540801   \n",
       "\n",
       "      Currency Protection     alpha  \n",
       "beta             0.588727 -0.011274  "
      ]
     },
     "execution_count": 379,
     "metadata": {},
     "output_type": "execute_result"
    }
   ],
   "source": [
    "# filtering data for negative US Equities - crash regime \n",
    "crash_data = factors_assets[factors_assets[\"US Equities\"] <= 0].copy()\n",
    "crash_factors = crash_data[factor_names]\n",
    "crash_y = crash_data[asset_names][\"Real Estate\"]\n",
    "\n",
    "lm = mla.linear_regression_sk(crash_y, crash_factors)\n",
    "betas = mla.display_betas( np.append(lm.coef_, lm.intercept_), factor_names)\n",
    "betas"
   ]
  },
  {
   "cell_type": "markdown",
   "metadata": {},
   "source": [
    "Even with a crude definition of a **crash regime** we have isolated different factor loadings. \n",
    "Notice that during normal periods the loading on Currency Protection is close to zero, but during crash periods is **10x** larger."
   ]
  },
  {
   "cell_type": "markdown",
   "metadata": {},
   "source": [
    "#### Lasso Regression "
   ]
  },
  {
   "cell_type": "markdown",
   "metadata": {},
   "source": [
    "For penalty methods, $\\lambda$ is an hyperparameter that we need to choose. Now, **scikit-learn does not use $\\lambda$**. It rather \n",
    "uses the parameter $\\alpha$ which can be related to $\\lambda$ via the following equation:\n",
    "$$\n",
    "\\alpha = \\frac{\\lambda}{2 n},\n",
    "$$\n",
    "where $n$ is the number of data points."
   ]
  },
  {
   "cell_type": "code",
   "execution_count": 380,
   "metadata": {},
   "outputs": [
    {
     "data": {
      "text/html": [
       "<div>\n",
       "<style scoped>\n",
       "    .dataframe tbody tr th:only-of-type {\n",
       "        vertical-align: middle;\n",
       "    }\n",
       "\n",
       "    .dataframe tbody tr th {\n",
       "        vertical-align: top;\n",
       "    }\n",
       "\n",
       "    .dataframe thead th {\n",
       "        text-align: right;\n",
       "    }\n",
       "</style>\n",
       "<table border=\"1\" class=\"dataframe\">\n",
       "  <thead>\n",
       "    <tr style=\"text-align: right;\">\n",
       "      <th></th>\n",
       "      <th>World Equities</th>\n",
       "      <th>US Treasuries</th>\n",
       "      <th>Bond Risk Premium</th>\n",
       "      <th>Inflation Protection</th>\n",
       "      <th>Currency Protection</th>\n",
       "      <th>alpha</th>\n",
       "    </tr>\n",
       "  </thead>\n",
       "  <tbody>\n",
       "    <tr>\n",
       "      <th>beta</th>\n",
       "      <td>0.349738</td>\n",
       "      <td>0.5422</td>\n",
       "      <td>0.574002</td>\n",
       "      <td>0.0</td>\n",
       "      <td>0.0</td>\n",
       "      <td>0.001834</td>\n",
       "    </tr>\n",
       "  </tbody>\n",
       "</table>\n",
       "</div>"
      ],
      "text/plain": [
       "      World Equities  US Treasuries  Bond Risk Premium  Inflation Protection  \\\n",
       "beta        0.349738         0.5422           0.574002                   0.0   \n",
       "\n",
       "      Currency Protection     alpha  \n",
       "beta                  0.0  0.001834  "
      ]
     },
     "execution_count": 380,
     "metadata": {},
     "output_type": "execute_result"
    }
   ],
   "source": [
    "# for now let's arbitrarily pick lambda = 0.1\n",
    "lambdapar = 0.1\n",
    "lm = mla.lasso_regression_sk(y, factors, lambdapar=lambdapar)\n",
    "betas = mla.display_betas( np.append(lm.coef_, lm.intercept_), factor_names)\n",
    "betas"
   ]
  },
  {
   "cell_type": "markdown",
   "metadata": {},
   "source": [
    "Let us show how the Lasso regression filters out the noise variable:"
   ]
  },
  {
   "cell_type": "code",
   "execution_count": 381,
   "metadata": {},
   "outputs": [
    {
     "data": {
      "text/html": [
       "<div>\n",
       "<style scoped>\n",
       "    .dataframe tbody tr th:only-of-type {\n",
       "        vertical-align: middle;\n",
       "    }\n",
       "\n",
       "    .dataframe tbody tr th {\n",
       "        vertical-align: top;\n",
       "    }\n",
       "\n",
       "    .dataframe thead th {\n",
       "        text-align: right;\n",
       "    }\n",
       "</style>\n",
       "<table border=\"1\" class=\"dataframe\">\n",
       "  <thead>\n",
       "    <tr style=\"text-align: right;\">\n",
       "      <th></th>\n",
       "      <th>World Equities</th>\n",
       "      <th>US Treasuries</th>\n",
       "      <th>Bond Risk Premium</th>\n",
       "      <th>Inflation Protection</th>\n",
       "      <th>Currency Protection</th>\n",
       "      <th>Noise</th>\n",
       "      <th>alpha</th>\n",
       "    </tr>\n",
       "  </thead>\n",
       "  <tbody>\n",
       "    <tr>\n",
       "      <th>beta</th>\n",
       "      <td>0.346528</td>\n",
       "      <td>0.542612</td>\n",
       "      <td>0.574044</td>\n",
       "      <td>0.0</td>\n",
       "      <td>0.0</td>\n",
       "      <td>0.00302</td>\n",
       "      <td>0.001838</td>\n",
       "    </tr>\n",
       "  </tbody>\n",
       "</table>\n",
       "</div>"
      ],
      "text/plain": [
       "      World Equities  US Treasuries  Bond Risk Premium  Inflation Protection  \\\n",
       "beta        0.346528       0.542612           0.574044                   0.0   \n",
       "\n",
       "      Currency Protection    Noise     alpha  \n",
       "beta                  0.0  0.00302  0.001838  "
      ]
     },
     "execution_count": 381,
     "metadata": {},
     "output_type": "execute_result"
    }
   ],
   "source": [
    "lm = mla.lasso_regression_sk(y, factors_plus_noise, lambdapar=lambdapar)\n",
    "betas = mla.display_betas( np.append(lm.coef_, lm.intercept_), factors_plus_noise_names)\n",
    "betas"
   ]
  },
  {
   "cell_type": "code",
   "execution_count": 382,
   "metadata": {},
   "outputs": [
    {
     "data": {
      "text/html": [
       "<div>\n",
       "<style scoped>\n",
       "    .dataframe tbody tr th:only-of-type {\n",
       "        vertical-align: middle;\n",
       "    }\n",
       "\n",
       "    .dataframe tbody tr th {\n",
       "        vertical-align: top;\n",
       "    }\n",
       "\n",
       "    .dataframe thead th {\n",
       "        text-align: right;\n",
       "    }\n",
       "</style>\n",
       "<table border=\"1\" class=\"dataframe\">\n",
       "  <thead>\n",
       "    <tr style=\"text-align: right;\">\n",
       "      <th></th>\n",
       "      <th>World Equities</th>\n",
       "      <th>US Treasuries</th>\n",
       "      <th>Bond Risk Premium</th>\n",
       "      <th>Inflation Protection</th>\n",
       "      <th>Currency Protection</th>\n",
       "      <th>Noise</th>\n",
       "      <th>alpha</th>\n",
       "    </tr>\n",
       "  </thead>\n",
       "  <tbody>\n",
       "    <tr>\n",
       "      <th>beta</th>\n",
       "      <td>0.405948</td>\n",
       "      <td>0.0</td>\n",
       "      <td>0.12743</td>\n",
       "      <td>0.0</td>\n",
       "      <td>0.0</td>\n",
       "      <td>0.002316</td>\n",
       "      <td>0.005355</td>\n",
       "    </tr>\n",
       "  </tbody>\n",
       "</table>\n",
       "</div>"
      ],
      "text/plain": [
       "      World Equities  US Treasuries  Bond Risk Premium  Inflation Protection  \\\n",
       "beta        0.405948            0.0            0.12743                   0.0   \n",
       "\n",
       "      Currency Protection     Noise     alpha  \n",
       "beta                  0.0  0.002316  0.005355  "
      ]
     },
     "execution_count": 382,
     "metadata": {},
     "output_type": "execute_result"
    }
   ],
   "source": [
    "# another try with lambda = 0.2\n",
    "lm = mla.lasso_regression_sk(y, factors_plus_noise, lambdapar=0.2)\n",
    "betas = mla.display_betas( np.append(lm.coef_, lm.intercept_), factors_plus_noise_names)\n",
    "betas"
   ]
  },
  {
   "cell_type": "markdown",
   "metadata": {},
   "source": [
    "### Cross Validation\n",
    "In the experiments above with Lasso regression we had indeed another problem, the choice of $\\lambda$. \n",
    "In practice, most people use **cross-validation** to find out an optimal value. \n",
    "We will not give a formal definition of cross-validation here, and instead we will give a heuristic.\n",
    "\n",
    "In **cross-validation**, we first break the training set into $K$ folds, and define a list of $\\lambda$ values. \n",
    "For each fold, and for each $\\lambda$, we train the model $k-1$ other folds, and calculate the error on the test fold. At the end of this, you will have $K$ out of sample errors for each value of lambda. Then we pick the $\\lambda$ which produces the average error across \n",
    "the out of sample tests.\n",
    "\n",
    "Here we use cross validation to pick the optimal lambda value for Lasso regression:"
   ]
  },
  {
   "cell_type": "markdown",
   "metadata": {},
   "source": [
    "#### Lasso Regression "
   ]
  },
  {
   "cell_type": "code",
   "execution_count": 389,
   "metadata": {},
   "outputs": [
    {
     "name": "stderr",
     "output_type": "stream",
     "text": [
      "/anaconda3/lib/python3.7/site-packages/sklearn/model_selection/_search.py:841: DeprecationWarning: The default of the `iid` parameter will change from True to False in version 0.22 and will be removed in 0.24. This will change numeric results when test-set sizes are unequal.\n",
      "  DeprecationWarning)\n"
     ]
    }
   ],
   "source": [
    "gsCV = mla.cross_val_lasso_regression(y, factors, lambda_max=0.25, n_lambdas=100, n_folds=10, rs=7777)"
   ]
  },
  {
   "cell_type": "code",
   "execution_count": 390,
   "metadata": {},
   "outputs": [
    {
     "name": "stdout",
     "output_type": "stream",
     "text": [
      "best lambda: 0.048634343434343426\n"
     ]
    }
   ],
   "source": [
    "best_lambda = mla.recover_regression_bestpar_from_gsCV(gsCV, factors, \"lasso\")"
   ]
  },
  {
   "cell_type": "code",
   "execution_count": 391,
   "metadata": {},
   "outputs": [
    {
     "data": {
      "text/html": [
       "<div>\n",
       "<style scoped>\n",
       "    .dataframe tbody tr th:only-of-type {\n",
       "        vertical-align: middle;\n",
       "    }\n",
       "\n",
       "    .dataframe tbody tr th {\n",
       "        vertical-align: top;\n",
       "    }\n",
       "\n",
       "    .dataframe thead th {\n",
       "        text-align: right;\n",
       "    }\n",
       "</style>\n",
       "<table border=\"1\" class=\"dataframe\">\n",
       "  <thead>\n",
       "    <tr style=\"text-align: right;\">\n",
       "      <th></th>\n",
       "      <th>World Equities</th>\n",
       "      <th>US Treasuries</th>\n",
       "      <th>Bond Risk Premium</th>\n",
       "      <th>Inflation Protection</th>\n",
       "      <th>Currency Protection</th>\n",
       "      <th>alpha</th>\n",
       "    </tr>\n",
       "  </thead>\n",
       "  <tbody>\n",
       "    <tr>\n",
       "      <th>beta</th>\n",
       "      <td>0.311805</td>\n",
       "      <td>0.875641</td>\n",
       "      <td>0.835079</td>\n",
       "      <td>0.044825</td>\n",
       "      <td>0.0</td>\n",
       "      <td>-0.000342</td>\n",
       "    </tr>\n",
       "  </tbody>\n",
       "</table>\n",
       "</div>"
      ],
      "text/plain": [
       "      World Equities  US Treasuries  Bond Risk Premium  Inflation Protection  \\\n",
       "beta        0.311805       0.875641           0.835079              0.044825   \n",
       "\n",
       "      Currency Protection     alpha  \n",
       "beta                  0.0 -0.000342  "
      ]
     },
     "execution_count": 391,
     "metadata": {},
     "output_type": "execute_result"
    }
   ],
   "source": [
    "# Regression using the best estimator\n",
    "betas = np.append(gsCV.best_estimator_.coef_, gsCV.best_estimator_.intercept_)\n",
    "betas = mla.display_betas(betas, factor_names)\n",
    "betas"
   ]
  },
  {
   "cell_type": "markdown",
   "metadata": {},
   "source": [
    "Let us run the cross-validation Lasso regression in the case of noise:"
   ]
  },
  {
   "cell_type": "code",
   "execution_count": 392,
   "metadata": {},
   "outputs": [
    {
     "name": "stderr",
     "output_type": "stream",
     "text": [
      "/anaconda3/lib/python3.7/site-packages/sklearn/model_selection/_search.py:841: DeprecationWarning: The default of the `iid` parameter will change from True to False in version 0.22 and will be removed in 0.24. This will change numeric results when test-set sizes are unequal.\n",
      "  DeprecationWarning)\n"
     ]
    }
   ],
   "source": [
    "gsCV = mla.cross_val_lasso_regression(y, factors_plus_noise, lambda_max=0.25, n_lambdas=100, n_folds=10, rs=7777)"
   ]
  },
  {
   "cell_type": "code",
   "execution_count": 394,
   "metadata": {},
   "outputs": [
    {
     "name": "stdout",
     "output_type": "stream",
     "text": [
      "best lambda: 0.048634343434343426\n"
     ]
    }
   ],
   "source": [
    "best_lambda = mla.recover_regression_bestpar_from_gsCV(gsCV, factors_plus_noise, \"lasso\")"
   ]
  },
  {
   "cell_type": "code",
   "execution_count": 395,
   "metadata": {},
   "outputs": [
    {
     "data": {
      "text/html": [
       "<div>\n",
       "<style scoped>\n",
       "    .dataframe tbody tr th:only-of-type {\n",
       "        vertical-align: middle;\n",
       "    }\n",
       "\n",
       "    .dataframe tbody tr th {\n",
       "        vertical-align: top;\n",
       "    }\n",
       "\n",
       "    .dataframe thead th {\n",
       "        text-align: right;\n",
       "    }\n",
       "</style>\n",
       "<table border=\"1\" class=\"dataframe\">\n",
       "  <thead>\n",
       "    <tr style=\"text-align: right;\">\n",
       "      <th></th>\n",
       "      <th>World Equities</th>\n",
       "      <th>US Treasuries</th>\n",
       "      <th>Bond Risk Premium</th>\n",
       "      <th>Inflation Protection</th>\n",
       "      <th>Currency Protection</th>\n",
       "      <th>Noise</th>\n",
       "      <th>alpha</th>\n",
       "    </tr>\n",
       "  </thead>\n",
       "  <tbody>\n",
       "    <tr>\n",
       "      <th>beta</th>\n",
       "      <td>0.30852</td>\n",
       "      <td>0.875974</td>\n",
       "      <td>0.83526</td>\n",
       "      <td>0.043452</td>\n",
       "      <td>0.0</td>\n",
       "      <td>0.003075</td>\n",
       "      <td>-0.000336</td>\n",
       "    </tr>\n",
       "  </tbody>\n",
       "</table>\n",
       "</div>"
      ],
      "text/plain": [
       "      World Equities  US Treasuries  Bond Risk Premium  Inflation Protection  \\\n",
       "beta         0.30852       0.875974            0.83526              0.043452   \n",
       "\n",
       "      Currency Protection     Noise     alpha  \n",
       "beta                  0.0  0.003075 -0.000336  "
      ]
     },
     "execution_count": 395,
     "metadata": {},
     "output_type": "execute_result"
    }
   ],
   "source": [
    "# Regression using the best estimator\n",
    "betas = np.append(gsCV.best_estimator_.coef_, gsCV.best_estimator_.intercept_)\n",
    "betas = mla.display_betas(betas, factors_plus_noise_names)\n",
    "betas"
   ]
  },
  {
   "cell_type": "markdown",
   "metadata": {},
   "source": [
    "#### Elastic Net regression "
   ]
  },
  {
   "cell_type": "markdown",
   "metadata": {},
   "source": [
    "We recall that the **Elastic Net regression** was: \n",
    "$$\n",
    "\\text{minimize} \\;\\; \\frac{1}{2N} \\bigl( ||\\mathbf{y} - X\\mathbf{\\beta} ||_2^2 + \\lambda_1||\\beta||_1 + \\lambda_2||\\beta||^2_2  \\bigr).\n",
    "$$\n",
    "However, the **ElasticNet** method implemented in scikit-learn defines the parameters $\\lambda_1$ and $\\lambda_2$ as:\n",
    "$$\n",
    "\\lambda_1 := \\alpha L^1_{ratio}\n",
    "\\quad\\text{and}\\quad\n",
    "\\lambda_2 := \\frac{1}{2}\\alpha \\left(1-L^1_{ratio}\\right),\n",
    "$$\n",
    "where $L^1_{ratio} \\in [0,1]$ for which if $L^1_{ratio}=1$ we are doing Lasso regression (hence, $\\alpha$ here is defined as the parameter in the Lasso regression) and when $L^1_{ratio}=0$ we do a Ridge Regression."
   ]
  },
  {
   "cell_type": "code",
   "execution_count": 396,
   "metadata": {},
   "outputs": [
    {
     "name": "stderr",
     "output_type": "stream",
     "text": [
      "/anaconda3/lib/python3.7/site-packages/sklearn/model_selection/_search.py:841: DeprecationWarning: The default of the `iid` parameter will change from True to False in version 0.22 and will be removed in 0.24. This will change numeric results when test-set sizes are unequal.\n",
      "  DeprecationWarning)\n"
     ]
    }
   ],
   "source": [
    "gsCV = mla.cross_val_elasticnet_regression(y, factors, lambda_max=0.25, n_lambdas=50, l1_ratio_max=0.99, n_l1ratio=50, n_folds=10, rs=7777)"
   ]
  },
  {
   "cell_type": "code",
   "execution_count": 397,
   "metadata": {},
   "outputs": [
    {
     "name": "stdout",
     "output_type": "stream",
     "text": [
      "best lambda1: 0.04611379591836734\n",
      "best lambda2: 0.00023289795918367363\n"
     ]
    }
   ],
   "source": [
    "best_lambda1, best_lambda2 = mla.recover_regression_bestpar_from_gsCV(gsCV, factors, \"elasticnet\")"
   ]
  },
  {
   "cell_type": "code",
   "execution_count": 398,
   "metadata": {},
   "outputs": [
    {
     "data": {
      "text/html": [
       "<div>\n",
       "<style scoped>\n",
       "    .dataframe tbody tr th:only-of-type {\n",
       "        vertical-align: middle;\n",
       "    }\n",
       "\n",
       "    .dataframe tbody tr th {\n",
       "        vertical-align: top;\n",
       "    }\n",
       "\n",
       "    .dataframe thead th {\n",
       "        text-align: right;\n",
       "    }\n",
       "</style>\n",
       "<table border=\"1\" class=\"dataframe\">\n",
       "  <thead>\n",
       "    <tr style=\"text-align: right;\">\n",
       "      <th></th>\n",
       "      <th>World Equities</th>\n",
       "      <th>US Treasuries</th>\n",
       "      <th>Bond Risk Premium</th>\n",
       "      <th>Inflation Protection</th>\n",
       "      <th>Currency Protection</th>\n",
       "      <th>alpha</th>\n",
       "    </tr>\n",
       "  </thead>\n",
       "  <tbody>\n",
       "    <tr>\n",
       "      <th>beta</th>\n",
       "      <td>0.310548</td>\n",
       "      <td>0.889796</td>\n",
       "      <td>0.844634</td>\n",
       "      <td>0.056504</td>\n",
       "      <td>0.0</td>\n",
       "      <td>-0.000444</td>\n",
       "    </tr>\n",
       "  </tbody>\n",
       "</table>\n",
       "</div>"
      ],
      "text/plain": [
       "      World Equities  US Treasuries  Bond Risk Premium  Inflation Protection  \\\n",
       "beta        0.310548       0.889796           0.844634              0.056504   \n",
       "\n",
       "      Currency Protection     alpha  \n",
       "beta                  0.0 -0.000444  "
      ]
     },
     "execution_count": 398,
     "metadata": {},
     "output_type": "execute_result"
    }
   ],
   "source": [
    "# Regression using the best estimator\n",
    "betas = np.append(gsCV.best_estimator_.coef_, gsCV.best_estimator_.intercept_)\n",
    "betas = mla.display_betas(betas, factor_names)\n",
    "betas"
   ]
  },
  {
   "cell_type": "code",
   "execution_count": 399,
   "metadata": {},
   "outputs": [
    {
     "name": "stderr",
     "output_type": "stream",
     "text": [
      "/anaconda3/lib/python3.7/site-packages/sklearn/model_selection/_search.py:841: DeprecationWarning: The default of the `iid` parameter will change from True to False in version 0.22 and will be removed in 0.24. This will change numeric results when test-set sizes are unequal.\n",
      "  DeprecationWarning)\n"
     ]
    }
   ],
   "source": [
    "# The case with noise \n",
    "gsCV = mla.cross_val_elasticnet_regression(y, factors_plus_noise, lambda_max=0.25, n_lambdas=50, l1_ratio_max=0.99, n_l1ratio=50, n_folds=10, rs=7777)"
   ]
  },
  {
   "cell_type": "code",
   "execution_count": 402,
   "metadata": {},
   "outputs": [
    {
     "name": "stdout",
     "output_type": "stream",
     "text": [
      "best lambda1: 0.04611379591836734\n",
      "best lambda2: 0.00023289795918367363\n"
     ]
    }
   ],
   "source": [
    "best_lambda1, best_lambda2 = mla.recover_regression_bestpar_from_gsCV(gsCV, factors_plus_noise, \"elasticnet\")"
   ]
  },
  {
   "cell_type": "code",
   "execution_count": 403,
   "metadata": {},
   "outputs": [
    {
     "data": {
      "text/html": [
       "<div>\n",
       "<style scoped>\n",
       "    .dataframe tbody tr th:only-of-type {\n",
       "        vertical-align: middle;\n",
       "    }\n",
       "\n",
       "    .dataframe tbody tr th {\n",
       "        vertical-align: top;\n",
       "    }\n",
       "\n",
       "    .dataframe thead th {\n",
       "        text-align: right;\n",
       "    }\n",
       "</style>\n",
       "<table border=\"1\" class=\"dataframe\">\n",
       "  <thead>\n",
       "    <tr style=\"text-align: right;\">\n",
       "      <th></th>\n",
       "      <th>World Equities</th>\n",
       "      <th>US Treasuries</th>\n",
       "      <th>Bond Risk Premium</th>\n",
       "      <th>Inflation Protection</th>\n",
       "      <th>Currency Protection</th>\n",
       "      <th>Noise</th>\n",
       "      <th>alpha</th>\n",
       "    </tr>\n",
       "  </thead>\n",
       "  <tbody>\n",
       "    <tr>\n",
       "      <th>beta</th>\n",
       "      <td>0.307373</td>\n",
       "      <td>0.890116</td>\n",
       "      <td>0.844807</td>\n",
       "      <td>0.055179</td>\n",
       "      <td>0.0</td>\n",
       "      <td>0.002974</td>\n",
       "      <td>-0.000439</td>\n",
       "    </tr>\n",
       "  </tbody>\n",
       "</table>\n",
       "</div>"
      ],
      "text/plain": [
       "      World Equities  US Treasuries  Bond Risk Premium  Inflation Protection  \\\n",
       "beta        0.307373       0.890116           0.844807              0.055179   \n",
       "\n",
       "      Currency Protection     Noise     alpha  \n",
       "beta                  0.0  0.002974 -0.000439  "
      ]
     },
     "execution_count": 403,
     "metadata": {},
     "output_type": "execute_result"
    }
   ],
   "source": [
    "# Regression using the best estimator\n",
    "betas = np.append(gsCV.best_estimator_.coef_, gsCV.best_estimator_.intercept_)\n",
    "betas = mla.display_betas(betas, factors_plus_noise_names)\n",
    "betas"
   ]
  },
  {
   "cell_type": "markdown",
   "metadata": {},
   "source": [
    "#### Using Best Subset Regression "
   ]
  },
  {
   "cell_type": "code",
   "execution_count": 405,
   "metadata": {},
   "outputs": [
    {
     "data": {
      "text/html": [
       "<div>\n",
       "<style scoped>\n",
       "    .dataframe tbody tr th:only-of-type {\n",
       "        vertical-align: middle;\n",
       "    }\n",
       "\n",
       "    .dataframe tbody tr th {\n",
       "        vertical-align: top;\n",
       "    }\n",
       "\n",
       "    .dataframe thead th {\n",
       "        text-align: right;\n",
       "    }\n",
       "</style>\n",
       "<table border=\"1\" class=\"dataframe\">\n",
       "  <thead>\n",
       "    <tr style=\"text-align: right;\">\n",
       "      <th></th>\n",
       "      <th>World Equities</th>\n",
       "      <th>US Treasuries</th>\n",
       "      <th>Bond Risk Premium</th>\n",
       "      <th>Inflation Protection</th>\n",
       "      <th>Currency Protection</th>\n",
       "      <th>alpha</th>\n",
       "    </tr>\n",
       "  </thead>\n",
       "  <tbody>\n",
       "    <tr>\n",
       "      <th>beta</th>\n",
       "      <td>0.0</td>\n",
       "      <td>1.453734</td>\n",
       "      <td>1.395798</td>\n",
       "      <td>0.0</td>\n",
       "      <td>0.0</td>\n",
       "      <td>-0.001956</td>\n",
       "    </tr>\n",
       "  </tbody>\n",
       "</table>\n",
       "</div>"
      ],
      "text/plain": [
       "      World Equities  US Treasuries  Bond Risk Premium  Inflation Protection  \\\n",
       "beta             0.0       1.453734           1.395798                   0.0   \n",
       "\n",
       "      Currency Protection     alpha  \n",
       "beta                  0.0 -0.001956  "
      ]
     },
     "execution_count": 405,
     "metadata": {},
     "output_type": "execute_result"
    }
   ],
   "source": [
    "# using max_vars = 2\n",
    "betas, alpha = mla.best_subset_regression(y, factors, max_vars=2)\n",
    "\n",
    "# Regression using the best estimator\n",
    "betas = np.append(betas, alpha)\n",
    "betas = mla.display_betas(betas, factor_names)\n",
    "betas"
   ]
  },
  {
   "cell_type": "code",
   "execution_count": 407,
   "metadata": {},
   "outputs": [
    {
     "data": {
      "text/html": [
       "<div>\n",
       "<style scoped>\n",
       "    .dataframe tbody tr th:only-of-type {\n",
       "        vertical-align: middle;\n",
       "    }\n",
       "\n",
       "    .dataframe tbody tr th {\n",
       "        vertical-align: top;\n",
       "    }\n",
       "\n",
       "    .dataframe thead th {\n",
       "        text-align: right;\n",
       "    }\n",
       "</style>\n",
       "<table border=\"1\" class=\"dataframe\">\n",
       "  <thead>\n",
       "    <tr style=\"text-align: right;\">\n",
       "      <th></th>\n",
       "      <th>World Equities</th>\n",
       "      <th>US Treasuries</th>\n",
       "      <th>Bond Risk Premium</th>\n",
       "      <th>Inflation Protection</th>\n",
       "      <th>Currency Protection</th>\n",
       "      <th>alpha</th>\n",
       "    </tr>\n",
       "  </thead>\n",
       "  <tbody>\n",
       "    <tr>\n",
       "      <th>beta</th>\n",
       "      <td>0.274697</td>\n",
       "      <td>1.186262</td>\n",
       "      <td>1.091385</td>\n",
       "      <td>0.0</td>\n",
       "      <td>0.0</td>\n",
       "      <td>-0.002295</td>\n",
       "    </tr>\n",
       "  </tbody>\n",
       "</table>\n",
       "</div>"
      ],
      "text/plain": [
       "      World Equities  US Treasuries  Bond Risk Premium  Inflation Protection  \\\n",
       "beta        0.274697       1.186262           1.091385                   0.0   \n",
       "\n",
       "      Currency Protection     alpha  \n",
       "beta                  0.0 -0.002295  "
      ]
     },
     "execution_count": 407,
     "metadata": {},
     "output_type": "execute_result"
    }
   ],
   "source": [
    "# using max_vars = 3\n",
    "betas, alpha = mla.best_subset_regression(y, factors, max_vars=3)\n",
    "\n",
    "# Regression using the best estimator\n",
    "betas = np.append(betas, alpha)\n",
    "betas = mla.display_betas(betas, factor_names)\n",
    "betas"
   ]
  },
  {
   "cell_type": "code",
   "execution_count": 408,
   "metadata": {},
   "outputs": [
    {
     "data": {
      "text/html": [
       "<div>\n",
       "<style scoped>\n",
       "    .dataframe tbody tr th:only-of-type {\n",
       "        vertical-align: middle;\n",
       "    }\n",
       "\n",
       "    .dataframe tbody tr th {\n",
       "        vertical-align: top;\n",
       "    }\n",
       "\n",
       "    .dataframe thead th {\n",
       "        text-align: right;\n",
       "    }\n",
       "</style>\n",
       "<table border=\"1\" class=\"dataframe\">\n",
       "  <thead>\n",
       "    <tr style=\"text-align: right;\">\n",
       "      <th></th>\n",
       "      <th>World Equities</th>\n",
       "      <th>US Treasuries</th>\n",
       "      <th>Bond Risk Premium</th>\n",
       "      <th>Inflation Protection</th>\n",
       "      <th>Currency Protection</th>\n",
       "      <th>Noise</th>\n",
       "      <th>alpha</th>\n",
       "    </tr>\n",
       "  </thead>\n",
       "  <tbody>\n",
       "    <tr>\n",
       "      <th>beta</th>\n",
       "      <td>0.274692</td>\n",
       "      <td>1.186272</td>\n",
       "      <td>1.091393</td>\n",
       "      <td>0.0</td>\n",
       "      <td>0.0</td>\n",
       "      <td>0.0</td>\n",
       "      <td>-0.002295</td>\n",
       "    </tr>\n",
       "  </tbody>\n",
       "</table>\n",
       "</div>"
      ],
      "text/plain": [
       "      World Equities  US Treasuries  Bond Risk Premium  Inflation Protection  \\\n",
       "beta        0.274692       1.186272           1.091393                   0.0   \n",
       "\n",
       "      Currency Protection  Noise     alpha  \n",
       "beta                  0.0    0.0 -0.002295  "
      ]
     },
     "execution_count": 408,
     "metadata": {},
     "output_type": "execute_result"
    }
   ],
   "source": [
    "# using max_vars = 3 and noisy data\n",
    "betas, alpha = mla.best_subset_regression(y, factors_plus_noise, max_vars=3)\n",
    "\n",
    "# Regression using the best estimator\n",
    "betas = np.append(betas, alpha)\n",
    "betas = mla.display_betas(betas, factors_plus_noise_names)\n",
    "betas"
   ]
  }
 ],
 "metadata": {
  "kernelspec": {
   "display_name": "Python 3",
   "language": "python",
   "name": "python3"
  },
  "language_info": {
   "codemirror_mode": {
    "name": "ipython",
    "version": 3
   },
   "file_extension": ".py",
   "mimetype": "text/x-python",
   "name": "python",
   "nbconvert_exporter": "python",
   "pygments_lexer": "ipython3",
   "version": "3.7.1"
  }
 },
 "nbformat": 4,
 "nbformat_minor": 2
}
