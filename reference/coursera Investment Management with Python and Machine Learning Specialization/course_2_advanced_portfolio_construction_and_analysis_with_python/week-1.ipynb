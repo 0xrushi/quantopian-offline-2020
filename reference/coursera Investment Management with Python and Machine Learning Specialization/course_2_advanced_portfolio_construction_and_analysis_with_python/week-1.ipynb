{
 "cells": [
  {
   "cell_type": "markdown",
   "metadata": {},
   "source": [
    "# Week 1"
   ]
  },
  {
   "cell_type": "code",
   "execution_count": 92,
   "metadata": {},
   "outputs": [],
   "source": [
    "import pandas as pd\n",
    "import numpy as np\n",
    "import statsmodels.api as sm\n",
    "import matplotlib.pyplot as plt"
   ]
  },
  {
   "cell_type": "code",
   "execution_count": 522,
   "metadata": {},
   "outputs": [
    {
     "name": "stdout",
     "output_type": "stream",
     "text": [
      "The autoreload extension is already loaded. To reload it, use:\n",
      "  %reload_ext autoreload\n"
     ]
    }
   ],
   "source": [
    "%load_ext autoreload\n",
    "%autoreload 2\n",
    "%matplotlib inline"
   ]
  },
  {
   "cell_type": "code",
   "execution_count": 523,
   "metadata": {},
   "outputs": [],
   "source": [
    "import sys\n",
    "sys.path.append(\"../\")\n",
    "import edhec_risk_kit as erk"
   ]
  },
  {
   "cell_type": "code",
   "execution_count": 524,
   "metadata": {},
   "outputs": [],
   "source": [
    "# using seaborn style (type plt.style.available to see available styles)\n",
    "plt.style.use(\"seaborn-dark\")"
   ]
  },
  {
   "cell_type": "markdown",
   "metadata": {},
   "source": [
    "## Factor investing\n",
    "\n",
    "A **factor** is a variable that influences the **returns of assets**. It represents a **commonality** \n",
    "in the returns, i.e., something outside the individual asset, and normally, \n",
    "**an exposure to some factor risk** over the long run **yields a reward** (the risk premium).\n",
    "\n",
    "There are three types of factors:\n",
    "1. **Macro factors**: industrial growth, inflation,$\\dots$\n",
    "2. **Statistical factors**: something  extracted from the data, which may be or may not be well identified\n",
    "3. **Style (Intrinsic) factors**: value-growth, momentum, low-volatility$\\dots$\n",
    "\n",
    "For example, some investors consider **Oil prices** to be an important factor in determining equity returns (they are likely to affect stock returns). This would be an example of **macro factor** \n",
    "as it is neither a statistical artifact nor is it intrinsic to the stock itself.\n",
    "\n",
    "### Factor models\n",
    "\n",
    "A **factor model** simply decompose asset returns $r$ into a set of **factor premia**:\n",
    "$$\n",
    "r = \\beta_1 f_1 + \\beta_2 f_2 + \\dots + \\beta_n f_n + \\alpha + \\varepsilon,\n",
    "$$\n",
    "where $\\{\\beta_i\\}_{i=1,\\dots,n}$ are some real coefficients and \n",
    "$\\{f_i\\}_{i=1,\\dots,n}$ are the **factor premia which are** nothing but that **the returns that we get in exchange for exposing ourselves to the factor**. \n",
    "\n",
    "In other words, a factor model is **a decomposition of an asset return into a set of returns from other assets**."
   ]
  },
  {
   "cell_type": "markdown",
   "metadata": {},
   "source": [
    "### The Capital Asset Pricing Model (CAPM)\n",
    "\n",
    "The **CAPM** is in some sense an example of factor model. In particular, it is used to determine a theoretically appropriate return of an asset to make decisions about adding this asset \n",
    "to a well-diversified portfolio.\n",
    "\n",
    "The model takes into account the asset's sensitivity to non-diversifiable risk (also known as systematic risk or market risk), often represented by the quantity beta (β) in the financial industry, as well as the expected return of the market and the expected return of a theoretical risk-free asset. \n",
    "\n",
    "The model can be used for pricing an individual security. The model defines a \n",
    "**Security Market Line (SML)** which enables us to compute the reward-to-risk ratio for a security in relation to that of the **overall market**:\n",
    "$$\n",
    "\\text{SML}: \\;\\mathbb{E}[r_i] = \\beta_i(\\mathbb{E}[r_m] - r_f) + r_f, \n",
    "$$\n",
    "which means that the **excess return** of the asset $i$ is given by the **excess return of the market** \n",
    "(here, **$r_m$ is the return of the market** and $r_f$ is the risk-free rate) \n",
    "times a coefficient $\\beta_i$ defined as:\n",
    "$$\n",
    "\\mathbb{E}[r_i] - r_f = \\beta_i(\\mathbb{E}[r_m] - r_f), \n",
    "\\qquad  \n",
    "\\beta_i := \\frac{\\text{Cov}(r_i,r_m)}{\\text{Var}(r_m)}, \n",
    "$$\n",
    "which is the **sensitivity of the asset with respect to the market**.\n",
    "\n",
    "Note that if $\\beta_i$ is large, it means that the asset $i$ is higly correlated with the market, i.e., if the market goes up and so goes up the asset (and, of course, if the market goes down, then the asset goes down). On the other hand, if $\\beta_i$ is very small, it means that the stock is almost uncorrelated with respect to the market, hence changes in the market do not affect the returns of the asset.\n",
    "\n",
    "In addition, note that **the expected market return** is usually estimated by measuring **the arithmetic average of the historical returns of market components**.\n",
    "\n",
    "By definition of factor model, **the CAPM is a one-factor model** since the excess return of the security depends **only** ont the excess return of the market. Also look at the **capital market line (CML)** we have described in the week 1 of the first course."
   ]
  },
  {
   "cell_type": "markdown",
   "metadata": {},
   "source": [
    "#### Price-to-book (P/B) ratio (or Market-to-book ratio)\n",
    "\n",
    "In accounting, the **book value is the value of an asset according to its balance sheet account balance**. \n",
    "For assets, the value is based on **the original cost of the asset less any depreciation, amortization or impairment costs** \n",
    "made against the asset. Traditionally, a company's book value is its total assets minus intangible assets and liabilities.\n",
    "\n",
    "The **price-to-book (P/B) ratio**, is used to compare a company's current market price to its book value. \n",
    "The calculation can be performed in two ways. One, in which the company's market capitalization is \n",
    "divided by the company's total book value from its balance sheet. A second way is to divide the company's current share price \n",
    "by the book value per share (i.e. its book value divided by the number of outstanding shares).\n",
    "\n",
    "Such ratio is also called **market-to-book ratio**.\n",
    "\n",
    "#### Value stocks and Growth stocks\n",
    "\n",
    "Note that the inverse of the P/B ratio, is therefore called the **book-to-price (B/P)** (or **book-to-market**) **ratio**. \n",
    "\n",
    "Assets (e.g., stocks) with high **book-to-market** ratios are called **Value stocks**. If this ratio is high, it then means that the book value is much larger than the current market price, and this indicates that this asset is somehow cheap with respect to its true value (it is **undervalued** by the market).\n",
    "\n",
    "On the other hand, assets with low **book-to-market** ratios are called **Growth stocks**. In this case, it then means that the book value is much samller than the current market price which indicates that the asset is somehow **overvalued** by the market. The reason why they may be overvalued is because they are associated with high-quality, successful companies whose earnings are expected to continue \n",
    "growing at an above-average rate relative to the market and then growth stock investors may be willing to pay more to own shares. \n",
    "Analysts tend to classify a stock as Growht Stock if its **ROE** (**Return on equity**: company's net income divide by average common equity) is larger than or equal to $15\\%$."
   ]
  },
  {
   "cell_type": "markdown",
   "metadata": {},
   "source": [
    "### Fama-French Model\n",
    "\n",
    "The **Fama-French model** is a **three-factor** model which enhance the CAPM (one-factor model). The three factors are:\n",
    "- the market risk (i.e., as in the CAPM),\n",
    "- the outperformance of **small versus big** companies,\n",
    "- the outperformance of **high book/market versus small book/market** companies.\n",
    "\n",
    "What Fama and French did was to take the entire universe of stocks an put them into ten buckets (**deciles**). They sorted such deciles in two ways. \n",
    "\n",
    "A first sorting was done according to the **size**, i.e., the **market capitalization**, \n",
    "and then they compared the performance of the bottom $10\\%$ companies versus the top $10\\%$ companies according to the size.\n",
    "\n",
    "The second sorting was done according to the **book-to-market ratios** (B/P ratio), and then they did the same, i.e., they looked at \n",
    "the performance of the bottom $10\\%$ companies (Growth Stocks) versus the top $10\\%$ companies (Value Stocks). \n",
    "\n",
    "Fama and French observed that the classes of stocks that have tended to do better than the market as a whole have been \n",
    "(i) the **small caps** (bottom decile w.r.t sizes) and (ii) the **Value Stocks** (top decile w.r.t. B/P ratios). \n",
    "\n",
    "Hence, they introduced the **size factor** and the **value factor** in addition to the **market factor** \n",
    "of simple CAPM and enhance the model ($1993$): \n",
    "$$\n",
    "\\mathbb{E}[r_i] - r_f = \n",
    "\\beta_{i,\\text{MKT}}\\mathbb{E}[r_m - r_f] + \\beta_{i,\\text{SMB}}\\mathbb{E}[\\text{SMB}] + \\beta_{i,\\text{HMS}}\\mathbb{E}[\\text{HMS}]  \n",
    "$$\n",
    "where:\n",
    "- $\\beta_{i,\\text{MKT}}$ is the same $\\beta$ of the CAPM (we stress the dependence on the **market**), \n",
    "- $\\text{SMB}$ means **Small (size) Minus Big (size)** stocks, \n",
    "- $\\text{HML}$ means **High (B/P ratio) Minus Low (B/P ratio)** stocks.\n",
    "\n",
    "There could be in principle more factors to add. \n",
    "For example, the **Carhart four-factor model** enhance the Fama-French model by adding the **Momentum factor**. The **Momentum** \n",
    "in a stock is the tendency for the stock price to continue rising if it is going up and to continue declining if it is going down. It can be computed by subtracting the equal weighted average of the lowest performing firms from the equal weighted average of the highest \n",
    "performing firms, lagged one month."
   ]
  },
  {
   "cell_type": "markdown",
   "metadata": {},
   "source": [
    "### Factor benchmark\n",
    "\n",
    "Any factor model can be re-interpreted as a benchmark. \n",
    "For example, consider the case of single CAMP model. We can rewrite it in the following way:\n",
    "$$\n",
    "\\mathbb{E}[r_i - r_f] = \\beta\\, \\mathbb{E}[r_m - r_f] + \\alpha\n",
    "\\quad\\Longrightarrow\\quad\n",
    "\\mathbb{E}[r_i] = \\beta\\, \\mathbb{E}[r_m] - (\\beta-1) \\mathbb{E}[r_f]   + \\alpha.\n",
    "$$\n",
    "This means that if I have $1$ dollar I can **borrow $\\beta-1$ dollars** and **invest $\\beta$ dollars in the market**. \n",
    "For instance, let $\\beta=1.3$. It means that we borrow $\\beta-1=0.3$ cents and then we put $1.3$ dollars in the market.\n",
    "We can always do this and we would get some return (equal to $1.3\\,\\mathbb{E}[r_m] - 0.3\\,\\mathbb{E}[r_f]$).\n",
    "\n",
    "Now, if we see that there is some asset in the market that have a return higher than what we got, \n",
    "then it means that it is the **value added by the manager**, i.e., the manager of that assets did particularly well.\n",
    "\n",
    "In other words, we have this model and some manager (i.e., we have some asset $i$), **we do the regression** by finding $\\beta$ \n",
    "**and we look for alpha**. **If we do not get any alpha**, it means that **this asset is not going to adding any value to us**, \n",
    "just because we could get the same return without this asset (by doing the short-long trick above).\n",
    "In particular, if we found a positive $\\alpha$ that manager (asset) gives some values to us. If $\\alpha$ is negative, we should avoid investing in that asset as it destroys value.\n",
    "\n",
    "In this sense we say that, in this case, the **factor benchmarck is a short position of $\\beta-1$ dollars in cash (T-bills)** and a \n",
    "**leveraged position of $\\beta$ dollars in the market portfolio**. \n",
    "\n",
    "### Style analysis\n",
    "\n",
    "The **Returns-based style** (or simply **style**) analysis was introduced by W. Sharpe (which also contributes to the CAPM). \n",
    "It can be regarded as a **constrained form of factor model**, \n",
    "and it has been applied to the analysis of the performance of active managers.\n",
    "\n",
    "Basically, Sharpe tooks what looked like a factor model without effectively using factors but some kind of **explanatory variables** (i.e., \n",
    "he simply rewrote the model as we have done above):\n",
    "$$\n",
    "r_t^m = \\sum_{i=1}^{N} \\beta_i r_t^i + \\alpha + \\varepsilon, \n",
    "$$\n",
    "where $r_t^m$ is the historical returns of the manager (the asset) we are considering, $\\{r_{t}^{i}\\}$ \n",
    "is a set of returns of some indices (they are our explanatory variables), and $\\alpha$ is what is supposed to \n",
    "be **the manager added value**. \n",
    "In this kind of analysis the coefficients $\\beta$ represent the \n",
    "**exposures to the chosen types of market returns** and they \n",
    "are constrained to sum to $1$. This way, they represent portfolio weights in the explanatory variables:\n",
    "$$\n",
    "\\sum_{i=1}^N \\beta_i = 1.\n",
    "$$"
   ]
  },
  {
   "cell_type": "markdown",
   "metadata": {},
   "source": [
    "## Factor Analysis of Warren Buffet Berkshire Hathaway\n",
    "\n",
    "Let us load the returns of the Berkshire Hathaway holding company. Notice that the dataset contains daily returns. Here, we compound \n",
    "daily returns over months and load the monthly returns. Data are available from 1990-01 up to 2018-12."
   ]
  },
  {
   "cell_type": "code",
   "execution_count": 13,
   "metadata": {},
   "outputs": [
    {
     "data": {
      "text/html": [
       "<div>\n",
       "<style scoped>\n",
       "    .dataframe tbody tr th:only-of-type {\n",
       "        vertical-align: middle;\n",
       "    }\n",
       "\n",
       "    .dataframe tbody tr th {\n",
       "        vertical-align: top;\n",
       "    }\n",
       "\n",
       "    .dataframe thead th {\n",
       "        text-align: right;\n",
       "    }\n",
       "</style>\n",
       "<table border=\"1\" class=\"dataframe\">\n",
       "  <thead>\n",
       "    <tr style=\"text-align: right;\">\n",
       "      <th></th>\n",
       "      <th>BRKA</th>\n",
       "    </tr>\n",
       "    <tr>\n",
       "      <th>DATE</th>\n",
       "      <th></th>\n",
       "    </tr>\n",
       "  </thead>\n",
       "  <tbody>\n",
       "    <tr>\n",
       "      <th>1990-01</th>\n",
       "      <td>-0.140634</td>\n",
       "    </tr>\n",
       "    <tr>\n",
       "      <th>1990-02</th>\n",
       "      <td>-0.030852</td>\n",
       "    </tr>\n",
       "    <tr>\n",
       "      <th>1990-03</th>\n",
       "      <td>-0.069204</td>\n",
       "    </tr>\n",
       "    <tr>\n",
       "      <th>1990-04</th>\n",
       "      <td>-0.003717</td>\n",
       "    </tr>\n",
       "    <tr>\n",
       "      <th>1990-05</th>\n",
       "      <td>0.067164</td>\n",
       "    </tr>\n",
       "  </tbody>\n",
       "</table>\n",
       "</div>"
      ],
      "text/plain": [
       "             BRKA\n",
       "DATE             \n",
       "1990-01 -0.140634\n",
       "1990-02 -0.030852\n",
       "1990-03 -0.069204\n",
       "1990-04 -0.003717\n",
       "1990-05  0.067164"
      ]
     },
     "execution_count": 13,
     "metadata": {},
     "output_type": "execute_result"
    }
   ],
   "source": [
    "brka_rets = erk.get_brka_rets(monthly=True)\n",
    "brka_rets.head()"
   ]
  },
  {
   "cell_type": "markdown",
   "metadata": {},
   "source": [
    "Now, we load the **factors** (the explanatory variables) composing the Fama-French model:"
   ]
  },
  {
   "cell_type": "code",
   "execution_count": 14,
   "metadata": {},
   "outputs": [
    {
     "data": {
      "text/html": [
       "<div>\n",
       "<style scoped>\n",
       "    .dataframe tbody tr th:only-of-type {\n",
       "        vertical-align: middle;\n",
       "    }\n",
       "\n",
       "    .dataframe tbody tr th {\n",
       "        vertical-align: top;\n",
       "    }\n",
       "\n",
       "    .dataframe thead th {\n",
       "        text-align: right;\n",
       "    }\n",
       "</style>\n",
       "<table border=\"1\" class=\"dataframe\">\n",
       "  <thead>\n",
       "    <tr style=\"text-align: right;\">\n",
       "      <th></th>\n",
       "      <th>Mkt-RF</th>\n",
       "      <th>SMB</th>\n",
       "      <th>HML</th>\n",
       "      <th>RF</th>\n",
       "    </tr>\n",
       "  </thead>\n",
       "  <tbody>\n",
       "    <tr>\n",
       "      <th>1926-07</th>\n",
       "      <td>0.0296</td>\n",
       "      <td>-0.0230</td>\n",
       "      <td>-0.0287</td>\n",
       "      <td>0.0022</td>\n",
       "    </tr>\n",
       "    <tr>\n",
       "      <th>1926-08</th>\n",
       "      <td>0.0264</td>\n",
       "      <td>-0.0140</td>\n",
       "      <td>0.0419</td>\n",
       "      <td>0.0025</td>\n",
       "    </tr>\n",
       "    <tr>\n",
       "      <th>1926-09</th>\n",
       "      <td>0.0036</td>\n",
       "      <td>-0.0132</td>\n",
       "      <td>0.0001</td>\n",
       "      <td>0.0023</td>\n",
       "    </tr>\n",
       "    <tr>\n",
       "      <th>1926-10</th>\n",
       "      <td>-0.0324</td>\n",
       "      <td>0.0004</td>\n",
       "      <td>0.0051</td>\n",
       "      <td>0.0032</td>\n",
       "    </tr>\n",
       "    <tr>\n",
       "      <th>1926-11</th>\n",
       "      <td>0.0253</td>\n",
       "      <td>-0.0020</td>\n",
       "      <td>-0.0035</td>\n",
       "      <td>0.0031</td>\n",
       "    </tr>\n",
       "  </tbody>\n",
       "</table>\n",
       "</div>"
      ],
      "text/plain": [
       "         Mkt-RF     SMB     HML      RF\n",
       "1926-07  0.0296 -0.0230 -0.0287  0.0022\n",
       "1926-08  0.0264 -0.0140  0.0419  0.0025\n",
       "1926-09  0.0036 -0.0132  0.0001  0.0023\n",
       "1926-10 -0.0324  0.0004  0.0051  0.0032\n",
       "1926-11  0.0253 -0.0020 -0.0035  0.0031"
      ]
     },
     "execution_count": 14,
     "metadata": {},
     "output_type": "execute_result"
    }
   ],
   "source": [
    "fff = erk.get_fff_returns()\n",
    "fff.head()"
   ]
  },
  {
   "cell_type": "markdown",
   "metadata": {},
   "source": [
    "The columns are the **market return minus the risk-free rate**, \n",
    "the **Small Minus Big** (the **Size**), \n",
    "the **High Minus Low** (the **Value**), and the pure risk-free rate (I think this is the return of T-Bills or something like that).  \n",
    "\n",
    "Next, consider a common time period, say from **1990-01 to 2015-05**. \n",
    "\n",
    "Firstly, we do a factor analysis using the **CAPM model**. \n",
    "That is, we want to decompose the observed return of the Berkshire Hathaway into a portion which is due to the market \n",
    "and the rest which is not due to the market:\n",
    "$$\n",
    "R_{\\text{brka}, t} - R_{f,t} = \\beta(R_{mkt, t} - R_{f,t}) + \\alpha + \\varepsilon_t.\n",
    "$$"
   ]
  },
  {
   "cell_type": "code",
   "execution_count": 15,
   "metadata": {},
   "outputs": [],
   "source": [
    "# compute the excess return of Berkshire Hathaway \n",
    "brka_excess_rets = brka_rets[\"1990\":\"2015-05\"] - fff.loc[\"1990\":\"2015-05\"][[\"RF\"]].values\n",
    "\n",
    "# save the excess return of the market \n",
    "mkt_excess_rets  = fff.loc[\"1990\":\"2015-05\"][[\"Mkt-RF\"]]"
   ]
  },
  {
   "cell_type": "code",
   "execution_count": 16,
   "metadata": {},
   "outputs": [
    {
     "data": {
      "text/html": [
       "<table class=\"simpletable\">\n",
       "<caption>OLS Regression Results</caption>\n",
       "<tr>\n",
       "  <th>Dep. Variable:</th>          <td>BRKA</td>       <th>  R-squared:         </th> <td>   0.163</td>\n",
       "</tr>\n",
       "<tr>\n",
       "  <th>Model:</th>                   <td>OLS</td>       <th>  Adj. R-squared:    </th> <td>   0.160</td>\n",
       "</tr>\n",
       "<tr>\n",
       "  <th>Method:</th>             <td>Least Squares</td>  <th>  F-statistic:       </th> <td>   59.05</td>\n",
       "</tr>\n",
       "<tr>\n",
       "  <th>Date:</th>             <td>Tue, 26 Nov 2019</td> <th>  Prob (F-statistic):</th> <td>2.15e-13</td>\n",
       "</tr>\n",
       "<tr>\n",
       "  <th>Time:</th>                 <td>10:21:10</td>     <th>  Log-Likelihood:    </th> <td>  454.77</td>\n",
       "</tr>\n",
       "<tr>\n",
       "  <th>No. Observations:</th>      <td>   305</td>      <th>  AIC:               </th> <td>  -905.5</td>\n",
       "</tr>\n",
       "<tr>\n",
       "  <th>Df Residuals:</th>          <td>   303</td>      <th>  BIC:               </th> <td>  -898.1</td>\n",
       "</tr>\n",
       "<tr>\n",
       "  <th>Df Model:</th>              <td>     1</td>      <th>                     </th>     <td> </td>   \n",
       "</tr>\n",
       "<tr>\n",
       "  <th>Covariance Type:</th>      <td>nonrobust</td>    <th>                     </th>     <td> </td>   \n",
       "</tr>\n",
       "</table>\n",
       "<table class=\"simpletable\">\n",
       "<tr>\n",
       "     <td></td>       <th>coef</th>     <th>std err</th>      <th>t</th>      <th>P>|t|</th>  <th>[0.025</th>    <th>0.975]</th>  \n",
       "</tr>\n",
       "<tr>\n",
       "  <th>Mkt-RF</th> <td>    0.5554</td> <td>    0.072</td> <td>    7.685</td> <td> 0.000</td> <td>    0.413</td> <td>    0.698</td>\n",
       "</tr>\n",
       "<tr>\n",
       "  <th>alpha</th>  <td>    0.0063</td> <td>    0.003</td> <td>    2.005</td> <td> 0.046</td> <td>    0.000</td> <td>    0.013</td>\n",
       "</tr>\n",
       "</table>\n",
       "<table class=\"simpletable\">\n",
       "<tr>\n",
       "  <th>Omnibus:</th>       <td>54.924</td> <th>  Durbin-Watson:     </th> <td>   2.070</td>\n",
       "</tr>\n",
       "<tr>\n",
       "  <th>Prob(Omnibus):</th> <td> 0.000</td> <th>  Jarque-Bera (JB):  </th> <td> 141.859</td>\n",
       "</tr>\n",
       "<tr>\n",
       "  <th>Skew:</th>          <td> 0.840</td> <th>  Prob(JB):          </th> <td>1.57e-31</td>\n",
       "</tr>\n",
       "<tr>\n",
       "  <th>Kurtosis:</th>      <td> 5.888</td> <th>  Cond. No.          </th> <td>    23.1</td>\n",
       "</tr>\n",
       "</table><br/><br/>Warnings:<br/>[1] Standard Errors assume that the covariance matrix of the errors is correctly specified."
      ],
      "text/plain": [
       "<class 'statsmodels.iolib.summary.Summary'>\n",
       "\"\"\"\n",
       "                            OLS Regression Results                            \n",
       "==============================================================================\n",
       "Dep. Variable:                   BRKA   R-squared:                       0.163\n",
       "Model:                            OLS   Adj. R-squared:                  0.160\n",
       "Method:                 Least Squares   F-statistic:                     59.05\n",
       "Date:                Tue, 26 Nov 2019   Prob (F-statistic):           2.15e-13\n",
       "Time:                        10:21:10   Log-Likelihood:                 454.77\n",
       "No. Observations:                 305   AIC:                            -905.5\n",
       "Df Residuals:                     303   BIC:                            -898.1\n",
       "Df Model:                           1                                         \n",
       "Covariance Type:            nonrobust                                         \n",
       "==============================================================================\n",
       "                 coef    std err          t      P>|t|      [0.025      0.975]\n",
       "------------------------------------------------------------------------------\n",
       "Mkt-RF         0.5554      0.072      7.685      0.000       0.413       0.698\n",
       "alpha          0.0063      0.003      2.005      0.046       0.000       0.013\n",
       "==============================================================================\n",
       "Omnibus:                       54.924   Durbin-Watson:                   2.070\n",
       "Prob(Omnibus):                  0.000   Jarque-Bera (JB):              141.859\n",
       "Skew:                           0.840   Prob(JB):                     1.57e-31\n",
       "Kurtosis:                       5.888   Cond. No.                         23.1\n",
       "==============================================================================\n",
       "\n",
       "Warnings:\n",
       "[1] Standard Errors assume that the covariance matrix of the errors is correctly specified.\n",
       "\"\"\""
      ]
     },
     "execution_count": 16,
     "metadata": {},
     "output_type": "execute_result"
    }
   ],
   "source": [
    "factors = mkt_excess_rets.copy()\n",
    "# the OLS methods assume a bias equal to 0, hence a specific variable for the bias has to be given \n",
    "factors[\"alpha\"] = 1\n",
    "\n",
    "lm = sm.OLS(brka_excess_rets, factors).fit()\n",
    "lm.summary()"
   ]
  },
  {
   "cell_type": "markdown",
   "metadata": {},
   "source": [
    "The coefficients of the regression are:"
   ]
  },
  {
   "cell_type": "code",
   "execution_count": 17,
   "metadata": {},
   "outputs": [
    {
     "data": {
      "text/plain": [
       "Mkt-RF    0.555427\n",
       "alpha     0.006340\n",
       "dtype: float64"
      ]
     },
     "execution_count": 17,
     "metadata": {},
     "output_type": "execute_result"
    }
   ],
   "source": [
    "lm.params"
   ]
  },
  {
   "cell_type": "markdown",
   "metadata": {},
   "source": [
    "that is we have a $\\beta$ of about 0.55 and $\\alpha$ of about $0.006$. This means that the CAPM benchmark consists of about $0.46$ dollars in Treasury bills and about $0.55$ dollars in the market, i.e., **each dollar in the Berkshire Hathaway portfolio is equivalent $46$ cents in Treasury bills and $55$ cents in the market**. Relative to this, **the company is adding (i.e., it has a $\\alpha$ of) $0.6\\%$ per month** (although the degree of statistical significance is not very high).\n",
    "\n",
    "Let us now use the complete **Fama-French model**. We add the rest of factors:"
   ]
  },
  {
   "cell_type": "code",
   "execution_count": 19,
   "metadata": {},
   "outputs": [],
   "source": [
    "factors = mkt_excess_rets.copy()\n",
    "factors[\"Size\"]  = fff.loc[\"1990\":\"2015-05\"][[\"SMB\"]]\n",
    "factors[\"Value\"] = fff.loc[\"1990\":\"2015-05\"][[\"HML\"]]\n",
    "factors[\"alpha\"] = 1"
   ]
  },
  {
   "cell_type": "code",
   "execution_count": 20,
   "metadata": {},
   "outputs": [
    {
     "data": {
      "text/html": [
       "<table class=\"simpletable\">\n",
       "<caption>OLS Regression Results</caption>\n",
       "<tr>\n",
       "  <th>Dep. Variable:</th>          <td>BRKA</td>       <th>  R-squared:         </th> <td>   0.298</td>\n",
       "</tr>\n",
       "<tr>\n",
       "  <th>Model:</th>                   <td>OLS</td>       <th>  Adj. R-squared:    </th> <td>   0.291</td>\n",
       "</tr>\n",
       "<tr>\n",
       "  <th>Method:</th>             <td>Least Squares</td>  <th>  F-statistic:       </th> <td>   42.52</td>\n",
       "</tr>\n",
       "<tr>\n",
       "  <th>Date:</th>             <td>Tue, 26 Nov 2019</td> <th>  Prob (F-statistic):</th> <td>6.12e-23</td>\n",
       "</tr>\n",
       "<tr>\n",
       "  <th>Time:</th>                 <td>10:21:30</td>     <th>  Log-Likelihood:    </th> <td>  481.50</td>\n",
       "</tr>\n",
       "<tr>\n",
       "  <th>No. Observations:</th>      <td>   305</td>      <th>  AIC:               </th> <td>  -955.0</td>\n",
       "</tr>\n",
       "<tr>\n",
       "  <th>Df Residuals:</th>          <td>   301</td>      <th>  BIC:               </th> <td>  -940.1</td>\n",
       "</tr>\n",
       "<tr>\n",
       "  <th>Df Model:</th>              <td>     3</td>      <th>                     </th>     <td> </td>   \n",
       "</tr>\n",
       "<tr>\n",
       "  <th>Covariance Type:</th>      <td>nonrobust</td>    <th>                     </th>     <td> </td>   \n",
       "</tr>\n",
       "</table>\n",
       "<table class=\"simpletable\">\n",
       "<tr>\n",
       "     <td></td>       <th>coef</th>     <th>std err</th>      <th>t</th>      <th>P>|t|</th>  <th>[0.025</th>    <th>0.975]</th>  \n",
       "</tr>\n",
       "<tr>\n",
       "  <th>Mkt-RF</th> <td>    0.6877</td> <td>    0.069</td> <td>   10.013</td> <td> 0.000</td> <td>    0.553</td> <td>    0.823</td>\n",
       "</tr>\n",
       "<tr>\n",
       "  <th>Size</th>   <td>   -0.4889</td> <td>    0.094</td> <td>   -5.202</td> <td> 0.000</td> <td>   -0.674</td> <td>   -0.304</td>\n",
       "</tr>\n",
       "<tr>\n",
       "  <th>Value</th>  <td>    0.3921</td> <td>    0.101</td> <td>    3.887</td> <td> 0.000</td> <td>    0.194</td> <td>    0.591</td>\n",
       "</tr>\n",
       "<tr>\n",
       "  <th>alpha</th>  <td>    0.0054</td> <td>    0.003</td> <td>    1.853</td> <td> 0.065</td> <td>   -0.000</td> <td>    0.011</td>\n",
       "</tr>\n",
       "</table>\n",
       "<table class=\"simpletable\">\n",
       "<tr>\n",
       "  <th>Omnibus:</th>       <td>51.981</td> <th>  Durbin-Watson:     </th> <td>   2.149</td>\n",
       "</tr>\n",
       "<tr>\n",
       "  <th>Prob(Omnibus):</th> <td> 0.000</td> <th>  Jarque-Bera (JB):  </th> <td>  95.007</td>\n",
       "</tr>\n",
       "<tr>\n",
       "  <th>Skew:</th>          <td> 0.929</td> <th>  Prob(JB):          </th> <td>2.34e-21</td>\n",
       "</tr>\n",
       "<tr>\n",
       "  <th>Kurtosis:</th>      <td> 5.005</td> <th>  Cond. No.          </th> <td>    38.4</td>\n",
       "</tr>\n",
       "</table><br/><br/>Warnings:<br/>[1] Standard Errors assume that the covariance matrix of the errors is correctly specified."
      ],
      "text/plain": [
       "<class 'statsmodels.iolib.summary.Summary'>\n",
       "\"\"\"\n",
       "                            OLS Regression Results                            \n",
       "==============================================================================\n",
       "Dep. Variable:                   BRKA   R-squared:                       0.298\n",
       "Model:                            OLS   Adj. R-squared:                  0.291\n",
       "Method:                 Least Squares   F-statistic:                     42.52\n",
       "Date:                Tue, 26 Nov 2019   Prob (F-statistic):           6.12e-23\n",
       "Time:                        10:21:30   Log-Likelihood:                 481.50\n",
       "No. Observations:                 305   AIC:                            -955.0\n",
       "Df Residuals:                     301   BIC:                            -940.1\n",
       "Df Model:                           3                                         \n",
       "Covariance Type:            nonrobust                                         \n",
       "==============================================================================\n",
       "                 coef    std err          t      P>|t|      [0.025      0.975]\n",
       "------------------------------------------------------------------------------\n",
       "Mkt-RF         0.6877      0.069     10.013      0.000       0.553       0.823\n",
       "Size          -0.4889      0.094     -5.202      0.000      -0.674      -0.304\n",
       "Value          0.3921      0.101      3.887      0.000       0.194       0.591\n",
       "alpha          0.0054      0.003      1.853      0.065      -0.000       0.011\n",
       "==============================================================================\n",
       "Omnibus:                       51.981   Durbin-Watson:                   2.149\n",
       "Prob(Omnibus):                  0.000   Jarque-Bera (JB):               95.007\n",
       "Skew:                           0.929   Prob(JB):                     2.34e-21\n",
       "Kurtosis:                       5.005   Cond. No.                         38.4\n",
       "==============================================================================\n",
       "\n",
       "Warnings:\n",
       "[1] Standard Errors assume that the covariance matrix of the errors is correctly specified.\n",
       "\"\"\""
      ]
     },
     "execution_count": 20,
     "metadata": {},
     "output_type": "execute_result"
    }
   ],
   "source": [
    "lm_ff = sm.OLS(brka_excess_rets, factors).fit()\n",
    "lm_ff.summary()"
   ]
  },
  {
   "cell_type": "markdown",
   "metadata": {},
   "source": [
    "With Fama-French model, we have that $\\alpha$ has fallen from $0.63\\%$ to about $0.54\\%$ per month. \n",
    "The loading on the market has moved up from about $0.55$ to $0.68$, which means that adding these new explanatory factors did, effectively, \n",
    "change things. \n",
    "\n",
    "We can interpret the loadings on Value being positive (i.e., the **positive beta coefficient of HML**) \n",
    "as saying that **Berkshire Hathaway has a significant Value tilt** - which should not be a shock to anyone that follows Buffet. \n",
    "Additionally, the negative tilt on Size (i.e., **negative beta coefficient of SMB**) \n",
    "suggests that **Berkshire Hathaway tends to invest in large companies rather than small companies**.\n",
    "\n",
    "In other words, **Berkshire Hathaway appears to be a Large Value investor**. \n",
    "Of course, we may already know this if we were following the company.\n",
    "\n",
    "The new way to interpret each dollar invested in Berkshire Hathaway is: \n",
    "- about **$68$ cents in the market and about $32$ cents in T-Bills**; \n",
    "- about **$39$ cents in Value stocks and short $38$ cents in Growth stocks**; \n",
    "- short **$48$ cents in SmallCap stocks and long $50$ cents in LargeCap stocks**. \n",
    "\n",
    "Finally, if we were to do all of this, we would still end up underperforming Berkshire Hathaway by about $0.54\\%$ (**54 basis points**) per month."
   ]
  },
  {
   "cell_type": "markdown",
   "metadata": {},
   "source": [
    "Note that we have the **erk.linear_regression(dep_var, expl_vars, alpha=True)** method in the kit to make a linear regression."
   ]
  },
  {
   "cell_type": "markdown",
   "metadata": {},
   "source": [
    "## Sharpe Style Analysis\n",
    "\n",
    "Now we perform the Sharpe style analysis. Recall that in this case we have a constraint on the coefficients $\\beta$ which are all positives and sum to 1. In this way, the coefficients of the observed return of a manager can be interpreted as **weights in a portfolio of building blocks which together mimic the return series**. The exercise can reveal drifts in a manager's style as well as provide insight into what the manager is likely doing to obtain the returns.\n",
    "\n",
    "To run the Sharpe Style analysis we will use a **quadratic optimizer** to find the weights that minimizes the square of the difference between the observed series and the returns of a benchmark portfolio that holds the explanatory building blocks in those same weights. \n",
    "That is, **we minimize the tracking error between the two return series**:\n",
    "$$\n",
    "\\begin{cases} \n",
    "\\text{minimize} \\; &E(\\beta_i)  \\\\\n",
    "&\\sum_{i=1}^N \\beta_i = 1,\n",
    "\\end{cases}\n",
    "$$\n",
    "where the **tracking error** is given by:\n",
    "$$\n",
    "E(\\beta_i) := \\sqrt{ \\sum_{t}\\left( r_t^m - \\sum_{i=1}^{N} \\beta_i r_t^i \\right)^2 }.\n",
    "$$\n",
    "First of all, we use the industry returns:"
   ]
  },
  {
   "cell_type": "code",
   "execution_count": 156,
   "metadata": {},
   "outputs": [
    {
     "data": {
      "text/html": [
       "<div>\n",
       "<style scoped>\n",
       "    .dataframe tbody tr th:only-of-type {\n",
       "        vertical-align: middle;\n",
       "    }\n",
       "\n",
       "    .dataframe tbody tr th {\n",
       "        vertical-align: top;\n",
       "    }\n",
       "\n",
       "    .dataframe thead th {\n",
       "        text-align: right;\n",
       "    }\n",
       "</style>\n",
       "<table border=\"1\" class=\"dataframe\">\n",
       "  <thead>\n",
       "    <tr style=\"text-align: right;\">\n",
       "      <th></th>\n",
       "      <th>Food</th>\n",
       "      <th>Beer</th>\n",
       "      <th>Smoke</th>\n",
       "      <th>Games</th>\n",
       "      <th>Books</th>\n",
       "      <th>Hshld</th>\n",
       "      <th>Clths</th>\n",
       "      <th>Hlth</th>\n",
       "      <th>Chems</th>\n",
       "      <th>Txtls</th>\n",
       "      <th>...</th>\n",
       "      <th>Telcm</th>\n",
       "      <th>Servs</th>\n",
       "      <th>BusEq</th>\n",
       "      <th>Paper</th>\n",
       "      <th>Trans</th>\n",
       "      <th>Whlsl</th>\n",
       "      <th>Rtail</th>\n",
       "      <th>Meals</th>\n",
       "      <th>Fin</th>\n",
       "      <th>Other</th>\n",
       "    </tr>\n",
       "  </thead>\n",
       "  <tbody>\n",
       "    <tr>\n",
       "      <th>2000-01</th>\n",
       "      <td>-0.0829</td>\n",
       "      <td>-0.0228</td>\n",
       "      <td>-0.0862</td>\n",
       "      <td>0.0229</td>\n",
       "      <td>-0.0092</td>\n",
       "      <td>-0.0651</td>\n",
       "      <td>-0.1138</td>\n",
       "      <td>0.0756</td>\n",
       "      <td>-0.0933</td>\n",
       "      <td>-0.0764</td>\n",
       "      <td>...</td>\n",
       "      <td>-0.0404</td>\n",
       "      <td>-0.0973</td>\n",
       "      <td>-0.0064</td>\n",
       "      <td>-0.0878</td>\n",
       "      <td>-0.0959</td>\n",
       "      <td>0.0899</td>\n",
       "      <td>-0.1453</td>\n",
       "      <td>-0.0739</td>\n",
       "      <td>-0.0442</td>\n",
       "      <td>-0.0412</td>\n",
       "    </tr>\n",
       "    <tr>\n",
       "      <th>2000-02</th>\n",
       "      <td>-0.0689</td>\n",
       "      <td>-0.1164</td>\n",
       "      <td>-0.0401</td>\n",
       "      <td>-0.0177</td>\n",
       "      <td>-0.0071</td>\n",
       "      <td>-0.1157</td>\n",
       "      <td>-0.1278</td>\n",
       "      <td>-0.0288</td>\n",
       "      <td>-0.0729</td>\n",
       "      <td>-0.0584</td>\n",
       "      <td>...</td>\n",
       "      <td>-0.0359</td>\n",
       "      <td>0.0759</td>\n",
       "      <td>0.2509</td>\n",
       "      <td>-0.1142</td>\n",
       "      <td>-0.0535</td>\n",
       "      <td>0.0113</td>\n",
       "      <td>-0.0393</td>\n",
       "      <td>-0.1203</td>\n",
       "      <td>-0.0849</td>\n",
       "      <td>-0.0061</td>\n",
       "    </tr>\n",
       "    <tr>\n",
       "      <th>2000-03</th>\n",
       "      <td>0.0969</td>\n",
       "      <td>0.0013</td>\n",
       "      <td>0.0511</td>\n",
       "      <td>0.1052</td>\n",
       "      <td>0.1293</td>\n",
       "      <td>-0.1426</td>\n",
       "      <td>0.2506</td>\n",
       "      <td>0.0028</td>\n",
       "      <td>0.1217</td>\n",
       "      <td>0.0535</td>\n",
       "      <td>...</td>\n",
       "      <td>0.0757</td>\n",
       "      <td>0.0269</td>\n",
       "      <td>0.0456</td>\n",
       "      <td>0.0836</td>\n",
       "      <td>0.1287</td>\n",
       "      <td>0.0659</td>\n",
       "      <td>0.1436</td>\n",
       "      <td>0.1598</td>\n",
       "      <td>0.1669</td>\n",
       "      <td>-0.0016</td>\n",
       "    </tr>\n",
       "    <tr>\n",
       "      <th>2000-04</th>\n",
       "      <td>-0.0390</td>\n",
       "      <td>0.0368</td>\n",
       "      <td>0.0379</td>\n",
       "      <td>0.0220</td>\n",
       "      <td>-0.0734</td>\n",
       "      <td>0.0429</td>\n",
       "      <td>0.0430</td>\n",
       "      <td>0.0525</td>\n",
       "      <td>-0.0373</td>\n",
       "      <td>0.0648</td>\n",
       "      <td>...</td>\n",
       "      <td>-0.0790</td>\n",
       "      <td>-0.1655</td>\n",
       "      <td>-0.0630</td>\n",
       "      <td>-0.0109</td>\n",
       "      <td>0.0348</td>\n",
       "      <td>-0.0107</td>\n",
       "      <td>-0.0560</td>\n",
       "      <td>0.0382</td>\n",
       "      <td>-0.0425</td>\n",
       "      <td>0.0819</td>\n",
       "    </tr>\n",
       "    <tr>\n",
       "      <th>2000-05</th>\n",
       "      <td>0.1565</td>\n",
       "      <td>0.1187</td>\n",
       "      <td>0.1951</td>\n",
       "      <td>0.0119</td>\n",
       "      <td>-0.0593</td>\n",
       "      <td>0.0279</td>\n",
       "      <td>-0.0504</td>\n",
       "      <td>0.0394</td>\n",
       "      <td>-0.0010</td>\n",
       "      <td>-0.0328</td>\n",
       "      <td>...</td>\n",
       "      <td>-0.1041</td>\n",
       "      <td>-0.0892</td>\n",
       "      <td>-0.1165</td>\n",
       "      <td>-0.0137</td>\n",
       "      <td>-0.0363</td>\n",
       "      <td>0.0193</td>\n",
       "      <td>-0.0304</td>\n",
       "      <td>-0.0421</td>\n",
       "      <td>0.0506</td>\n",
       "      <td>0.0531</td>\n",
       "    </tr>\n",
       "  </tbody>\n",
       "</table>\n",
       "<p>5 rows × 30 columns</p>\n",
       "</div>"
      ],
      "text/plain": [
       "           Food    Beer   Smoke   Games   Books   Hshld   Clths    Hlth  \\\n",
       "2000-01 -0.0829 -0.0228 -0.0862  0.0229 -0.0092 -0.0651 -0.1138  0.0756   \n",
       "2000-02 -0.0689 -0.1164 -0.0401 -0.0177 -0.0071 -0.1157 -0.1278 -0.0288   \n",
       "2000-03  0.0969  0.0013  0.0511  0.1052  0.1293 -0.1426  0.2506  0.0028   \n",
       "2000-04 -0.0390  0.0368  0.0379  0.0220 -0.0734  0.0429  0.0430  0.0525   \n",
       "2000-05  0.1565  0.1187  0.1951  0.0119 -0.0593  0.0279 -0.0504  0.0394   \n",
       "\n",
       "          Chems   Txtls  ...   Telcm   Servs   BusEq   Paper   Trans   Whlsl  \\\n",
       "2000-01 -0.0933 -0.0764  ... -0.0404 -0.0973 -0.0064 -0.0878 -0.0959  0.0899   \n",
       "2000-02 -0.0729 -0.0584  ... -0.0359  0.0759  0.2509 -0.1142 -0.0535  0.0113   \n",
       "2000-03  0.1217  0.0535  ...  0.0757  0.0269  0.0456  0.0836  0.1287  0.0659   \n",
       "2000-04 -0.0373  0.0648  ... -0.0790 -0.1655 -0.0630 -0.0109  0.0348 -0.0107   \n",
       "2000-05 -0.0010 -0.0328  ... -0.1041 -0.0892 -0.1165 -0.0137 -0.0363  0.0193   \n",
       "\n",
       "          Rtail   Meals     Fin   Other  \n",
       "2000-01 -0.1453 -0.0739 -0.0442 -0.0412  \n",
       "2000-02 -0.0393 -0.1203 -0.0849 -0.0061  \n",
       "2000-03  0.1436  0.1598  0.1669 -0.0016  \n",
       "2000-04 -0.0560  0.0382 -0.0425  0.0819  \n",
       "2000-05 -0.0304 -0.0421  0.0506  0.0531  \n",
       "\n",
       "[5 rows x 30 columns]"
      ]
     },
     "execution_count": 156,
     "metadata": {},
     "output_type": "execute_result"
    }
   ],
   "source": [
    "ind_rets = erk.get_ind_returns()[\"2000\":]\n",
    "ind_rets.head()"
   ]
  },
  {
   "cell_type": "markdown",
   "metadata": {},
   "source": [
    "We now construct **an artificial manager return** (i.e. the reuturn of a stock). \n",
    "Suppose that he invests in $30\\%$ Beer, $50\\%$ in Smoke, and $20\\%$ in \n",
    "other things that have an average return of $0\\%$ and an annualized volatility of $15\\%$:"
   ]
  },
  {
   "cell_type": "code",
   "execution_count": 144,
   "metadata": {},
   "outputs": [
    {
     "data": {
      "text/plain": [
       "2000-01   -0.046039\n",
       "2000-02   -0.064663\n",
       "2000-03    0.028972\n",
       "2000-04    0.027679\n",
       "2000-05    0.128420\n",
       "Freq: M, dtype: float64"
      ]
     },
     "execution_count": 144,
     "metadata": {},
     "output_type": "execute_result"
    }
   ],
   "source": [
    "mgr_rets = 0.3*ind_rets[\"Beer\"] + 0.5*ind_rets[\"Smoke\"] + 0.2*np.random.normal(loc=0.0, scale=0.15/np.sqrt(12), size=ind_rets.shape[0])\n",
    "mgr_rets.head()"
   ]
  },
  {
   "cell_type": "markdown",
   "metadata": {},
   "source": [
    "Now, **assume we knew absolutely nothing about this manager** and all we observed was the returns. **How could we tell what she was invested in?** We could run the style analysis in which we try to decompose the return of the manager into a weigthed portfolio of stocks in the industry:"
   ]
  },
  {
   "cell_type": "code",
   "execution_count": 145,
   "metadata": {},
   "outputs": [],
   "source": [
    "weights = erk.style_analysis(mgr_rets, ind_rets)"
   ]
  },
  {
   "cell_type": "code",
   "execution_count": 146,
   "metadata": {},
   "outputs": [
    {
     "data": {
      "image/png": "[encoded data removed]",
      "text/plain": [
       "<Figure size 792x288 with 1 Axes>"
      ]
     },
     "metadata": {},
     "output_type": "display_data"
    }
   ],
   "source": [
    "weights.sort_values(ascending=False).plot.bar(grid=True, figsize=(11,4))\n",
    "plt.show()"
   ]
  },
  {
   "cell_type": "markdown",
   "metadata": {},
   "source": [
    "We can see that we got about $50\\%$ in Smoke and $35\\%$ in Beer, which is pretty accurate, plus other investments in industries \n",
    "that eventually we know that are not true (since we artificially invented the manager returns).  \n",
    "\n",
    "We could in pricnciple run a **linear regression** as well:"
   ]
  },
  {
   "cell_type": "code",
   "execution_count": 147,
   "metadata": {},
   "outputs": [],
   "source": [
    "betas = erk.linear_regression(mgr_rets, ind_rets).params"
   ]
  },
  {
   "cell_type": "code",
   "execution_count": 148,
   "metadata": {},
   "outputs": [
    {
     "data": {
      "image/png": "[encoded data removed]",
      "text/plain": [
       "<Figure size 792x288 with 1 Axes>"
      ]
     },
     "metadata": {},
     "output_type": "display_data"
    }
   ],
   "source": [
    "betas.sort_values(ascending=False).plot.bar(grid=True, figsize=(11,4))\n",
    "plt.show()"
   ]
  },
  {
   "cell_type": "markdown",
   "metadata": {},
   "source": [
    "Note that now we obtain negative indices (since in the regression problem we do not impose any constraint). We see that we still obtain a pretty accurate description of the right investments (Smoke and Beer) and a bunch of many other stuff. \n",
    "However, in this case, **negative coefficients are hard to intepret and in real-life data, those will be much larger**."
   ]
  },
  {
   "cell_type": "markdown",
   "metadata": {},
   "source": [
    "#### Warning: Potential Misuse of Style Analysis\n",
    "\n",
    "Style Analysis works best when the explanatory indices are in fact a good specification of what is happening. For instance, it usually gives you very useful and revealing insight if we use a stock market index (such as **SPY**) and other broad indices, ETFs or mutual funds (such as a Value Fund, a Growth Fund, an International Fund, a Bond Fund etc).\n",
    "\n",
    "Part of the skill in extracting meaningful results is to **pick the right set of explanatory variables**.\n",
    "On the other hand, **a style analysis will always return a portfolio**, however unreasonable it might be, and, moreover, \n",
    "it is not always obvious **how much we can rely on the results we get**.\n",
    "\n",
    "Let us extract the major industries **Buffer invested in since 2000 as follows**:"
   ]
  },
  {
   "cell_type": "code",
   "execution_count": 138,
   "metadata": {},
   "outputs": [],
   "source": [
    "brka_rets = erk.get_brka_rets(monthly=True)[\"2000\":]"
   ]
  },
  {
   "cell_type": "code",
   "execution_count": 139,
   "metadata": {},
   "outputs": [],
   "source": [
    "weights = erk.style_analysis(brka_rets, ind_rets[\"2000\":])  "
   ]
  },
  {
   "cell_type": "code",
   "execution_count": 140,
   "metadata": {},
   "outputs": [
    {
     "data": {
      "image/png": "[encoded data removed]",
      "text/plain": [
       "<Figure size 792x288 with 1 Axes>"
      ]
     },
     "metadata": {},
     "output_type": "display_data"
    }
   ],
   "source": [
    "weights.sort_values(ascending=False).plot.bar(grid=True, figsize=(11,4))\n",
    "plt.show()"
   ]
  },
  {
   "cell_type": "markdown",
   "metadata": {},
   "source": [
    "If we pick returns from 2009:"
   ]
  },
  {
   "cell_type": "code",
   "execution_count": 141,
   "metadata": {},
   "outputs": [],
   "source": [
    "weights = erk.style_analysis(brka_rets[\"2009\":], ind_rets[\"2009\":])  "
   ]
  },
  {
   "cell_type": "code",
   "execution_count": 142,
   "metadata": {},
   "outputs": [
    {
     "data": {
      "image/png": "[encoded data removed]",
      "text/plain": [
       "<Figure size 792x288 with 1 Axes>"
      ]
     },
     "metadata": {},
     "output_type": "display_data"
    }
   ],
   "source": [
    "weights.sort_values(ascending=False).plot.bar(grid=True, figsize=(11,4))\n",
    "plt.show()"
   ]
  },
  {
   "cell_type": "markdown",
   "metadata": {},
   "source": [
    "Should we believe the analysis? Probably not. However, when the specification is in fact accurate (as we saw in the articially generated series) the results can be very revealing."
   ]
  },
  {
   "cell_type": "markdown",
   "metadata": {},
   "source": [
    "#### Style Drift: Time Varying Exposures using Style Anaylsis\n",
    "One of the most common ways in which Sharpe Style Analysis can be used is to measure style drift. \n",
    "If we run the style analysis function over a rolling window of 1 to 5 years, you can extract changes in the style exposures of a manager.\n",
    "\n",
    "As an exercise to the student, download a set of returns from Yahoo Finance, and try and measure the style drift in your favorite fund manager. Use reliable Value and Growth ETFs such as \"SPYG\" and \"SPYV\" along with a SmallCap ETF such as \"SLY\" and LargeCap ETF such as \"OEF\".\n",
    "\n",
    "Alternately, the Fama-French research factors and use the Top and Bottom portfolios by Value (HML) and Size (SMB) to categorize mutual funds into categories. This is very similar to the \"Style Box\" methodology employed by Morningstar and displayed on their website. Compare your results with their results to see if they agree!"
   ]
  },
  {
   "cell_type": "markdown",
   "metadata": {},
   "source": [
    "## Comparing Equally Weigthed (EW) and Cap-Weighted (CW) Portfolios\n",
    "\n",
    "Let us load the **Equally-Weigthed (EW)** and the **Value-Weighted (VW)** \n",
    "versions of the returns of the industry portfolios:"
   ]
  },
  {
   "cell_type": "code",
   "execution_count": 507,
   "metadata": {},
   "outputs": [],
   "source": [
    "ind_rets_cw = erk.get_ind_file(filetype=\"rets\", nind=30, ew=False)\n",
    "ind_rets_ew = erk.get_ind_file(filetype=\"rets\", nind=30, ew=True)"
   ]
  },
  {
   "cell_type": "markdown",
   "metadata": {},
   "source": [
    "Notice that here **Value-Weigthed does not regard Value Stocks**, it simply means weigthing by market capitalization as opposite as equally weigthing."
   ]
  },
  {
   "cell_type": "markdown",
   "metadata": {},
   "source": [
    "Let us compute the sharpe ratios of these portfolio across each industry and compare them:"
   ]
  },
  {
   "cell_type": "code",
   "execution_count": 508,
   "metadata": {},
   "outputs": [],
   "source": [
    "risk_free_rate = 0.03\n",
    "sr = pd.DataFrame({\n",
    "    \"CW\": erk.sharpe_ratio(ind_rets_cw[\"1945\":], risk_free_rate, 12), \n",
    "    \"EW\": erk.sharpe_ratio(ind_rets_ew[\"1945\":], risk_free_rate, 12)\n",
    "})"
   ]
  },
  {
   "cell_type": "code",
   "execution_count": 509,
   "metadata": {},
   "outputs": [
    {
     "data": {
      "image/png": "[encoded data removed]",
      "text/plain": [
       "<Figure size 864x360 with 1 Axes>"
      ]
     },
     "metadata": {},
     "output_type": "display_data"
    }
   ],
   "source": [
    "# percentage of times the EW sharpe ratio was higher than the VW sharpe ratio\n",
    "pew_er = (sr[\"EW\"] > sr[\"CW\"]).sum()/sr.shape[0] * 100\n",
    "\n",
    "ax = sr.plot.bar(grid=True, figsize=(12,5))\n",
    "ax.set_title(\"EW-SR higher than VW-SR: {:.1f}%\".format(pew_er))\n",
    "plt.show()"
   ]
  },
  {
   "cell_type": "code",
   "execution_count": null,
   "metadata": {},
   "outputs": [],
   "source": []
  },
  {
   "cell_type": "code",
   "execution_count": null,
   "metadata": {},
   "outputs": [],
   "source": []
  },
  {
   "cell_type": "code",
   "execution_count": null,
   "metadata": {},
   "outputs": [],
   "source": []
  },
  {
   "cell_type": "code",
   "execution_count": null,
   "metadata": {},
   "outputs": [],
   "source": []
  },
  {
   "cell_type": "code",
   "execution_count": null,
   "metadata": {},
   "outputs": [],
   "source": []
  },
  {
   "cell_type": "code",
   "execution_count": null,
   "metadata": {},
   "outputs": [],
   "source": []
  },
  {
   "cell_type": "code",
   "execution_count": 514,
   "metadata": {},
   "outputs": [],
   "source": [
    "nind = 49"
   ]
  },
  {
   "cell_type": "code",
   "execution_count": 525,
   "metadata": {},
   "outputs": [
    {
     "data": {
      "text/html": [
       "<div>\n",
       "<style scoped>\n",
       "    .dataframe tbody tr th:only-of-type {\n",
       "        vertical-align: middle;\n",
       "    }\n",
       "\n",
       "    .dataframe tbody tr th {\n",
       "        vertical-align: top;\n",
       "    }\n",
       "\n",
       "    .dataframe thead th {\n",
       "        text-align: right;\n",
       "    }\n",
       "</style>\n",
       "<table border=\"1\" class=\"dataframe\">\n",
       "  <thead>\n",
       "    <tr style=\"text-align: right;\">\n",
       "      <th></th>\n",
       "      <th>Agric</th>\n",
       "      <th>Food</th>\n",
       "      <th>Soda</th>\n",
       "      <th>Beer</th>\n",
       "      <th>Smoke</th>\n",
       "      <th>Toys</th>\n",
       "      <th>Fun</th>\n",
       "      <th>Books</th>\n",
       "      <th>Hshld</th>\n",
       "      <th>Clths</th>\n",
       "      <th>...</th>\n",
       "      <th>Boxes</th>\n",
       "      <th>Trans</th>\n",
       "      <th>Whlsl</th>\n",
       "      <th>Rtail</th>\n",
       "      <th>Meals</th>\n",
       "      <th>Banks</th>\n",
       "      <th>Insur</th>\n",
       "      <th>RlEst</th>\n",
       "      <th>Fin</th>\n",
       "      <th>Other</th>\n",
       "    </tr>\n",
       "  </thead>\n",
       "  <tbody>\n",
       "    <tr>\n",
       "      <th>1974-01</th>\n",
       "      <td>0.000757</td>\n",
       "      <td>0.023874</td>\n",
       "      <td>0.014288</td>\n",
       "      <td>0.006235</td>\n",
       "      <td>0.008435</td>\n",
       "      <td>0.004557</td>\n",
       "      <td>0.002918</td>\n",
       "      <td>0.006314</td>\n",
       "      <td>0.087971</td>\n",
       "      <td>0.003453</td>\n",
       "      <td>...</td>\n",
       "      <td>0.016800</td>\n",
       "      <td>0.014330</td>\n",
       "      <td>0.005279</td>\n",
       "      <td>0.046936</td>\n",
       "      <td>0.006213</td>\n",
       "      <td>0.031837</td>\n",
       "      <td>0.020093</td>\n",
       "      <td>0.001807</td>\n",
       "      <td>0.040329</td>\n",
       "      <td>0.044887</td>\n",
       "    </tr>\n",
       "    <tr>\n",
       "      <th>1974-02</th>\n",
       "      <td>0.000773</td>\n",
       "      <td>0.025248</td>\n",
       "      <td>0.013489</td>\n",
       "      <td>0.006172</td>\n",
       "      <td>0.008666</td>\n",
       "      <td>0.004958</td>\n",
       "      <td>0.003160</td>\n",
       "      <td>0.006053</td>\n",
       "      <td>0.085401</td>\n",
       "      <td>0.003770</td>\n",
       "      <td>...</td>\n",
       "      <td>0.016839</td>\n",
       "      <td>0.014344</td>\n",
       "      <td>0.005555</td>\n",
       "      <td>0.050377</td>\n",
       "      <td>0.006280</td>\n",
       "      <td>0.031768</td>\n",
       "      <td>0.019675</td>\n",
       "      <td>0.002004</td>\n",
       "      <td>0.040422</td>\n",
       "      <td>0.045171</td>\n",
       "    </tr>\n",
       "    <tr>\n",
       "      <th>1974-03</th>\n",
       "      <td>0.000883</td>\n",
       "      <td>0.025604</td>\n",
       "      <td>0.013220</td>\n",
       "      <td>0.006077</td>\n",
       "      <td>0.008796</td>\n",
       "      <td>0.004838</td>\n",
       "      <td>0.003161</td>\n",
       "      <td>0.005738</td>\n",
       "      <td>0.082550</td>\n",
       "      <td>0.003859</td>\n",
       "      <td>...</td>\n",
       "      <td>0.017098</td>\n",
       "      <td>0.015476</td>\n",
       "      <td>0.005700</td>\n",
       "      <td>0.051104</td>\n",
       "      <td>0.006005</td>\n",
       "      <td>0.032384</td>\n",
       "      <td>0.019254</td>\n",
       "      <td>0.001954</td>\n",
       "      <td>0.040982</td>\n",
       "      <td>0.044799</td>\n",
       "    </tr>\n",
       "    <tr>\n",
       "      <th>1974-04</th>\n",
       "      <td>0.000891</td>\n",
       "      <td>0.025714</td>\n",
       "      <td>0.012954</td>\n",
       "      <td>0.006074</td>\n",
       "      <td>0.008467</td>\n",
       "      <td>0.005081</td>\n",
       "      <td>0.003358</td>\n",
       "      <td>0.006207</td>\n",
       "      <td>0.084434</td>\n",
       "      <td>0.003871</td>\n",
       "      <td>...</td>\n",
       "      <td>0.017267</td>\n",
       "      <td>0.015057</td>\n",
       "      <td>0.005921</td>\n",
       "      <td>0.049980</td>\n",
       "      <td>0.006376</td>\n",
       "      <td>0.031559</td>\n",
       "      <td>0.018815</td>\n",
       "      <td>0.001956</td>\n",
       "      <td>0.040202</td>\n",
       "      <td>0.044434</td>\n",
       "    </tr>\n",
       "    <tr>\n",
       "      <th>1974-05</th>\n",
       "      <td>0.000846</td>\n",
       "      <td>0.026251</td>\n",
       "      <td>0.013041</td>\n",
       "      <td>0.006144</td>\n",
       "      <td>0.008643</td>\n",
       "      <td>0.004822</td>\n",
       "      <td>0.003241</td>\n",
       "      <td>0.006097</td>\n",
       "      <td>0.084895</td>\n",
       "      <td>0.003852</td>\n",
       "      <td>...</td>\n",
       "      <td>0.017598</td>\n",
       "      <td>0.015178</td>\n",
       "      <td>0.006092</td>\n",
       "      <td>0.051341</td>\n",
       "      <td>0.006481</td>\n",
       "      <td>0.031371</td>\n",
       "      <td>0.017868</td>\n",
       "      <td>0.001795</td>\n",
       "      <td>0.039215</td>\n",
       "      <td>0.044104</td>\n",
       "    </tr>\n",
       "  </tbody>\n",
       "</table>\n",
       "<p>5 rows × 49 columns</p>\n",
       "</div>"
      ],
      "text/plain": [
       "            Agric      Food      Soda      Beer     Smoke      Toys       Fun  \\\n",
       "1974-01  0.000757  0.023874  0.014288  0.006235  0.008435  0.004557  0.002918   \n",
       "1974-02  0.000773  0.025248  0.013489  0.006172  0.008666  0.004958  0.003160   \n",
       "1974-03  0.000883  0.025604  0.013220  0.006077  0.008796  0.004838  0.003161   \n",
       "1974-04  0.000891  0.025714  0.012954  0.006074  0.008467  0.005081  0.003358   \n",
       "1974-05  0.000846  0.026251  0.013041  0.006144  0.008643  0.004822  0.003241   \n",
       "\n",
       "            Books     Hshld     Clths  ...     Boxes     Trans     Whlsl  \\\n",
       "1974-01  0.006314  0.087971  0.003453  ...  0.016800  0.014330  0.005279   \n",
       "1974-02  0.006053  0.085401  0.003770  ...  0.016839  0.014344  0.005555   \n",
       "1974-03  0.005738  0.082550  0.003859  ...  0.017098  0.015476  0.005700   \n",
       "1974-04  0.006207  0.084434  0.003871  ...  0.017267  0.015057  0.005921   \n",
       "1974-05  0.006097  0.084895  0.003852  ...  0.017598  0.015178  0.006092   \n",
       "\n",
       "            Rtail     Meals     Banks     Insur     RlEst       Fin     Other  \n",
       "1974-01  0.046936  0.006213  0.031837  0.020093  0.001807  0.040329  0.044887  \n",
       "1974-02  0.050377  0.006280  0.031768  0.019675  0.002004  0.040422  0.045171  \n",
       "1974-03  0.051104  0.006005  0.032384  0.019254  0.001954  0.040982  0.044799  \n",
       "1974-04  0.049980  0.006376  0.031559  0.018815  0.001956  0.040202  0.044434  \n",
       "1974-05  0.051341  0.006481  0.031371  0.017868  0.001795  0.039215  0.044104  \n",
       "\n",
       "[5 rows x 49 columns]"
      ]
     },
     "execution_count": 525,
     "metadata": {},
     "output_type": "execute_result"
    }
   ],
   "source": [
    "ind_rets = erk.get_ind_file(filetype=\"rets\", nind=nind)[\"1974\":]\n",
    "ind_mcap = erk.get_ind_market_caps(nind=nind, weights=True)[\"1974\":]\n",
    "ind_mcap.head()"
   ]
  },
  {
   "cell_type": "markdown",
   "metadata": {},
   "source": [
    "Note that the **weights=True** in the **erk.get_ind_market_caps** method means that the method return the single industries market cap-weigths as a percentage of the total market capitalization (look inside the method)."
   ]
  },
  {
   "cell_type": "code",
   "execution_count": 526,
   "metadata": {},
   "outputs": [
    {
     "data": {
      "image/png": "[encoded data removed]",
      "text/plain": [
       "<Figure size 792x432 with 1 Axes>"
      ]
     },
     "metadata": {},
     "output_type": "display_data"
    }
   ],
   "source": [
    "window  = 52\n",
    "ew_rets = erk.backtest_weight_scheme(ind_rets, window=window, weight_scheme=erk.weight_ew)\n",
    "cw_rets = erk.backtest_weight_scheme(ind_rets, window=window, weight_scheme=erk.weight_cw, cap_ws=ind_mcap)\n",
    "\n",
    "bt_rets   = pd.DataFrame({\"EW\": ew_rets, \"CW\": cw_rets})\n",
    "bt_growth = (1 + bt_rets).cumprod()\n",
    "bt_growth.plot(grid=True, figsize=(11,6), title=\"{} Industries - CapWeighted vs EquallyWeighted\".format(nind))\n",
    "plt.show()"
   ]
  },
  {
   "cell_type": "code",
   "execution_count": 527,
   "metadata": {},
   "outputs": [
    {
     "data": {
      "text/html": [
       "<div>\n",
       "<style scoped>\n",
       "    .dataframe tbody tr th:only-of-type {\n",
       "        vertical-align: middle;\n",
       "    }\n",
       "\n",
       "    .dataframe tbody tr th {\n",
       "        vertical-align: top;\n",
       "    }\n",
       "\n",
       "    .dataframe thead th {\n",
       "        text-align: right;\n",
       "    }\n",
       "</style>\n",
       "<table border=\"1\" class=\"dataframe\">\n",
       "  <thead>\n",
       "    <tr style=\"text-align: right;\">\n",
       "      <th></th>\n",
       "      <th>Ann. return</th>\n",
       "      <th>Ann. vol</th>\n",
       "      <th>Sharpe ratio</th>\n",
       "      <th>Skewness</th>\n",
       "      <th>Kurtosis</th>\n",
       "      <th>Historic CVar</th>\n",
       "      <th>C-F Var</th>\n",
       "      <th>Max Drawdown</th>\n",
       "    </tr>\n",
       "  </thead>\n",
       "  <tbody>\n",
       "    <tr>\n",
       "      <th>EW</th>\n",
       "      <td>0.124764</td>\n",
       "      <td>0.162239</td>\n",
       "      <td>0.568314</td>\n",
       "      <td>-0.789831</td>\n",
       "      <td>6.575372</td>\n",
       "      <td>0.105574</td>\n",
       "      <td>0.072574</td>\n",
       "      <td>-0.528292</td>\n",
       "    </tr>\n",
       "    <tr>\n",
       "      <th>CW</th>\n",
       "      <td>0.121158</td>\n",
       "      <td>0.149160</td>\n",
       "      <td>0.594657</td>\n",
       "      <td>-0.738559</td>\n",
       "      <td>5.599102</td>\n",
       "      <td>0.096448</td>\n",
       "      <td>0.066572</td>\n",
       "      <td>-0.516615</td>\n",
       "    </tr>\n",
       "  </tbody>\n",
       "</table>\n",
       "</div>"
      ],
      "text/plain": [
       "    Ann. return  Ann. vol  Sharpe ratio  Skewness  Kurtosis  Historic CVar  \\\n",
       "EW     0.124764  0.162239      0.568314 -0.789831  6.575372       0.105574   \n",
       "CW     0.121158  0.149160      0.594657 -0.738559  5.599102       0.096448   \n",
       "\n",
       "     C-F Var  Max Drawdown  \n",
       "EW  0.072574     -0.528292  \n",
       "CW  0.066572     -0.516615  "
      ]
     },
     "execution_count": 527,
     "metadata": {},
     "output_type": "execute_result"
    }
   ],
   "source": [
    "erk.summary_stats( bt_rets.dropna() )"
   ]
  },
  {
   "cell_type": "markdown",
   "metadata": {},
   "source": [
    "#### Improving EW schemes with CapWeight Tethering\n",
    "\n",
    "Although very popular, often in practice, purely equally weigthed portfolios are not used \n",
    "as such portofolios are constrained in some way, \n",
    "for instance, to match the sector weights of the cap-weighted benchmark or to make sure that **microcap stocks are not overweighted**. The motivation for doing so could be to make a portfolio **more tradeable (e.g. some microcaps may not have the liquidity**) or to **improve the tracking error to the Cap-Weighted index**.\n",
    "\n",
    "We can then **modify the equally weigthed scheme** in order to:\n",
    "- drop microcap stocks beyond a given threshold, \n",
    "- impose a constraint that ensures that the maximum weight assigned to any stock is no more than some multiple of the weight it would be in a cap-weighted portfolio."
   ]
  },
  {
   "cell_type": "code",
   "execution_count": 528,
   "metadata": {},
   "outputs": [
    {
     "data": {
      "image/png": "[encoded data removed]",
      "text/plain": [
       "<Figure size 792x432 with 1 Axes>"
      ]
     },
     "metadata": {},
     "output_type": "display_data"
    }
   ],
   "source": [
    "window = 52\n",
    "ew_rets    = erk.backtest_weight_scheme(ind49_rets, window=window, weight_scheme=erk.weight_ew)\n",
    "ew_tr_rest = erk.backtest_weight_scheme(ind49_rets, window=window, weight_scheme=erk.weight_ew, cap_ws=ind49_mcap, max_cw_mult=5, microcap_thr=0.005)\n",
    "cw_rets    = erk.backtest_weight_scheme(ind49_rets, window=window, weight_scheme=erk.weight_cw, cap_ws=ind49_mcap)\n",
    "\n",
    "bt_rets    = pd.DataFrame({\"EW\": ew_rets, \"EW-Tethered\": ew_tr_rest, \"CW\": cw_rets})\n",
    "bt_growth = (1 + bt_rets).cumprod()\n",
    "bt_growth.plot(grid=True, figsize=(11,6), title=\"49 Industries - CapWeighted vs Equally Weighted vs Thethered EW\")\n",
    "plt.show()"
   ]
  },
  {
   "cell_type": "code",
   "execution_count": 529,
   "metadata": {},
   "outputs": [
    {
     "data": {
      "text/html": [
       "<div>\n",
       "<style scoped>\n",
       "    .dataframe tbody tr th:only-of-type {\n",
       "        vertical-align: middle;\n",
       "    }\n",
       "\n",
       "    .dataframe tbody tr th {\n",
       "        vertical-align: top;\n",
       "    }\n",
       "\n",
       "    .dataframe thead th {\n",
       "        text-align: right;\n",
       "    }\n",
       "</style>\n",
       "<table border=\"1\" class=\"dataframe\">\n",
       "  <thead>\n",
       "    <tr style=\"text-align: right;\">\n",
       "      <th></th>\n",
       "      <th>Ann. return</th>\n",
       "      <th>Ann. vol</th>\n",
       "      <th>Sharpe ratio</th>\n",
       "      <th>Skewness</th>\n",
       "      <th>Kurtosis</th>\n",
       "      <th>Historic CVar</th>\n",
       "      <th>C-F Var</th>\n",
       "      <th>Max Drawdown</th>\n",
       "    </tr>\n",
       "  </thead>\n",
       "  <tbody>\n",
       "    <tr>\n",
       "      <th>EW</th>\n",
       "      <td>0.124764</td>\n",
       "      <td>0.162239</td>\n",
       "      <td>0.568314</td>\n",
       "      <td>-0.789831</td>\n",
       "      <td>6.575372</td>\n",
       "      <td>0.105574</td>\n",
       "      <td>0.072574</td>\n",
       "      <td>-0.528292</td>\n",
       "    </tr>\n",
       "    <tr>\n",
       "      <th>EW-Tethered</th>\n",
       "      <td>0.125691</td>\n",
       "      <td>0.157930</td>\n",
       "      <td>0.589551</td>\n",
       "      <td>-0.775741</td>\n",
       "      <td>6.180246</td>\n",
       "      <td>0.101859</td>\n",
       "      <td>0.070546</td>\n",
       "      <td>-0.531739</td>\n",
       "    </tr>\n",
       "    <tr>\n",
       "      <th>CW</th>\n",
       "      <td>0.121158</td>\n",
       "      <td>0.149160</td>\n",
       "      <td>0.594657</td>\n",
       "      <td>-0.738559</td>\n",
       "      <td>5.599102</td>\n",
       "      <td>0.096448</td>\n",
       "      <td>0.066572</td>\n",
       "      <td>-0.516615</td>\n",
       "    </tr>\n",
       "  </tbody>\n",
       "</table>\n",
       "</div>"
      ],
      "text/plain": [
       "             Ann. return  Ann. vol  Sharpe ratio  Skewness  Kurtosis  \\\n",
       "EW              0.124764  0.162239      0.568314 -0.789831  6.575372   \n",
       "EW-Tethered     0.125691  0.157930      0.589551 -0.775741  6.180246   \n",
       "CW              0.121158  0.149160      0.594657 -0.738559  5.599102   \n",
       "\n",
       "             Historic CVar   C-F Var  Max Drawdown  \n",
       "EW                0.105574  0.072574     -0.528292  \n",
       "EW-Tethered       0.101859  0.070546     -0.531739  \n",
       "CW                0.096448  0.066572     -0.516615  "
      ]
     },
     "execution_count": 529,
     "metadata": {},
     "output_type": "execute_result"
    }
   ],
   "source": [
    "erk.summary_stats( bt_rets.dropna() )"
   ]
  }
 ],
 "metadata": {
  "kernelspec": {
   "display_name": "Python 3",
   "language": "python",
   "name": "python3"
  },
  "language_info": {
   "codemirror_mode": {
    "name": "ipython",
    "version": 3
   },
   "file_extension": ".py",
   "mimetype": "text/x-python",
   "name": "python",
   "nbconvert_exporter": "python",
   "pygments_lexer": "ipython3",
   "version": "3.7.1"
  }
 },
 "nbformat": 4,
 "nbformat_minor": 2
}
