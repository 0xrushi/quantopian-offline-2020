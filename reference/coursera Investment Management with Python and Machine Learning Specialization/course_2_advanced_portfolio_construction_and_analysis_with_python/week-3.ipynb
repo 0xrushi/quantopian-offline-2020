{
 "cells": [
  {
   "cell_type": "markdown",
   "metadata": {},
   "source": [
    "# Week 3"
   ]
  },
  {
   "cell_type": "code",
   "execution_count": 1,
   "metadata": {},
   "outputs": [],
   "source": [
    "import pandas as pd\n",
    "import numpy as np\n",
    "import statsmodels.api as sm\n",
    "import matplotlib.pyplot as plt"
   ]
  },
  {
   "cell_type": "code",
   "execution_count": 2,
   "metadata": {},
   "outputs": [],
   "source": [
    "%load_ext autoreload\n",
    "%autoreload 2\n",
    "%matplotlib inline"
   ]
  },
  {
   "cell_type": "code",
   "execution_count": 3,
   "metadata": {},
   "outputs": [],
   "source": [
    "import sys\n",
    "sys.path.append(\"../\")\n",
    "import edhec_risk_kit as erk"
   ]
  },
  {
   "cell_type": "code",
   "execution_count": 4,
   "metadata": {},
   "outputs": [],
   "source": [
    "# using seaborn style (type plt.style.available to see available styles)\n",
    "plt.style.use(\"seaborn-dark\")"
   ]
  },
  {
   "cell_type": "markdown",
   "metadata": {},
   "source": [
    "## Estimates for expected returns"
   ]
  },
  {
   "cell_type": "markdown",
   "metadata": {},
   "source": [
    "In principle, the **Modern Portfolio Theory** (the mean-variance approach of **Markowitz**) offers a solution to this problem once the expected returns and covariances of the assets are known. While Modern Portfolio Theory is an important theoretical advance, **its application has universally encountered a problem**: although the covariances of a few assets can be adequately estimated, **it is difficult to come up with reasonable estimates of expected returns**.\n",
    "\n",
    "In particular, recall that Markowitz portfolio allocation approach takes in input the set of expected returns and expected volatilities of the assets we are interested in, and gives in output the set of optimal weights in these assets. \n",
    "\n",
    "The problem is that **very small changes in the expected returns normally result in large changes in output weights**. Of course, this represent a problem (also because we cannot pretend to invest today in a portoflio by relying on exact past returns and volatilities as they are not likely to be the same in future).\n",
    "\n",
    "In general, **sample based information** such as the returns computed using sampled past data **are close to useless**. \n",
    "\n",
    "Let $N$ be the number of assets in our portfolio."
   ]
  },
  {
   "cell_type": "markdown",
   "metadata": {},
   "source": [
    "#### Shrinked expected returns \n",
    "\n",
    "A very basic estimate for expected returns is a simple modificiation of sample means. Let \n",
    "$$\n",
    "\\mu_i := \\frac{1}{T} \\sum_{t=1}^{T} r_{t}^{i} \n",
    "\\quad\\text{and}\\quad\n",
    "\\bar{\\mu} := \\frac{1}{N} \\sum_{i=1}^N \\mu_i, \n",
    "$$\n",
    "be the **sample mean return** of each asset \n",
    "and the **grand sample mean** (i.e., the mean of the computed mean returns), respectively. \n",
    "The sample mean might be improved by **shrinking** the individual means to the grand sample mean:\n",
    "$$\n",
    "\\hat{\\mu}_i := \\delta \\bar{\\mu} + (1-\\delta)\\mu_i,\n",
    "$$\n",
    "given a shrinking factor $\\delta\\in [0,1]$ (when $\\delta=1$ we are saying that all asset's returns are equal to the grand sample mean)."
   ]
  },
  {
   "cell_type": "code",
   "execution_count": 5,
   "metadata": {},
   "outputs": [
    {
     "name": "stdout",
     "output_type": "stream",
     "text": [
      "sample means:   [11.1 12.3  8.4 15.3  5.6  9.7]%\n",
      "shrinked means: [10.75 11.35  9.4  12.85  8.   10.05]%\n"
     ]
    }
   ],
   "source": [
    "# these are the \\mu_i\n",
    "asset_means_rets = np.array([11.1, 12.3, 8.4, 15.3, 5.6, 9.7])/100\n",
    "\n",
    "# this is \\bar{\\mu} \n",
    "grand_sample_mean = asset_means_rets.mean()\n",
    "\n",
    "# shrinked mean\n",
    "delta = 0.5\n",
    "shrinked_mean_ret = delta * grand_sample_mean + (1-delta)* asset_means_rets\n",
    "\n",
    "print(\"sample means:   {}%\" .format( np.round(asset_means_rets*100,2)) )\n",
    "print(\"shrinked means: {}%\" .format( np.round(shrinked_mean_ret*100,2) ) )"
   ]
  },
  {
   "cell_type": "markdown",
   "metadata": {},
   "source": [
    "### Relying on agnostic priors\n",
    "\n",
    "Recall that the **expected return and the volatility of a portfolio** of $N$ assets are given by:\n",
    "$$\n",
    "\\mu_p := \\mathbf{w}^T\\mathbf{\\mu} = \\sum_{i=1}^N w_i \\mu_i\n",
    "\\quad\\text{and}\\quad\n",
    "\\sigma_p = (\\mathbf{w}^T \\Sigma \\mathbf{w})^{1/2}, \n",
    "$$\n",
    "where $\\mathbf{w}:=(w_1,\\dots,w_N)^T$ is the vector of weigths, \n",
    "$\\mathbf{\\mu}:=(\\mu_1,\\dots,\\mu_N)$, where $\\mu_i=\\mathbb{E}[r_i]$ for each $i=1,\\dots,N$ is the expected return of asset $i$, and $\\Sigma$ is the expected covariance matrix of the assets.\n",
    "\n",
    "The vector of expected returns $\\mathbf{\\mu}:=(\\mu_1,\\dots,\\mu_N)$ is what we are mainly concerned about. \n",
    "\n",
    "We have to introduce some, ideally **economically motivated, priors** since using sample based expected returns is not going to work fine.\n",
    "\n",
    "\n",
    "Let us suppose that we are interested in the maximum sharpe ratio portfolio, i.e., the portoflio or which the sharpe ratio:\n",
    "$$\n",
    "\\lambda_p = \\frac{\\mu_p - r_f}{\\sigma_p} \n",
    "= \\frac{ \\sum_{i=1}^N w_i (\\mu_i - r_f)}{ (\\mathbf{w}^T \\Sigma \\mathbf{w})^{1/2} },\n",
    "$$\n",
    "is maximum."
   ]
  },
  {
   "cell_type": "markdown",
   "metadata": {},
   "source": [
    "#### First agnostic prior: all returns are equal\n",
    "A very first agnostic prior is assuming that **all expected returns are going to be equal**, for example, equal to the grand sample mean. Of course we know that such assumption would be wrong. However, \n",
    "in this case we have:\n",
    "$$\n",
    "\\mu_i - r_f = \\hat{\\mu} - r_f \\qquad \\forall\\; i,\n",
    "$$\n",
    "hence maximizing the sharpe ratio means, indeed, minimizing the volatility:\n",
    "$$\n",
    "\\lambda_p = \\frac{\\mu_p - r_f}{\\sigma_p} \n",
    "= \\frac{ \\sum_{i=1}^N w_i (\\hat{\\mu} - r_f)}{ (\\mathbf{w}^T \\Sigma \\mathbf{w})^{1/2} }\n",
    "= \\frac{ \\hat{\\mu} - r_f }{ (\\mathbf{w}^T \\Sigma \\mathbf{w})^{1/2} }.\n",
    "$$"
   ]
  },
  {
   "cell_type": "markdown",
   "metadata": {},
   "source": [
    "#### Second agnostic prior: sharpe ratios are all equal\n",
    "A second agnostic prior would be assuming that sharpe ratios are all equal, in particular, this means assuming that the excess \n",
    "return $\\mu_i-r_f$ of each asset is proportional to the corresponding volatility $\\sigma_i$:\n",
    "$$\n",
    "\\mu_i - r_f = \\lambda \\sigma_i \n",
    "\\qquad  \\forall\\; i, \n",
    "$$\n",
    "where the constant of proportionality $\\lambda$ is sharpe ratio supposed to be the same for each asset. In this case, the assumption we are making is simply that **more volatile assets are going to have larger expected returns**. The sharpe ratio of the portfolio becomes:\n",
    "$$\n",
    "\\lambda_p = \\frac{\\mu_p - r_f}{\\sigma_p} \n",
    "= \\frac{ \\sum_{i=1}^N w_i \\lambda \\sigma_i}{ (\\mathbf{w}^T \\Sigma \\mathbf{w})^{1/2} }\n",
    "= \\lambda \\frac{ \\sum_{i=1}^N w_i \\sigma_i }{ (\\mathbf{w}^T \\Sigma \\mathbf{w})^{1/2} }. \n",
    "$$\n",
    "The ratio between the weigthed volatilities and the volatility of the portfolio is known as the **diversification ratio**.\n",
    "\n",
    "**EXAMPLE:** \n",
    "What is the Sharpe ratio of a portfolio of an equally-weighted portfolio of two stocks with volatility equal to $20\\%$ and $30\\%$, respectively, and a pairwise correlation $0.6$, assuming that they \n",
    "both have a Sharpe ratio of $\\lambda = 70\\%$?\n",
    "\n",
    "First of all, we have $\\sigma_1=0.2$, $\\sigma_2=0.3$ and $\\rho_{12}=0.6$. The covariance of the stocks is $\\text{Cov}(r_1,r_2) = \\rho_{12}\\sigma_1\\sigma_2 = 0.6\\cdot 0.2\\cdot 0.3 = 0.036$. Then:\n",
    "$$\n",
    "\\lambda_p = \\frac{\\mu_p - r_f}{\\sigma_p} \n",
    "= \\lambda \\frac{ \\sum_{i=1}^2 w_i \\sigma_i }{ (\\mathbf{w}^T \\Sigma \\mathbf{w})^{1/2} } \n",
    "= 0.7 \\frac{ 0.5\\cdot 0.2 + 0.5\\cdot 0.3 }{ \n",
    "\\sqrt{\n",
    "(0.5, 0.5) \n",
    "\\begin{pmatrix}\n",
    "0.04 & 0.036 \\\\\n",
    "0.036 & 0.09 \n",
    "\\end{pmatrix}\n",
    "\\begin{pmatrix}\n",
    "0.5 \\\\\n",
    "0.5\n",
    "\\end{pmatrix}\n",
    "} \n",
    "}\n",
    "=\n",
    "0.7 \\frac{ 0.25 }{ \\sqrt{0.0505} } = 77.87\\%.\n",
    "$$\n",
    "\n",
    "Do we believe that all stocks and all components have the same Sharpe ratio? \n",
    "It is a very strong assumption and we have reasons to believe that not all of risk is rewarded. \n",
    "In fact, asset pricing theory suggests that **only the systematic component is rewarded** and that \n",
    "the specific risk is not rewarded because it can be diversified away. In other words, asset pricing theory suggests that **we should not be rewarded for a piece of risks that we could have diversified away in the first place** and we should instead assume that \n",
    "**there is a relationship between excess expected return and (only) the systematic part of volatility**. \n",
    "\n",
    "Therefore, we want to **decompose volatility in terms of specific risk and systematic risk**, \n",
    "and come up with a better **estimate for expected returns by relating it to systematic risk**. \n",
    "\n",
    "We could do this using a **factor model**."
   ]
  },
  {
   "cell_type": "markdown",
   "metadata": {},
   "source": [
    "#### Using a factor model to estimate (excess) returns\n",
    "\n",
    "The simplest factor model that we can use is the **CAPM**. Recall that in the CAPM the expected escess return of an asset was proportional to the excess return of the market:\n",
    "$$\n",
    "\\mu_i - r_f = \\beta_i(\\mu_m -r_f)\n",
    "\\qquad \\forall \\; i,\n",
    "$$\n",
    "where $\\beta_i$ is the constant of proportionality. This is equivalent to impose that the following ratio:\n",
    "$$\n",
    "\\text{TR}_i := \\frac{\\mu_i - r_f}{\\beta_i} = \\mu_m -r_f,\n",
    "\\qquad \\forall \\; i\n",
    "$$\n",
    "called the **Treynor ratio** is the same for all stocks and equal to the excess return of the market $\\mu_m -r_f$. If we accept this model, then the maximum sharpe ratio portfolio would has a sharpe ratio equal to:\n",
    "$$\n",
    "\\lambda_p = \\frac{\\mu_p - r_f}{\\sigma_p}\n",
    "= \\frac{ \\sum_{i=1}^N w_i (\\mu_i - r_f)}{ (\\mathbf{w}^T \\Sigma \\mathbf{w})^{1/2} }\n",
    "= (\\mu_m - r_f) \\frac{ \\sum_{i=1}^N w_i \\beta_i}{ (\\mathbf{w}^T \\Sigma \\mathbf{w})^{1/2} }, \n",
    "$$\n",
    "where the numerator is the $\\beta$ of the portfolio, that is, the weigthed average of $\\beta_i$. \n",
    "\n",
    "Again, we probably do not want to rely on single-factor models such as the CAMP. \n",
    "Below, we consider the $30$ industry portfolios and compare the annualized returns obtained simply using the historical data and using the CAMP model:"
   ]
  },
  {
   "cell_type": "code",
   "execution_count": 294,
   "metadata": {},
   "outputs": [],
   "source": [
    "# Load data\n",
    "nind = 30\n",
    "start = \"2013\"\n",
    "ind_rets = erk.get_ind_file(filetype=\"rets\", nind=nind, ew=True)[start:]\n",
    "fff = erk.get_fff_returns()[start:]\n",
    "mkt_excess_rets = fff[[\"Mkt-RF\"]]"
   ]
  },
  {
   "cell_type": "code",
   "execution_count": 295,
   "metadata": {},
   "outputs": [
    {
     "data": {
      "text/plain": [
       "Food     0.114591\n",
       "Beer     0.203339\n",
       "Smoke    0.190788\n",
       "Games    0.138539\n",
       "Books    0.099739\n",
       "dtype: float64"
      ]
     },
     "execution_count": 295,
     "metadata": {},
     "output_type": "execute_result"
    }
   ],
   "source": [
    "# compute the excess returns of all industries\n",
    "rf = pd.DataFrame().reindex_like(ind_rets)\n",
    "for col in rf.columns:\n",
    "    rf[col] = fff[\"RF\"].values\n",
    "ind_exc_rets = ind_rets - rf \n",
    "# compute the annualized \"historic\" mean return\n",
    "historic_mean = erk.annualize_rets( ind_exc_rets, periods_per_year=12 )\n",
    "historic_mean.head()"
   ]
  },
  {
   "cell_type": "code",
   "execution_count": 296,
   "metadata": {},
   "outputs": [
    {
     "data": {
      "text/plain": [
       "Food     0.089289\n",
       "Beer     0.062788\n",
       "Smoke    0.059317\n",
       "Games    0.133733\n",
       "Books    0.147150\n",
       "dtype: float64"
      ]
     },
     "execution_count": 296,
     "metadata": {},
     "output_type": "execute_result"
    }
   ],
   "source": [
    "# computing beta for each industry  \n",
    "industries = ind_rets.columns\n",
    "betas = []\n",
    "for industry in industries:\n",
    "    ind_excess_rets = ind_rets[industry] - fff[\"RF\"].values\n",
    "    lm = erk.linear_regression(ind_excess_rets, mkt_excess_rets)\n",
    "    betas.append( lm.params[0] )\n",
    "betas = pd.DataFrame(betas, index=ind_rets.columns, columns=[\"Mkt-RF\"])\n",
    "# now estimate excess returns of the industries using the CAPM model: beta * exc_ret_of_the_market\n",
    "capm_rets = []\n",
    "for industry in betas.index:\n",
    "    capm_rets.append( erk.annualize_rets( betas.loc[industry] * mkt_excess_rets , periods_per_year=12 )[0] )\n",
    "capm_rets = pd.Series(capm_rets, index=betas.index)\n",
    "capm_rets.head()"
   ]
  },
  {
   "cell_type": "code",
   "execution_count": 297,
   "metadata": {},
   "outputs": [
    {
     "data": {
      "image/png": "[encoded data removed]",
      "text/plain": [
       "<Figure size 648x360 with 1 Axes>"
      ]
     },
     "metadata": {},
     "output_type": "display_data"
    }
   ],
   "source": [
    "A = pd.concat([capm_rets, historic_mean], axis=1) * 100\n",
    "A.columns = [\"CAPM Exp.\",\"Historic Exp.\"]\n",
    "ax = A.plot.bar(grid=True, figsize=(9,5), title=\"Annualized CAPM Exp. returns VS Historical returns {}-2018\".format(start))\n",
    "ax.set_ylabel(\"return %\")\n",
    "plt.show()"
   ]
  },
  {
   "cell_type": "markdown",
   "metadata": {},
   "source": [
    "Observe that the CAPM expected returns are all positives and are contained in a much smaller range of returns. "
   ]
  },
  {
   "cell_type": "markdown",
   "metadata": {},
   "source": [
    "## Black-Litterman model\n",
    "\n",
    "### Background and Theory\n",
    "\n",
    "The **Black-Litterman model** provides a methodical way of **combining an investors subjective views of the future performance of a risky investment asset with the views implied by the market equilibrium**. \n",
    "\n",
    "The procedure can be viewed as a **bayesian shrinkage method that shrinks the expected returns constructed from an investor's views on asset returns towards asset returns implied by the market equilibrium**. \n",
    "The procedure firstly computes a set of expected returns (**implied returns**) \n",
    "that uses the **market equilibrium implied as a prior**. \n",
    "This is then combined with returns implied by subjective investor views to produce a set of posterior expected returns $\\mu^{BL}$ and covariances $\\Sigma^{BL}$.\n",
    "\n",
    "Besides the obvious attraction of being able to incorporate subjective investor views, the Black-Litterman procedure has a second feature that makes it extremely attractive to portfolio optimization. \n",
    "It is well known that the **Markowitz optimization procedure is highly sensitive to estimation errors in Expected Returns and Covariances**, and this *error maximizing* nature of the Markowitz procedure causes unstable portfolios with extreme weights that diverge rapidly from the market equilibrium portfolio even with minor changes to the inputs. On the other hand, the posterior parameters $\\mu^{BL}, \\Sigma^{BL}$ computed by the Black-Litterman model are derived in part from the market portfolio, and therefore are much more pragmatic inputs for purposes of portfolio optimization. Specifically, **when $\\mu^{BL}, \\Sigma^{BL}$ as used as as inputs to a Markowitz Optimizer, they produce optimized weights that diverge from the market portfolio in limited ways**, and only to the extent of the confidence that the investor expresses in the views. Consequently **the optimized portfolios are more stable portfolios than with pure Markowitz optimization with sample estimates**. \n"
   ]
  },
  {
   "cell_type": "markdown",
   "metadata": {},
   "source": [
    "### Benchmark \n",
    "\n",
    "The first step in the Black-Litterman model is the extraction of **implied expected return estimates**. Recall that when we want to construct an optimal portfolio we have to give in inputs some expected return estimates as well as some risk parameters estimates (volatilities). \n",
    "\n",
    "While risk parameter estimates are *easy* to find, it is much more difficult to come up with meaningful \n",
    "return estimates. This is why we end up with concluding that the **value added of the skill of active portfolio management** plays a major role. \n",
    "We will refer to them as **active views about the expected returns**, i.e., what managers' opionions about expected returns are.\n",
    "\n",
    "Assume that we have at our disposal a set of active views about expected returns. \n",
    "**How can we incorporate those active views in the portfolio construction process?**\n",
    "\n",
    "The first challenge is to find **a meaningful anchor point, a meaningful benchmark**, to which a portfolio that we are holding can converge to in case, for example, the acting manager loses confidence in its views or imply does not even have views on any particular circumstances.\n",
    "\n",
    "**The Black-Litterman model suggests to use the market portfolio, the CAPM**."
   ]
  },
  {
   "cell_type": "markdown",
   "metadata": {},
   "source": [
    "### Reverse engineering: extract implied returns\n",
    "\n",
    "The Black-Litterman model is based on an assumption that expected returns have greatest impact to portfolio weightings in mean-variance optimization. Therefore, **the model attempts to extract such return in a reverse-engineer way from the benchmark constituents** rather than relying on historical data.\n",
    "\n",
    "Think about the engineering of portfolio construction for a set of $N$ assets. \n",
    "We have a set of expected return $\\{\\mu_i\\}$, for $i=1,\\dots,N$, and a covariance matrix $\\Sigma$. Then we use portfolio optimization with \n",
    "these inputs and obtain as output the set of optimal portfolio weights $\\{w^*_i\\}$:\n",
    "$$\n",
    "\\left\\{ \\mu_i, \\Sigma:=[c_{ij}]\\right\\}_{i,j=1,\\dots,N} \n",
    "\\quad\\longrightarrow\\quad \n",
    "\\{w^*_i\\}_{i=1,\\dots,N}.\n",
    "$$\n",
    "In a **reverse-reverse engineering** process we do not take in input the expected returns (we do not have meaningful return estimates). We will still take the covariance matrix $\\Sigma$ and then we take the **benchmark weights** $\\{w_i^{\\text{benchmark}} \\}$. \n",
    "For example, if our benchmark is cap-weighted (resp. equally-weigthed), we will take cap-weighted (resp. equally-weigthed) weights. Then, we will extract the value for expected returns corresponding to such weigths:\n",
    "$$\n",
    "\\left\\{ w_i^{\\text{benchmark}}, \\Sigma:=[c_{ij}]\\right\\}_{i,j=1,\\dots,N} \n",
    "\\quad\\longrightarrow\\quad\n",
    "\\Pi := \\{\\mu_i^{\\text{implied}}\\}_{i=1,\\dots,N}.\n",
    "$$\n",
    "We call the extracted returns the **implied returns**. \n",
    "\n",
    "In equilibrium, all investors as a whole hold the market portfolio $\\mathbf{w}^{\\text{benchmark}} := \\{ w_i^{\\text{benchmark}} \\}$. \n",
    "The equilibrium risk premiums $\\Pi$ (the implied returns) are such that if all investors hold the same view, \n",
    "the demand for these assets exactly equals to the outstanding supply. \n",
    "Assuming that the average risk tolerance of the world is represented by the **risk aversion parameter $\\delta$**, \n",
    "the implied returns are then given by:\n",
    "$$\n",
    "\\Pi = \\delta \\Sigma \\mathbf{w}^{\\text{benchmark}}.\n",
    "$$\n",
    "\n",
    "In principle, the risk aversion parameter $\\delta$ can be set arbitrarily. For instance, some authors use $\\delta = 2.5$ while \n",
    "others use $\\delta = 2.14$ of $\\delta=2.65$. Another common approach is to set $\\delta$ to the Market Price of Risk \n",
    "(i.e., a measure of the risk aversion of the Representative Investor, which is computed as $\\delta = \\mu_M/\\sigma^2_M$ \n",
    "where $\\mu_M$ and $\\sigma^2_M$ are estimates of the mean and variance of the returns of the market portfolio). \n",
    "Frequently, a broad market index such as the **S\\&P500** is taken as a proxy for the market in order to compute \n",
    "the market price of risk from $\\mu_M$ and $\\sigma^2_M$.\n",
    "\n",
    "We are going to treat this vector of implied returns as an anchor point and we also add some kind of uncertainty around it. \n",
    "That is, the Bayesian prior is that the expected returns $\\mu$ are centered at the equilibrium values, that is \n",
    "they are normally distributed with the mean of $\\Pi$:\n",
    "$$\n",
    "\\mu = \\Pi + \\varepsilon^{(e)},\n",
    "$$\n",
    "where $\\varepsilon^{e} \\sim \\mathcal{N}(0,\\tau\\Sigma)$ is a normally distributed random vector with zero mean and \n",
    "covariance matrix $\\tau\\Sigma$, where $\\tau$ is a scalar indicating the uncertainty of the CAPM prior.\n",
    "\n",
    "The treatment of $\\tau$ is the source of some confusion. \n",
    "Some implementors have done away with $\\tau$ by setting it to $1$. \n",
    "However, in the original model, Black and Litterman suggest using a small number: a common technique is to set $\\tau = 1/T$ where $T$ is the number of periods of data used. For example, for $5$ years of monthly data ($T=5\\cdot 12=60$) data, then $\\tau=1/60=0.016$. "
   ]
  },
  {
   "cell_type": "markdown",
   "metadata": {},
   "source": [
    "### Active views\n",
    "\n",
    "In addition to the Bayesian CAPM prior, the investors also have a number of **active views** on the market returns. A **view** is expressed as a statement that the expected return of a portfolio has a normal distribution with a certain mean equal to \n",
    "$q$ and a standard deviation given by $\\omega$. \n",
    "\n",
    "Let $K$ bet the number of views. Let $P$ be a $K\\times N$ matrix (**Projection matrix**) that identifies the assets involved in the views\n",
    "and $Q$ be a $K\\times 1$ vector of the expected returns on these portfolios (**Views vector**):\n",
    "$$\n",
    "P = \n",
    "\\begin{pmatrix}\n",
    "p_{11} & p_{12} & \\dots  & p_{1N} \\\\\n",
    "\\vdots & \\vdots & \\ddots & \\vdots \\\\\n",
    "p_{K1} & p_{K2} & \\dots  & p_{KN} \\\\\n",
    "\\end{pmatrix}\n",
    "\\qquad\n",
    "Q = \n",
    "\\begin{pmatrix}\n",
    "q_{1}  \\\\\n",
    "\\vdots  \\\\\n",
    "q_{K}.\n",
    "\\end{pmatrix}\n",
    "$$\n",
    "The entries $\\{p_{kn}\\}$ are the weights of the corresponding $K$ portfolio composed of $N$ assets (asset weigths within each view).\n",
    "\n",
    "The investor's views can be expressed as:\n",
    "$$\n",
    "P\\mu = Q + \\varepsilon^{(\\nu)},\n",
    "$$\n",
    "where $\\varepsilon^{(\\nu)} \\sim \\mathcal{N}(0,\\Omega)$ is an unobservable normally distributed random vector \n",
    "with zero mean and a diagonal $K\\times K$ covariance matrix $\\Omega$. \n",
    "It is further assumed that the $\\varepsilon^{(e)}$ and $\\varepsilon^{(\\nu)}$ are independent:\n",
    "$$\n",
    "\\begin{pmatrix}\n",
    "\\varepsilon^{(e)}  \\\\\n",
    "\\varepsilon^{(\\nu)}\n",
    "\\end{pmatrix} \n",
    "\\sim \n",
    "\\mathcal{N}\n",
    "\\left(\n",
    "0,\n",
    "\\begin{pmatrix}\n",
    "\\tau\\Sigma & 0  \\\\\n",
    "0          & \\Omega \\\\\n",
    "\\end{pmatrix}\n",
    "\\right).\n",
    "$$\n",
    "\n",
    "Views are represented in $Q$ and $P$ as follows: \n",
    "- if the $k$-th view is an **absolute view of asset $i$**, then it is represented by setting $q_k$ to the expected return of asset $k$ and setting $p_{ki} = 1$ and all other elements of row $k$ in $P$ to zero.\n",
    "- If the $k$-th view is **a relative view between assets $i$ and $j$**, then it is represented by setting $q_k$ to the expected difference of returns between assets $i$ and $j$ and setting $p_{ki} = -1$ for the underperforming asset, $p_{kj} = +1$ \n",
    "and all other elements of row $k$ in $P$ to zero. \n",
    "\n",
    "**EXAMPLE**: consider the following investor views. We have $N=4$ assets and $K=2$ views. \n",
    "The investor has a first **relative view** in which he believes that asset 1 will outperform asset 3 by $2\\%$ with confidence $\\omega_1=\\omega_{11}$. \n",
    "Then he has a second **absolute view** in which he believes that asset 2 will return $3\\%$ with confidence $\\omega_2=\\omega_{22}$. \n",
    "The investor has no view on asset 4, and thus its return should not be directly adjusted. These views are specified as follows:\n",
    "$$\n",
    "P = \n",
    "\\begin{pmatrix}\n",
    "1 & 0 & -1 & 0 \\\\\n",
    "0 & 1 & 0 & 0 \n",
    "\\end{pmatrix},\n",
    "\\qquad\n",
    "Q = \n",
    "\\begin{pmatrix}\n",
    "0.02 \\\\\n",
    "0.03 \n",
    "\\end{pmatrix},\n",
    "\\qquad\n",
    "\\Omega = \n",
    "\\begin{pmatrix}\n",
    "\\omega_{11} & 0 \\\\\n",
    "0 & \\omega_{22}\n",
    "\\end{pmatrix}\n",
    "$$\n",
    "Therefore, we would have:\n",
    "$$\n",
    "\\begin{pmatrix}\n",
    "1 & 0 & -1 & 0 \\\\\n",
    "0 & 1 & 0 & 0 \n",
    "\\end{pmatrix}\n",
    "\\begin{pmatrix}\n",
    "\\mu_1 \\\\\n",
    "\\mu_2 \\\\\n",
    "\\mu_3 \\\\\n",
    "\\mu_4 \\\\\n",
    "\\end{pmatrix}\n",
    "= \n",
    "\\begin{pmatrix}\n",
    "\\mu_1 - \\mu_3 \\\\\n",
    "\\mu_2 \\\\\n",
    "\\end{pmatrix}\n",
    "= \n",
    "\\begin{pmatrix}\n",
    "0.02 \\\\\n",
    "0.03 \\\\\n",
    "\\end{pmatrix}\n",
    "+ \n",
    "\\begin{pmatrix}\n",
    "\\varepsilon^{(\\nu)}_1 \\\\\n",
    "\\varepsilon^{(\\nu)}_2\n",
    "\\end{pmatrix}\n",
    "\\qquad\\Longrightarrow\\qquad\n",
    "\\begin{cases}\n",
    "\\mu_1 - \\mu_3 &= 0.02 + \\varepsilon^{(\\nu)}_1 \\\\\n",
    "\\mu_2 &= 0.03 + \\varepsilon^{(\\nu)}_2 \\\\\n",
    "\\end{cases}\n",
    "$$\n",
    "\n",
    "\n",
    "The uncertainty of the views $\\Omega$ is either set by the user, or inferred (e.g., via statements of confidence, \n",
    "from market data, from the variance of residuals from a prediction model used to generate the views, etc.). \n",
    "\n",
    "The following paper:\n",
    "- [HE99] **He, Litterman, The intuition behind the Black-Litterman model portfolios, 1999**\n",
    "\n",
    "suggests that if the investor does not explicitly quantify the uncertainty associated with the views \n",
    "in the matrix $\\Omega$, we could make the assumption that $\\Omega$ is proportional to the variance of the prior, specifically,\n",
    "$$\n",
    "\\Omega = \\text{diag}\\left(P (\\tau \\Sigma) P^T \\right).\n",
    "$$"
   ]
  },
  {
   "cell_type": "markdown",
   "metadata": {},
   "source": [
    "### Mixing implied returns with active views\n",
    "\n",
    "The views are then combined with the CAPM prior in the Bayesian framework.\n",
    "The result is that the expected returns are distributed as $\\mathcal{N}(\\mu^{BL},M^{-1})$, \n",
    "where $\\mu^{BL}$ (**posterior vector**) is given by:\n",
    "\n",
    "\\begin{equation}\n",
    "\\label{eq:bl:mu}\n",
    "\\mu^{BL} = \n",
    "\\bigl( \\underbrace{ (\\tau\\Sigma)^{-1} + P^T \\Omega^{-1} P }_{N\\times N}   \\bigr)^{-1} \n",
    "\\bigl( \\underbrace{ (\\tau\\Sigma)^{-1} \\Pi + P^T \\Omega^{-1} Q }_{N\\times 1}   \\bigr),\n",
    "\\end{equation}\n",
    "\n",
    "and $M^{-1}$ given by:\n",
    "\n",
    "\\begin{equation}\n",
    "\\label{eq:bl:sigma}\n",
    "M^{-1} = \n",
    "\\bigl( \\underbrace{ (\\tau\\Sigma)^{-1} + P^T \\Omega^{-1} P }_{N\\times N}   \\bigr)^{-1}.\n",
    "\\end{equation}\n",
    "\n",
    "Here **$M$, i.e. the posterior variance**, is actually the variance of the posterior mean estimate about the actual mean. \n",
    "That is, it is the uncertainty in the posterior mean estimate, and **is not the variance of the returns**. \n",
    "Computing the posterior covariance of returns requires adding the variance of the estimate about the mean \n",
    "to the variance of the distribution about the estimate, i.e., \n",
    "$$\n",
    "\\Sigma^{BL} = \\Sigma + M^{-1} = \\Sigma + \\bigl( (\\tau\\Sigma)^{-1} + P^T \\Omega^{-1} P  \\bigr)^{-1}.\n",
    "$$\n",
    "\n",
    "The set of equations above is known as the **Black-Litterman Master Formula**. \n",
    "It is important to recognize that even when the manager has very little or zero confidence in their views, \n",
    "then the process will eventually make it sure that the portfolio we are holding holding converges smoothly towards the \n",
    "benchmark portfolio.\n",
    "\n",
    "While the master formulas identified are frequently easy to implement, they do involve the term $\\Omega^{-1}$ and \n",
    "**$\\Omega$ is sometimes non-invertible**. Fortunately, the equations are easily transformed to a form that does not require \n",
    "inverting $\\Omega$:\n",
    "\n",
    "\\begin{equation}\n",
    "\\mu^{BL} = \\Pi + \\tau \\Sigma P^T \\bigl( P \\tau \\Sigma P^T + \\Omega\\bigr)^{-1} \\bigl(Q - P \\Pi\\bigr),\n",
    "\\end{equation}\n",
    "\n",
    "\\begin{equation}\n",
    "\\Sigma^{BL} = \\Sigma + \\tau \\Sigma - \\tau\\Sigma P^T\\bigl(P \\tau \\Sigma P^T + \\Omega\\bigr)^{-1} P \\tau \\Sigma.\n",
    "\\end{equation}"
   ]
  },
  {
   "cell_type": "markdown",
   "metadata": {},
   "source": [
    "### Implementation Overview\n",
    "\n",
    "First of all, we compare naive markowitz optimization with portfolio allocation using the Black-Litterman model with both absolute view and relative views."
   ]
  },
  {
   "cell_type": "markdown",
   "metadata": {},
   "source": [
    "#### A first example: absolute views\n",
    "\n",
    "We start with a simple 2-Asset example. We choose an example from the book \n",
    "**T. Lai and H. Xing, Statistical Models and Methods for Financial Markets, 2008th Ed**. \n",
    "\n",
    "Consider the portfolio consisting of just two stocks: **Intel (INTC) and Pfizer (PFE)**. \n",
    "From Table 3.1 on page 72 of the book, we obtain the covariance matrix (multipled by $10^{-4}$):\n",
    "\n",
    "\\begin{array}{lcc}\n",
    "\\text{INTC} & 46.0 & 1.06 \\\\\n",
    "\\text{PFE}   & 1.06 & 5.33\n",
    "\\end{array}\n",
    "\n",
    "Assume that Intel has a market capitalization of approximately **USD 80B** and that of Pfizer is approximately **USD 100B** \n",
    "(this is not quite accurate, but works just fine as an example). Thus, if we held a market-cap weighted portfolio, we \n",
    "would hold INTC and PFE with the following weights: $w_{\\text{INTC}} = 80/180 = 44\\%$ and $w_{\\text{PFE}} = 100/180 = 56\\%$. \n",
    "These appear to be reasonable weights without an extreme allocation to either stock, even though Pfizer is slightly overweighted.\n",
    "\n",
    "Recall that the first step in the **Black-Litterman** procedure was to reverse engineer the implied returns vector \n",
    "$\\Pi$ from a set of portfolio weights $\\mathbf{w}$. Here, the portfolio weights $\\mathbf{w}$ are the benchmark weights \n",
    "(CAPM cap-weigthed weigths):\n",
    "$$\n",
    "\\Pi = \\delta\\Sigma \\mathbf{w}^{\\text{benchmark}}.\n",
    "$$\n",
    "\n",
    "We can compute the **equilibrium implied returns** $\\Pi$ as follows:"
   ]
  },
  {
   "cell_type": "code",
   "execution_count": 5,
   "metadata": {},
   "outputs": [
    {
     "data": {
      "text/plain": [
       "INTC    0.052084\n",
       "PFE     0.008628\n",
       "Name: Implied Returns, dtype: float64"
      ]
     },
     "execution_count": 5,
     "metadata": {},
     "output_type": "execute_result"
    }
   ],
   "source": [
    "tickers = ['INTC', 'PFE']\n",
    "Sigma = pd.DataFrame([[46.0, 1.06], [1.06, 5.33]], index=tickers, columns=tickers) * 10E-4\n",
    "weigths = pd.Series([0.44, 0.56], index=tickers)\n",
    "\n",
    "Pi = erk.implied_returns(Sigma, weigths, delta=2.5)\n",
    "Pi"
   ]
  },
  {
   "cell_type": "markdown",
   "metadata": {},
   "source": [
    "Thus the equilibrium implied returns for **INTC** are a bit more than $5\\%$ and a bit less than $1\\%$ for PFE.\n",
    "\n",
    "Now, assume that the investor has $2$ absolute views: he thinks that Intel will return $2\\%$ and that Pfizer will return $4\\%$. \n",
    "We can now examine the optimal weights according to the Markowitz procedure. \n",
    "What would happen if we **used these expected returns to compute the maximum Sharpe Ratio portfolio?**\n",
    "\n",
    "Note that the maximum Sharpe Ratio portfolio weights are easily computed in explicit form if there are no constraints on the weights.\n",
    "The weights are given by the expression:\n",
    "$$ \n",
    "w_{\\text{MSR}} = \\frac{\\Sigma^{-1}\\mu_e}{{\\bf{1}}^T \\Sigma^{-1}\\mu_e}, \n",
    "$$\n",
    "where $\\mu_e := (\\mathbf{R}-R_f\\mathbf{1})$ is the vector of expected excess returns (**see the notebook of week 2 of Course 1**) \n",
    "and $\\Sigma$ is the variance-covariance matrix.\n",
    "\n",
    "We can examine the optimal weights obtained by naively implementing the Markowitz procedure with these expected returns."
   ]
  },
  {
   "cell_type": "code",
   "execution_count": 76,
   "metadata": {},
   "outputs": [
    {
     "data": {
      "text/plain": [
       "INTC     3.41\n",
       "PFE     96.59\n",
       "dtype: float64"
      ]
     },
     "execution_count": 76,
     "metadata": {},
     "output_type": "execute_result"
    }
   ],
   "source": [
    "# INTC and PFE\n",
    "mu_exp = pd.Series([0.02, 0.04], index=tickers)\n",
    "np.round( erk.weigths_max_sharpe_ratio(Sigma, mu_exp)*100, 2)"
   ]
  },
  {
   "cell_type": "code",
   "execution_count": 77,
   "metadata": {},
   "outputs": [],
   "source": [
    "# which is equivalent to run:\n",
    "#max_shp_w = erk.maximize_shape_ratio(mu_exp, Sigma, risk_free_rate=0, periods_per_year=1)\n",
    "#max_shp_w = pd.Series(max_shp_w, index=tickers) \n",
    "#round( max_shp_w * 100, 2 )"
   ]
  },
  {
   "cell_type": "markdown",
   "metadata": {},
   "source": [
    "Consistent with the poor reputation of naive Markowitz optimization, the Markwitz procedure places an unrealistic weight of more than $96\\%$ \n",
    "in Pfizer and less than $4\\%$ in Intel. This is completely impractical and no reasonable investor would make such dramatic bets.\n",
    "\n",
    "In contrast, let us now find the weights that the Black-Litterman model would place. \n",
    "We allow $\\Omega$ to be computed automatically. We find the Black Litterman weights as follows:"
   ]
  },
  {
   "cell_type": "code",
   "execution_count": 78,
   "metadata": {},
   "outputs": [],
   "source": [
    "# Weights prior\n",
    "w_prior = pd.Series([0.44, 0.56], index=tickers)\n",
    "\n",
    "# Absolute view 1: INTC will return 2%\n",
    "# Absolute view 2: PFE will return 4%\n",
    "Q = pd.Series([0.02, 0.04], index=tickers)\n",
    "\n",
    "# Projection Matrix\n",
    "P = pd.DataFrame( np.array([[1,0],[0,1]]), columns=tickers )\n",
    "\n",
    "# Black-Litterman Expected Returns\n",
    "bl_mu, bl_sigma = erk.black_litterman(w_prior, Sigma, P, Q)"
   ]
  },
  {
   "cell_type": "code",
   "execution_count": 79,
   "metadata": {},
   "outputs": [
    {
     "data": {
      "text/plain": [
       "INTC    0.037622\n",
       "PFE     0.024111\n",
       "dtype: float64"
      ]
     },
     "execution_count": 79,
     "metadata": {},
     "output_type": "execute_result"
    }
   ],
   "source": [
    "bl_mu"
   ]
  },
  {
   "cell_type": "markdown",
   "metadata": {},
   "source": [
    "The posterior returns returned by the procedure are clearly weighted between that of the equilibrium implied expected returns \n",
    "(in the range of about $(1\\%, 5\\%)$) and that of the investor (in the range $(2\\%,4\\%)$). \n",
    "The question is **are these weights likely to yield more realistic portfolios?** \n",
    "To answer that question we supply the Black-Litterman expected returns and covariance matrix to the optimizer:"
   ]
  },
  {
   "cell_type": "code",
   "execution_count": 80,
   "metadata": {},
   "outputs": [
    {
     "data": {
      "text/plain": [
       "INTC    14.02\n",
       "PFE     85.98\n",
       "dtype: float64"
      ]
     },
     "execution_count": 80,
     "metadata": {},
     "output_type": "execute_result"
    }
   ],
   "source": [
    "# Use the Black-Litterman expected returns to get the optimal Markowitz weights\n",
    "max_shp_w = erk.maximize_shape_ratio(bl_mu, bl_sigma, risk_free_rate=0, periods_per_year=1)\n",
    "max_shp_w = pd.Series(max_shp_w, index=tickers)\n",
    "round( max_shp_w * 100, 2 )"
   ]
  },
  {
   "cell_type": "markdown",
   "metadata": {},
   "source": [
    "We see that we get much more reasonable weights than we did with naive optimization. \n",
    "These weights are also much closer to the 45-55 mix in the cap weighted portfolio.\n",
    "On the other hand, they respect the investor's view that expects Pfizer to rebound, and places a higher weight on Pfizer relative to the cap weighted portfolio."
   ]
  },
  {
   "cell_type": "markdown",
   "metadata": {},
   "source": [
    "#### A second example: relative views\n",
    "\n",
    "In this example, we examine relative views. \n",
    "We stick with our simple 2-stock example. Recall that the Cap-Weighted implied expected returns are:"
   ]
  },
  {
   "cell_type": "code",
   "execution_count": 7,
   "metadata": {},
   "outputs": [
    {
     "data": {
      "text/plain": [
       "INTC    0.052084\n",
       "PFE     0.008628\n",
       "Name: Implied Returns, dtype: float64"
      ]
     },
     "execution_count": 7,
     "metadata": {},
     "output_type": "execute_result"
    }
   ],
   "source": [
    "Pi"
   ]
  },
  {
   "cell_type": "markdown",
   "metadata": {},
   "source": [
    "Assume that **the investor feels that Intel will outperform Pfizer by $2\\%$**. This view is implemented as follows:"
   ]
  },
  {
   "cell_type": "code",
   "execution_count": 8,
   "metadata": {},
   "outputs": [],
   "source": [
    "# Weights prior\n",
    "w_prior = pd.Series([0.44, 0.56], index=tickers)\n",
    "\n",
    "# Relative views\n",
    "Q = pd.Series([0.02])\n",
    "\n",
    "# Projection matrix\n",
    "P = pd.DataFrame([[+1, -1]], columns=tickers)\n",
    "\n",
    "# Find the Black Litterman Expected Returns\n",
    "bl_mu, bl_sigma = erk.black_litterman(w_prior, Sigma, P, Q)"
   ]
  },
  {
   "cell_type": "code",
   "execution_count": 9,
   "metadata": {},
   "outputs": [
    {
     "data": {
      "text/plain": [
       "INTC    0.041374\n",
       "PFE     0.009646\n",
       "dtype: float64"
      ]
     },
     "execution_count": 9,
     "metadata": {},
     "output_type": "execute_result"
    }
   ],
   "source": [
    "bl_mu"
   ]
  },
  {
   "cell_type": "markdown",
   "metadata": {},
   "source": [
    "Once again we see that the Black-Litterman expected returns are a blend between the cap-weight implied weights and the investor view. \n",
    "\n",
    "**The outperformance of Intel in the implied returns is**:"
   ]
  },
  {
   "cell_type": "code",
   "execution_count": 10,
   "metadata": {},
   "outputs": [
    {
     "data": {
      "text/plain": [
       "4.35"
      ]
     },
     "execution_count": 10,
     "metadata": {},
     "output_type": "execute_result"
    }
   ],
   "source": [
    "round( (Pi[\"INTC\"] - Pi[\"PFE\"])*100, 2)"
   ]
  },
  {
   "cell_type": "markdown",
   "metadata": {},
   "source": [
    "**In contrast, the investor felt it only would be $2\\%$**. The expected returns returned by the \n",
    "Black-Litterman procedure show a spread that is a blend between the cap-weight implied returns and that of the investor:"
   ]
  },
  {
   "cell_type": "code",
   "execution_count": 11,
   "metadata": {},
   "outputs": [
    {
     "data": {
      "text/plain": [
       "3.17"
      ]
     },
     "execution_count": 11,
     "metadata": {},
     "output_type": "execute_result"
    }
   ],
   "source": [
    "round( (bl_mu[\"INTC\"] - bl_mu[\"PFE\"] )*100, 2)"
   ]
  },
  {
   "cell_type": "markdown",
   "metadata": {},
   "source": [
    "And, the weights in the optimized portfolio when we use these expected returns are:"
   ]
  },
  {
   "cell_type": "code",
   "execution_count": 12,
   "metadata": {},
   "outputs": [
    {
     "data": {
      "text/plain": [
       "INTC    34.8\n",
       "PFE     65.2\n",
       "dtype: float64"
      ]
     },
     "execution_count": 12,
     "metadata": {},
     "output_type": "execute_result"
    }
   ],
   "source": [
    "# Use the Black-Litterman expected returns to get the optimal Markowitz weights\n",
    "max_shp_w = erk.maximize_shape_ratio(bl_mu, bl_sigma, risk_free_rate=0, periods_per_year=1)\n",
    "max_shp_w = pd.Series(max_shp_w, index=tickers)\n",
    "round( max_shp_w * 100, 2 )"
   ]
  },
  {
   "cell_type": "markdown",
   "metadata": {},
   "source": [
    "These seem reasonable weights, and demonstrates the power of using the Black-Litterman procedure. \n",
    "\n",
    "In contrast, consider the weights that we would get if we implemented the same view without Black-Litterman. \n",
    "We set the returns of Intel and Pfizer to be $3\\%$ and $1\\%$, respectively, and we use the variance-covariance matrix $\\Sigma$:"
   ]
  },
  {
   "cell_type": "code",
   "execution_count": 98,
   "metadata": {},
   "outputs": [
    {
     "data": {
      "text/plain": [
       "INTC    25.87\n",
       "PFE     74.13\n",
       "dtype: float64"
      ]
     },
     "execution_count": 98,
     "metadata": {},
     "output_type": "execute_result"
    }
   ],
   "source": [
    "rets = pd.Series([0.03, 0.01], index=tickers)\n",
    "max_shp_w = erk.maximize_shape_ratio(rets, Sigma, risk_free_rate=0, periods_per_year=1)\n",
    "max_shp_w = pd.Series(max_shp_w, index=tickers)\n",
    "round( max_shp_w * 100, 2 )"
   ]
  },
  {
   "cell_type": "markdown",
   "metadata": {},
   "source": [
    "The weights are significantly more dramatic than one might be willing to implement, and are likely unwarranted given the relatively weak view. In fact, **if the same view were implemented as Intel and Pfizer returning $2\\%$ and $0\\%$**, the results are even more extreme:"
   ]
  },
  {
   "cell_type": "code",
   "execution_count": 13,
   "metadata": {},
   "outputs": [
    {
     "data": {
      "text/plain": [
       "INTC    100.0\n",
       "PFE       0.0\n",
       "dtype: float64"
      ]
     },
     "execution_count": 13,
     "metadata": {},
     "output_type": "execute_result"
    }
   ],
   "source": [
    "# using the maximize_shape_ratio we have the weigths that sum to 1\n",
    "rets = pd.Series([0.02, 0.0], index=tickers)\n",
    "max_shp_w = erk.maximize_shape_ratio(rets, Sigma, risk_free_rate=0, periods_per_year=1)\n",
    "max_shp_w = pd.Series(max_shp_w, index=tickers)\n",
    "round( max_shp_w * 100, 2 )"
   ]
  },
  {
   "cell_type": "code",
   "execution_count": 14,
   "metadata": {},
   "outputs": [
    {
     "data": {
      "text/plain": [
       "INTC    124.82\n",
       "PFE     -24.82\n",
       "dtype: float64"
      ]
     },
     "execution_count": 14,
     "metadata": {},
     "output_type": "execute_result"
    }
   ],
   "source": [
    "# whereas using explictic formulas through weigths_max_sharpe_ratio we obtain negative weigths\n",
    "np.round( erk.weigths_max_sharpe_ratio(Sigma, rets)*100, 2)"
   ]
  },
  {
   "cell_type": "markdown",
   "metadata": {},
   "source": [
    "In this case, the Markowitz recommends shorting Pfizer to the extent of nearly $25\\%$ of the portfolio and \n",
    "leveraging Intel to $125\\%$. Clearly this is not a plausible allocation based on the simple view expressed above."
   ]
  },
  {
   "cell_type": "markdown",
   "metadata": {},
   "source": [
    "### Reproducing the He-Litterman (1999) Results\n",
    "\n",
    "We now reproduce the results in the He-Litterman paper that first detailed the steps in the procedure. \n",
    "We obtained the data by typing it in from the He-Litterman tables, and used it to test the implementation.\n",
    "\n",
    "The He-Litterman example involves **an international allocation between 7 countries**. The data is as follows:"
   ]
  },
  {
   "cell_type": "code",
   "execution_count": 15,
   "metadata": {},
   "outputs": [
    {
     "data": {
      "text/plain": [
       "AU    3.9\n",
       "CA    6.9\n",
       "FR    8.4\n",
       "DE    9.0\n",
       "JP    4.3\n",
       "UK    6.8\n",
       "US    7.6\n",
       "Name: Implied Returns, dtype: float64"
      ]
     },
     "execution_count": 15,
     "metadata": {},
     "output_type": "execute_result"
    }
   ],
   "source": [
    "# The 7 countries:\n",
    "countries  = ['AU', 'CA', 'FR', 'DE', 'JP', 'UK', 'US'] \n",
    "\n",
    "# Table 1 of the He-Litterman paper\n",
    "# Correlation Matrix\n",
    "rho = pd.DataFrame([\n",
    "    [1.000,0.488,0.478,0.515,0.439,0.512,0.491],\n",
    "    [0.488,1.000,0.664,0.655,0.310,0.608,0.779],\n",
    "    [0.478,0.664,1.000,0.861,0.355,0.783,0.668],\n",
    "    [0.515,0.655,0.861,1.000,0.354,0.777,0.653],\n",
    "    [0.439,0.310,0.355,0.354,1.000,0.405,0.306],\n",
    "    [0.512,0.608,0.783,0.777,0.405,1.000,0.652],\n",
    "    [0.491,0.779,0.668,0.653,0.306,0.652,1.000]\n",
    "], index=countries, columns=countries)\n",
    "\n",
    "# Table 2 of the He-Litterman paper: volatilities\n",
    "vols = pd.DataFrame([0.160,0.203,0.248,0.271,0.210,0.200,0.187], index=countries, columns=[\"vol\"]) \n",
    "\n",
    "# Table 2 of the He-Litterman paper: cap-weights\n",
    "w_eq = pd.DataFrame([0.016,0.022,0.052,0.055,0.116,0.124,0.615], index=countries, columns=[\"CapWeight\"])\n",
    "\n",
    "# Compute the variance-covariance matrix\n",
    "sigma_prior = rho * vols.dot(vols.T)\n",
    "\n",
    "# Compute implied returns Pi:\n",
    "Pi = erk.implied_returns(covmat=sigma_prior, weigths=w_eq, delta=2.5)\n",
    "\n",
    "(Pi*100).round(1)"
   ]
  },
  {
   "cell_type": "markdown",
   "metadata": {},
   "source": [
    "The values of $\\Pi$ computed by the Python code exactly matches column 3 of Table 2."
   ]
  },
  {
   "cell_type": "code",
   "execution_count": 18,
   "metadata": {},
   "outputs": [
    {
     "data": {
      "text/plain": [
       "AU    0.016\n",
       "CA    0.022\n",
       "FR    0.052\n",
       "DE    0.055\n",
       "JP    0.116\n",
       "UK    0.124\n",
       "US    0.615\n",
       "dtype: float64"
      ]
     },
     "execution_count": 18,
     "metadata": {},
     "output_type": "execute_result"
    }
   ],
   "source": [
    "erk.weigths_max_sharpe_ratio(sigma_prior, Pi)"
   ]
  },
  {
   "cell_type": "code",
   "execution_count": null,
   "metadata": {},
   "outputs": [],
   "source": []
  },
  {
   "cell_type": "code",
   "execution_count": null,
   "metadata": {},
   "outputs": [],
   "source": []
  },
  {
   "cell_type": "markdown",
   "metadata": {},
   "source": [
    "### View 1: Germany vs Rest of Europe\n",
    "\n",
    "We impose the view that German equities will outperform the rest of European equities by $5\\%$. \n",
    "The other European equities are, in this cases, France and the UK. \n",
    "We split the outperformance proportional to the Market Caps of France and the UK."
   ]
  },
  {
   "cell_type": "code",
   "execution_count": 19,
   "metadata": {},
   "outputs": [
    {
     "data": {
      "text/html": [
       "<div>\n",
       "<style scoped>\n",
       "    .dataframe tbody tr th:only-of-type {\n",
       "        vertical-align: middle;\n",
       "    }\n",
       "\n",
       "    .dataframe tbody tr th {\n",
       "        vertical-align: top;\n",
       "    }\n",
       "\n",
       "    .dataframe thead th {\n",
       "        text-align: right;\n",
       "    }\n",
       "</style>\n",
       "<table border=\"1\" class=\"dataframe\">\n",
       "  <thead>\n",
       "    <tr style=\"text-align: right;\">\n",
       "      <th></th>\n",
       "      <th>AU</th>\n",
       "      <th>CA</th>\n",
       "      <th>FR</th>\n",
       "      <th>DE</th>\n",
       "      <th>JP</th>\n",
       "      <th>UK</th>\n",
       "      <th>US</th>\n",
       "    </tr>\n",
       "  </thead>\n",
       "  <tbody>\n",
       "    <tr>\n",
       "      <th>0</th>\n",
       "      <td>0.0</td>\n",
       "      <td>0.0</td>\n",
       "      <td>-29.5</td>\n",
       "      <td>100.0</td>\n",
       "      <td>0.0</td>\n",
       "      <td>-70.5</td>\n",
       "      <td>0.0</td>\n",
       "    </tr>\n",
       "  </tbody>\n",
       "</table>\n",
       "</div>"
      ],
      "text/plain": [
       "    AU   CA    FR     DE   JP    UK   US\n",
       "0  0.0  0.0 -29.5  100.0  0.0 -70.5  0.0"
      ]
     },
     "execution_count": 19,
     "metadata": {},
     "output_type": "execute_result"
    }
   ],
   "source": [
    "# Germany will outperform other European Equities (i.e. FR and UK) by 5%. Relative views\n",
    "Q = pd.Series([0.05])\n",
    "\n",
    "# start with a single view, all zeros and overwrite the specific view\n",
    "P = pd.DataFrame([0.]*len(countries), index=countries).T\n",
    "\n",
    "# find the relative market caps of FR and UK to split the relative outperformance of DE, i.e., \n",
    "# capweigth of France with respect to \"Rest of Europe\", i.e. France and UK\n",
    "w_fr =  w_eq.loc[\"FR\"] / (w_eq.loc[\"FR\"] + w_eq.loc[\"UK\"])\n",
    "# capweigth of UK with respect to \"Rest of Europe\", i.e. France and UK\n",
    "w_uk =  w_eq.loc[\"UK\"] / (w_eq.loc[\"FR\"] + w_eq.loc[\"UK\"])\n",
    "\n",
    "# assign weigths\n",
    "P.iloc[0]['DE'] = 1.\n",
    "P.iloc[0]['FR'] = -w_fr\n",
    "P.iloc[0]['UK'] = -w_uk\n",
    "\n",
    "(P*100).round(1)"
   ]
  },
  {
   "cell_type": "markdown",
   "metadata": {},
   "source": [
    "The results of implementing this view appear in the He-Litterman paper in Table 4. \n",
    "This exactly reproduces column 1 of Table 4. Next, we examine the values of $\\mu^{BL}$:"
   ]
  },
  {
   "cell_type": "code",
   "execution_count": 20,
   "metadata": {},
   "outputs": [
    {
     "data": {
      "text/plain": [
       "AU     4.3\n",
       "CA     7.6\n",
       "FR     9.3\n",
       "DE    11.0\n",
       "JP     4.5\n",
       "UK     7.0\n",
       "US     8.1\n",
       "dtype: float64"
      ]
     },
     "execution_count": 20,
     "metadata": {},
     "output_type": "execute_result"
    }
   ],
   "source": [
    "delta = 2.5\n",
    "tau   = 0.05 # from Footnote 8\n",
    "\n",
    "# Find the Black Litterman Expected Returns\n",
    "bl_mu, bl_sigma = erk.black_litterman(w_eq, sigma_prior, P, Q, tau=tau)\n",
    "(bl_mu*100).round(1)"
   ]
  },
  {
   "cell_type": "markdown",
   "metadata": {},
   "source": [
    "The Black-Litterman expected returns computed by the code exactly reproduces column 2 of Table 4.\n",
    "\n",
    "He-Litterman compute the optimal portfolio $w^*$ as follows (this is Equation (13) on page 6 of their paper):"
   ]
  },
  {
   "cell_type": "code",
   "execution_count": 21,
   "metadata": {},
   "outputs": [
    {
     "data": {
      "text/plain": [
       "AU     1.5\n",
       "CA     2.1\n",
       "FR    -4.0\n",
       "DE    35.4\n",
       "JP    11.0\n",
       "UK    -9.5\n",
       "US    58.6\n",
       "dtype: float64"
      ]
     },
     "execution_count": 21,
     "metadata": {},
     "output_type": "execute_result"
    }
   ],
   "source": [
    "def w_star(sigma, mu, delta=2.5):\n",
    "    return ( erk.inverse_df(sigma).dot(mu) ) / delta\n",
    "\n",
    "wstar = w_star(sigma=bl_sigma, mu=bl_mu, delta=2.5)\n",
    "(wstar*100).round(1)"
   ]
  },
  {
   "cell_type": "markdown",
   "metadata": {},
   "source": [
    "The computed $w^*$ exactly replicates column 3 of Table 4. Finally, they compute $w^* - \\frac{w_{eq}}{1+\\tau}$ which is the difference in weights between the optimal portfolio and the equilibrium portfolio (they use unscaled weights) in column 4. \n",
    "We replicate that column as follows:"
   ]
  },
  {
   "cell_type": "code",
   "execution_count": 22,
   "metadata": {},
   "outputs": [
    {
     "data": {
      "text/plain": [
       "AU     0.0\n",
       "CA    -0.0\n",
       "FR    -8.9\n",
       "DE    30.2\n",
       "JP     0.0\n",
       "UK   -21.3\n",
       "US     0.0\n",
       "dtype: float64"
      ]
     },
     "execution_count": 22,
     "metadata": {},
     "output_type": "execute_result"
    }
   ],
   "source": [
    "w_eq = erk.weigths_max_sharpe_ratio(delta*sigma_prior, Pi, scale=False)\n",
    "\n",
    "# Display the difference in Posterior and Prior weights\n",
    "np.round(wstar - w_eq/(1+tau), 3)*100"
   ]
  },
  {
   "cell_type": "markdown",
   "metadata": {},
   "source": [
    "which exactly matches Column 4 of Table 4. This completes our reproduction of the first view in He-Litterman (1999).\n",
    "\n",
    "Note that this demonstrates the power of the approach. The weights for assets that do not involve the view remain unchanged. The two underperforming countries (according to the view) are underweighted, while the overperforming country is overweighted, but not to the extreme extent that a naive portfolio optimizer would have produced."
   ]
  },
  {
   "cell_type": "markdown",
   "metadata": {},
   "source": [
    "### View 2: Canada vs US\n",
    "\n",
    "For their second case, He and Litterman implemented the additional view that Canadian Equities will outperform US Equities by $3\\%$. \n",
    "The results are in (their) Table 5."
   ]
  },
  {
   "cell_type": "code",
   "execution_count": 23,
   "metadata": {},
   "outputs": [],
   "source": [
    "Q = Q.append( pd.Series([0.03], index=[1]) )\n",
    "\n",
    "P = P.append( pd.DataFrame([0.]*len(countries), index=countries, columns=[1]).T )\n",
    "P.iloc[1]['CA']= +1.0\n",
    "P.iloc[1]['US']= -1.0"
   ]
  },
  {
   "cell_type": "code",
   "execution_count": 24,
   "metadata": {},
   "outputs": [
    {
     "data": {
      "text/html": [
       "<div>\n",
       "<style scoped>\n",
       "    .dataframe tbody tr th:only-of-type {\n",
       "        vertical-align: middle;\n",
       "    }\n",
       "\n",
       "    .dataframe tbody tr th {\n",
       "        vertical-align: top;\n",
       "    }\n",
       "\n",
       "    .dataframe thead th {\n",
       "        text-align: right;\n",
       "    }\n",
       "</style>\n",
       "<table border=\"1\" class=\"dataframe\">\n",
       "  <thead>\n",
       "    <tr style=\"text-align: right;\">\n",
       "      <th></th>\n",
       "      <th>AU</th>\n",
       "      <th>CA</th>\n",
       "      <th>FR</th>\n",
       "      <th>DE</th>\n",
       "      <th>JP</th>\n",
       "      <th>UK</th>\n",
       "      <th>US</th>\n",
       "    </tr>\n",
       "  </thead>\n",
       "  <tbody>\n",
       "    <tr>\n",
       "      <th>0</th>\n",
       "      <td>0.0</td>\n",
       "      <td>0.0</td>\n",
       "      <td>-29.5</td>\n",
       "      <td>100.0</td>\n",
       "      <td>0.0</td>\n",
       "      <td>-70.5</td>\n",
       "      <td>0.0</td>\n",
       "    </tr>\n",
       "    <tr>\n",
       "      <th>1</th>\n",
       "      <td>0.0</td>\n",
       "      <td>100.0</td>\n",
       "      <td>0.0</td>\n",
       "      <td>0.0</td>\n",
       "      <td>0.0</td>\n",
       "      <td>0.0</td>\n",
       "      <td>-100.0</td>\n",
       "    </tr>\n",
       "  </tbody>\n",
       "</table>\n",
       "</div>"
      ],
      "text/plain": [
       "    AU     CA    FR     DE   JP    UK     US\n",
       "0  0.0    0.0 -29.5  100.0  0.0 -70.5    0.0\n",
       "1  0.0  100.0   0.0    0.0  0.0   0.0 -100.0"
      ]
     },
     "execution_count": 24,
     "metadata": {},
     "output_type": "execute_result"
    }
   ],
   "source": [
    "np.round(P, 3)*100"
   ]
  },
  {
   "cell_type": "markdown",
   "metadata": {},
   "source": [
    "This matches columns 1 and 2 of Table 5. We now compute the Black Litterman weights as\n",
    "before:"
   ]
  },
  {
   "cell_type": "code",
   "execution_count": 25,
   "metadata": {},
   "outputs": [
    {
     "data": {
      "text/plain": [
       "AU     4.4\n",
       "CA     8.7\n",
       "FR     9.5\n",
       "DE    11.2\n",
       "JP     4.6\n",
       "UK     7.0\n",
       "US     7.5\n",
       "dtype: float64"
      ]
     },
     "execution_count": 25,
     "metadata": {},
     "output_type": "execute_result"
    }
   ],
   "source": [
    "bl_mu, bl_sigma = erk.black_litterman(w_eq, sigma_prior, P, Q, tau=tau)\n",
    "np.round(bl_mu*100, 1)"
   ]
  },
  {
   "cell_type": "markdown",
   "metadata": {},
   "source": [
    "The Black Litterman expected returns computed by the Python code exactly reproduces column 3 of Table 5.\n",
    "He-Litterman compute the optimal portfolio weigths $w^*$ as follows (this is Equation (13) on page 6 of their paper):"
   ]
  },
  {
   "cell_type": "code",
   "execution_count": 26,
   "metadata": {},
   "outputs": [
    {
     "data": {
      "text/plain": [
       "AU     1.5\n",
       "CA    41.9\n",
       "FR    -3.4\n",
       "DE    33.6\n",
       "JP    11.0\n",
       "UK    -8.2\n",
       "US    18.8\n",
       "dtype: float64"
      ]
     },
     "execution_count": 26,
     "metadata": {},
     "output_type": "execute_result"
    }
   ],
   "source": [
    "wstar = w_star(sigma=bl_sigma, mu=bl_mu, delta=2.5)\n",
    "(wstar*100).round(1)"
   ]
  },
  {
   "cell_type": "markdown",
   "metadata": {},
   "source": [
    "The computed $w^*$ exactly replicates column 4 of Table 5. Finally, as in the previous case, \n",
    "they compute $w^* - \\frac{w_{eq}}{1+\\tau}$ in column 5. We replicate that column as follows:"
   ]
  },
  {
   "cell_type": "code",
   "execution_count": 28,
   "metadata": {},
   "outputs": [
    {
     "data": {
      "text/plain": [
       "AU    -0.0\n",
       "CA    39.8\n",
       "FR    -8.4\n",
       "DE    28.4\n",
       "JP     0.0\n",
       "UK   -20.0\n",
       "US   -39.8\n",
       "dtype: float64"
      ]
     },
     "execution_count": 28,
     "metadata": {},
     "output_type": "execute_result"
    }
   ],
   "source": [
    "# difference in Posterior and Prior weights\n",
    "np.round(wstar - w_eq/(1+tau), 3)*100"
   ]
  },
  {
   "cell_type": "markdown",
   "metadata": {},
   "source": [
    "Which exactly reproduces the last column of Table 5 of their paper.\n",
    "\n",
    "Once again, we see the power of the approach. The weights for assets that do not involve the view (AU, JP) remain unchanged. The two underperforming countries (FR, UK, US, according to the view) are underweighted, while the overperforming countries (CA, DE) are overweighted, but not to the extreme extent that a naive portfolio optimizer would have produced."
   ]
  },
  {
   "cell_type": "markdown",
   "metadata": {},
   "source": [
    "### View 3: More Bullish Canada vs US\n",
    "\n",
    "For their third case, He and Litterman alter the second view that Canadian Equities will outperform US Equities by increasing the \n",
    "expected out-performance from the previously stated $3\\%$ to $4\\%$. \n",
    "The results are in Table 6 of their paper."
   ]
  },
  {
   "cell_type": "code",
   "execution_count": 29,
   "metadata": {},
   "outputs": [
    {
     "data": {
      "text/plain": [
       "0    0.05\n",
       "1    0.04\n",
       "dtype: float64"
      ]
     },
     "execution_count": 29,
     "metadata": {},
     "output_type": "execute_result"
    }
   ],
   "source": [
    "# update the views\n",
    "Q[1] = 0.04\n",
    "Q"
   ]
  },
  {
   "cell_type": "markdown",
   "metadata": {},
   "source": [
    "Note that P remains unchanged since we have only altered Q, not P. We now compute the Black Litterman weights as before:"
   ]
  },
  {
   "cell_type": "code",
   "execution_count": 30,
   "metadata": {},
   "outputs": [
    {
     "data": {
      "text/plain": [
       "AU     4.4\n",
       "CA     9.1\n",
       "FR     9.5\n",
       "DE    11.3\n",
       "JP     4.6\n",
       "UK     7.0\n",
       "US     7.3\n",
       "dtype: float64"
      ]
     },
     "execution_count": 30,
     "metadata": {},
     "output_type": "execute_result"
    }
   ],
   "source": [
    "bl_mu, bl_sigma = erk.black_litterman(w_eq, sigma_prior, P, Q, tau=tau)\n",
    "np.round(bl_mu, 3)*100"
   ]
  },
  {
   "cell_type": "markdown",
   "metadata": {},
   "source": [
    "The  Black-Litterman expected returns reproduces column 3 of Table 6. \n",
    "He-Litterman compute the optimal portfolio $w^*$ as follows (this is Equation (13) on page 6 of their paper):"
   ]
  },
  {
   "cell_type": "code",
   "execution_count": 31,
   "metadata": {},
   "outputs": [
    {
     "data": {
      "text/plain": [
       "AU     1.5\n",
       "CA    53.3\n",
       "FR    -3.3\n",
       "DE    33.1\n",
       "JP    11.0\n",
       "UK    -7.8\n",
       "US     7.3\n",
       "dtype: float64"
      ]
     },
     "execution_count": 31,
     "metadata": {},
     "output_type": "execute_result"
    }
   ],
   "source": [
    "wstar = w_star(sigma=bl_sigma, mu=bl_mu, delta=2.5)\n",
    "(wstar*100).round(1)"
   ]
  },
  {
   "cell_type": "markdown",
   "metadata": {},
   "source": [
    "The computed $w^*$ exactly replicates column 4 ($w^*$) of Table 7. \n",
    "Finally, as in the previous case, they compute $w^* - \\frac{w_{eq}}{1+\\tau}$ in column 6. We replicate that column as follows:"
   ]
  },
  {
   "cell_type": "code",
   "execution_count": 32,
   "metadata": {},
   "outputs": [
    {
     "data": {
      "text/plain": [
       "AU    -0.0\n",
       "CA    51.3\n",
       "FR    -8.2\n",
       "DE    27.8\n",
       "JP    -0.0\n",
       "UK   -19.6\n",
       "US   -51.3\n",
       "dtype: float64"
      ]
     },
     "execution_count": 32,
     "metadata": {},
     "output_type": "execute_result"
    }
   ],
   "source": [
    "w_eq = erk.weigths_max_sharpe_ratio(delta*sigma_prior, Pi, scale=False)\n",
    "\n",
    "# difference in Posterior and Prior weights\n",
    "np.round(wstar - w_eq/(1+tau), 3)*100"
   ]
  },
  {
   "cell_type": "markdown",
   "metadata": {},
   "source": [
    "Which exactly reproduces the last column of Table 6 of their paper. \n",
    "Again, we see how the weights increase allocations consistent with the view, but keep allocations from getting extreme."
   ]
  },
  {
   "cell_type": "markdown",
   "metadata": {},
   "source": [
    "### View 4: increasing view uncertainty\n",
    "\n",
    "As a final step, He and Litterman demonstrate the effect of $\\Omega$. They increase the uncertainty associated with the first of the two views (i.e. the one that Germany will outperform the rest of Europe). First we compute the default value of $\\Omega$ and then increase the uncertainty associated with the first view alone."
   ]
  },
  {
   "cell_type": "code",
   "execution_count": 33,
   "metadata": {},
   "outputs": [
    {
     "data": {
      "text/html": [
       "<div>\n",
       "<style scoped>\n",
       "    .dataframe tbody tr th:only-of-type {\n",
       "        vertical-align: middle;\n",
       "    }\n",
       "\n",
       "    .dataframe tbody tr th {\n",
       "        vertical-align: top;\n",
       "    }\n",
       "\n",
       "    .dataframe thead th {\n",
       "        text-align: right;\n",
       "    }\n",
       "</style>\n",
       "<table border=\"1\" class=\"dataframe\">\n",
       "  <thead>\n",
       "    <tr style=\"text-align: right;\">\n",
       "      <th></th>\n",
       "      <th>0</th>\n",
       "      <th>1</th>\n",
       "    </tr>\n",
       "  </thead>\n",
       "  <tbody>\n",
       "    <tr>\n",
       "      <th>0</th>\n",
       "      <td>0.00213</td>\n",
       "      <td>0.000000</td>\n",
       "    </tr>\n",
       "    <tr>\n",
       "      <th>1</th>\n",
       "      <td>0.00000</td>\n",
       "      <td>0.000852</td>\n",
       "    </tr>\n",
       "  </tbody>\n",
       "</table>\n",
       "</div>"
      ],
      "text/plain": [
       "         0         1\n",
       "0  0.00213  0.000000\n",
       "1  0.00000  0.000852"
      ]
     },
     "execution_count": 33,
     "metadata": {},
     "output_type": "execute_result"
    }
   ],
   "source": [
    "# compute the default Omega\n",
    "omega = erk.omega_uncertain_prior(sigma_prior, tau, P)\n",
    "\n",
    "# Now, double the uncertainty associated with View 1\n",
    "omega.iloc[0,0] = 2*omega.iloc[0,0]\n",
    "omega"
   ]
  },
  {
   "cell_type": "markdown",
   "metadata": {},
   "source": [
    "We now compute the Black Litterman weights as before, but supplying the value of $\\Omega$ we just adjusted:"
   ]
  },
  {
   "cell_type": "code",
   "execution_count": 34,
   "metadata": {},
   "outputs": [
    {
     "data": {
      "text/plain": [
       "AU     4.3\n",
       "CA     8.9\n",
       "FR     9.3\n",
       "DE    10.6\n",
       "JP     4.6\n",
       "UK     6.9\n",
       "US     7.2\n",
       "dtype: float64"
      ]
     },
     "execution_count": 34,
     "metadata": {},
     "output_type": "execute_result"
    }
   ],
   "source": [
    "bl_mu, bl_sigma = erk.black_litterman(w_eq, sigma_prior, P, Q, tau=tau, Omega=omega)\n",
    "np.round(bl_mu, 3)*100"
   ]
  },
  {
   "cell_type": "markdown",
   "metadata": {},
   "source": [
    "The  Black-Litterman expected returns computed by the code exactly reproduces column 3 of Table 7. \n",
    "He-Litterman compute the optimal portfolio $w^*$ as follows (this is Equation (13) on page 6 of their paper)"
   ]
  },
  {
   "cell_type": "code",
   "execution_count": 35,
   "metadata": {},
   "outputs": [
    {
     "data": {
      "text/plain": [
       "AU     1.5\n",
       "CA    53.9\n",
       "FR    -0.5\n",
       "DE    23.6\n",
       "JP    11.0\n",
       "UK    -1.1\n",
       "US     6.8\n",
       "dtype: float64"
      ]
     },
     "execution_count": 35,
     "metadata": {},
     "output_type": "execute_result"
    }
   ],
   "source": [
    "wstar = w_star(sigma=bl_sigma, mu=bl_mu, delta=2.5, )\n",
    "(wstar*100).round(1)"
   ]
  },
  {
   "cell_type": "markdown",
   "metadata": {},
   "source": [
    "The computed $w^*$ exactly replicates column 4 ($w^*$) of Table 7. \n",
    "Finally, as in the previous case, they compute $w^* - \\frac{w_{eq}}{1+\\tau}$ in column 6. We replicate that column as follows:"
   ]
  },
  {
   "cell_type": "code",
   "execution_count": 37,
   "metadata": {},
   "outputs": [
    {
     "data": {
      "text/plain": [
       "AU    -0.0\n",
       "CA    51.8\n",
       "FR    -5.4\n",
       "DE    18.4\n",
       "JP     0.0\n",
       "UK   -13.0\n",
       "US   -51.8\n",
       "dtype: float64"
      ]
     },
     "execution_count": 37,
     "metadata": {},
     "output_type": "execute_result"
    }
   ],
   "source": [
    "# difference in Posterior and Prior weights\n",
    "np.round(wstar - w_eq/(1+tau), 3)*100"
   ]
  },
  {
   "cell_type": "markdown",
   "metadata": {},
   "source": [
    "Which exactly reproduces the last column of Table 7 of their paper. \n",
    "Again, we see how the weights increase allocations consistent with the view, but keep allocations from getting extreme.\n",
    "\n",
    "That concludes our reproduction of the paper. Note that He and Litterman also produce an extra table (Table 8) which demonstrates the value of adding a third view. However, the third view is identical to the values implied by the equilibrium and as a result, they produce exactly the same results as Table 7. I do not bother reproduce it here since the results are exactly the same as Table 7."
   ]
  }
 ],
 "metadata": {
  "kernelspec": {
   "display_name": "Python 3",
   "language": "python",
   "name": "python3"
  },
  "language_info": {
   "codemirror_mode": {
    "name": "ipython",
    "version": 3
   },
   "file_extension": ".py",
   "mimetype": "text/x-python",
   "name": "python",
   "nbconvert_exporter": "python",
   "pygments_lexer": "ipython3",
   "version": "3.7.1"
  }
 },
 "nbformat": 4,
 "nbformat_minor": 2
}
