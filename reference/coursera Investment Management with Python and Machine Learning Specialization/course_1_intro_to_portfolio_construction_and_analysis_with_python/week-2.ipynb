{
 "cells": [
  {
   "cell_type": "markdown",
   "metadata": {},
   "source": [
    "# Week 2"
   ]
  },
  {
   "cell_type": "code",
   "execution_count": 74,
   "metadata": {},
   "outputs": [],
   "source": [
    "import pandas as pd\n",
    "import numpy as np\n",
    "import matplotlib.pyplot as plt\n",
    "import scipy.stats \n",
    "from pandas_datareader import data \n",
    "from datetime import datetime\n",
    "from scipy.optimize import minimize"
   ]
  },
  {
   "cell_type": "code",
   "execution_count": 75,
   "metadata": {},
   "outputs": [
    {
     "name": "stdout",
     "output_type": "stream",
     "text": [
      "The autoreload extension is already loaded. To reload it, use:\n",
      "  %reload_ext autoreload\n"
     ]
    }
   ],
   "source": [
    "%load_ext autoreload\n",
    "%autoreload 2\n",
    "%matplotlib inline"
   ]
  },
  {
   "cell_type": "code",
   "execution_count": 76,
   "metadata": {},
   "outputs": [],
   "source": [
    "import sys\n",
    "sys.path.append(\"../\")\n",
    "import edhec_risk_kit as erk"
   ]
  },
  {
   "cell_type": "code",
   "execution_count": 77,
   "metadata": {},
   "outputs": [],
   "source": [
    "# using seaborn style (type plt.style.available to see available styles)\n",
    "plt.style.use(\"seaborn-dark\")"
   ]
  },
  {
   "cell_type": "markdown",
   "metadata": {},
   "source": [
    "## Modern portfolio theory (MPT)\n",
    "\n",
    "The **Modern portfolio theory (MPT)** is a mathematical framework **for assembling a portfolio of assets such that the expected return is maximized for a given level of volatility**. It is a formalization of **diversification in investing**, i.e., the idea that owning different kinds of financial assets is less risky than owning only one assets. \n",
    "\n",
    "### Efficient Frontiers \n",
    "\n",
    "In the MPT, the **efficient frontier** is an a curve which occupies the **efficient** part of the **volatility-return plane**. \n",
    "Formally, it is the set of portfolios that can be constructed with the given input assets \n",
    "that have the maximum expected returns for a fixed level of volatility and, in turn, \n",
    "the lowest volatilities for a fixed level of expected return. The efficient frontier was first formulated by **Harry Markowitz** (1952).\n",
    "\n",
    "We have to construct a portfolio of several assets and **we want to find the optimal percentages of investment to be allocated in these assets** so that, for example, the total (expected) return of such a portfolio is maximixed for a given level of volatility. \n",
    "\n",
    "Hence, suppose that **we have $N > 1$ assets**, and we decide to invest all of our capital in them. Let $\\mathbf{w}:=(w_1,\\dots,w_N)^T$, with $w_i\\in (0,1)$ for all $i=1,\\dots,N$, \n",
    "be the percentages of investment our portfolio, i.e., $w_i$ is the proportion of investiment in asset $i$. \n",
    "We will call the quantities $w_i$ as the **weights**. \n",
    "\n",
    "Since we invest all of our capital, there holds $\\sum_{i=1}^N w_i = 1$ (this is a **long-only** strategy).\n",
    "\n",
    "Let $R_i$ and $R_p$ be the return of asset $i$ and the total return of the portfolio, respectively. \n",
    "Likewise, let $\\sigma_i$ and $\\sigma_p$ be the volatility of asset $i$ and the volatility of the portfolio, respectively. \n",
    "\n",
    "\n",
    "### Return of a portfolio\n",
    "The **total return of the porfolio** is going to be a simple weigthed sum of the (total) returns of single assets, i.e.,\n",
    "$$\n",
    "R_p = \\sum_{i=1}^N w_i R_i = \\mathbf{w}^T \\mathbf{R},\n",
    "$$\n",
    "where $\\mathbf{R} := (R_1,\\dots,R_N)^T$. \n",
    "Note that if we have a dataset of **past returns**, the total return $R_p$ is computed as above using the returns of the past data. On the other hand, if we are going to compute invest now, we do not have a series of true (past) return, but we instead would have **expected returns**. Hence, in this case we would have the maean value $\\mathbb{E}$ in the formula above. \n",
    "\n",
    "\n",
    "### Volatility of a portfolio\n",
    "The **volatility of the porfolio** is computed as the (square root of the) variance of the weigthed sum of the returns of single assets. \n",
    "\n",
    "Let us make and axample with only two assets. We have $w_1$ and $w_2$ and two assets whose returns are $R_1$ and $R_2$. We have:\n",
    "$$\n",
    "\\sigma_p^2 =   \\text{Var}(w_1 R_1 + w_2 R_2) = \n",
    "w_1^2 \\text{Var}(R_1) + w_2^2\\text{Var}(R_2) + 2w_1 w_2\\text{Cov}(R_1,R_2) =\n",
    "w_1^2 \\sigma_1^2 + w_2^2\\sigma_2^2 + 2w_1 w_2\\text{Cov}(R_1,R_2), \n",
    "$$\n",
    "where \n",
    "$$\n",
    "\\text{Cov}(R_1,R_2) := \\mathbb{E}[(R_i-\\mu_i)(R_j - \\mu_j)], \n",
    "$$\n",
    "is the **covariance** between asset $i$ and $j$ and where $\\mu_i$ and $\\mu_j$ denote \n",
    "the mean returns of assets $i$ and $j$, respectively. In particular, if we let \n",
    "$$\n",
    "\\rho_{ij} := \\frac{\\text{Cov}(R_i,R_j)}{\\sigma_i \\sigma_j} = \\frac{\\text{Cov}(i,j)}{\\sigma_1 \\sigma_2}, \n",
    "$$\n",
    "denote the **correlation coefficient** between assets $i$ and asset $j$, then the volatility of a $2$ assets portfolio becomes:\n",
    "$$\n",
    "\\sigma_p = \n",
    "\\sqrt{ w_i^2 \\sigma_1^2 + w_2^2 \\sigma_2^2 + 2w_1 w_2 \\sigma_1 \\sigma_2 \\rho_{ij} }. \n",
    "$$\n",
    "Note that we can write in compact form the such volatility using matrix notation. That is:\n",
    "$$\n",
    "\\sigma_p = \n",
    "\\sqrt{\n",
    "(w_i, w_2)\\, \n",
    "\\begin{pmatrix}\n",
    "\\sigma^2_1 & \\sigma_1 \\sigma_2 \\rho_{12} \\\\\n",
    "\\sigma_1 \\sigma_2 \\rho_{21} & \\sigma^2_2\n",
    "\\end{pmatrix}\n",
    "\\begin{pmatrix}\n",
    "w_1 \\\\\n",
    "w_2 \n",
    "\\end{pmatrix}\n",
    "}\n",
    "=\n",
    "\\sqrt{\n",
    "\\mathbf{w}^T \\Sigma \\mathbf{w}\n",
    "}\n",
    "\\quad\\text{and}\\quad\n",
    "\\Sigma := \n",
    "\\begin{pmatrix}\n",
    "\\sigma^2_1 & \\sigma_1 \\sigma_2 \\rho_{12} \\\\\n",
    "\\sigma_1 \\sigma_2 \\rho_{21} & \\sigma^2_2\n",
    "\\end{pmatrix},\n",
    "$$\n",
    "where $\\Sigma$ is the symmetric square **covariance matrix**.\n",
    "\n",
    "\n",
    "Now, in case of $N$ assets, let again $\\Sigma$ be the $N\\times N$ covariance matrix, $\\Sigma = [c_{ij}]$, \n",
    "where each element $c_{ij} := \\sigma_i \\sigma_j \\rho_{ij}$ ($i,j=1,\\dots,N$) denote the **covariance** between assets $i$ \n",
    "and asset $j$, with $\\sigma_i$, $\\sigma_j$, and $\\rho_{ij}$ being the volatility \n",
    "and the correlation coefficient of assets $i$ and $j$, respectively. \n",
    "If $i=j$, $c_{ii}=\\sigma_i^2$ is simply the variance of asset $i$ (**diagonal entries are the variances**).\n",
    "\n",
    "The volatility of the portfolio is then given by:\n",
    "$$\n",
    "\\sigma_p = \\sqrt{ \\mathbf{w}^T \\Sigma \\mathbf{w} }.\n",
    "$$\n"
   ]
  },
  {
   "cell_type": "markdown",
   "metadata": {},
   "source": [
    "### Efficient frontiers of 2-assets portfolios \n",
    "In the following, we propose an artificial example in order to see the curve that is drawn by different portfolios which \n",
    "are constructed with only $2$ assets with different correlation $\\rho_{12}$. \n",
    "First of all, we assume to generate $500$ **daily returns** of $2$ assets:"
   ]
  },
  {
   "cell_type": "code",
   "execution_count": 13,
   "metadata": {},
   "outputs": [],
   "source": [
    "nret             = 500\n",
    "periods_per_year = 252\n",
    "risk_free_rate   = 0.0"
   ]
  },
  {
   "cell_type": "markdown",
   "metadata": {},
   "source": [
    "Then, we set up a value for the means and the volatility of our two artifical assets:"
   ]
  },
  {
   "cell_type": "code",
   "execution_count": 14,
   "metadata": {},
   "outputs": [],
   "source": [
    "mean_1 = 0.001019\n",
    "mean_2 = 0.001249\n",
    "vol_1  = 0.016317\n",
    "vol_2  = 0.019129"
   ]
  },
  {
   "cell_type": "markdown",
   "metadata": {},
   "source": [
    "and we set up $6$ correlations of the two assets, and for every fixed correlation, \n",
    "we will generate $20$ portfolios by allocating $20$ pairs of weights:"
   ]
  },
  {
   "cell_type": "code",
   "execution_count": 15,
   "metadata": {},
   "outputs": [],
   "source": [
    "# Correlation goes from 1 (completely correlated) to -1 (conversely correlated)\n",
    "rhos  = np.linspace(1,-1,num=6) \n",
    "ncorr = len(rhos)\n",
    "\n",
    "# Pairs of weights to be used to construct the portfolios for any given correlation\n",
    "nweig = 20\n",
    "w1 = np.linspace(0,1,num=nweig)\n",
    "w2 = 1 - np.linspace(0,1,num=nweig)\n",
    "ww = pd.DataFrame( [w1, w2] ).T  "
   ]
  },
  {
   "cell_type": "code",
   "execution_count": 16,
   "metadata": {},
   "outputs": [
    {
     "data": {
      "image/png": "[encoded data removed]",
      "text/plain": [
       "<Figure size 1440x288 with 7 Axes>"
      ]
     },
     "metadata": {},
     "output_type": "display_data"
    }
   ],
   "source": [
    "# Set seed\n",
    "np.random.seed(1)\n",
    "\n",
    "# Open the figure\n",
    "fig, ax = plt.subplots(1,6, figsize=(20,4))    \n",
    "ax = ax.flatten()\n",
    "\n",
    "for k_rho, rho in enumerate(rhos):\n",
    "    # Allocate an empty portfolio \n",
    "    portfolio = pd.DataFrame(columns=[\"return\",\"volatility\",\"sharpe ratio\"])\n",
    "\n",
    "    # Generate the assets' returns with the given correlation rho\n",
    "    cov_ij     = rho * vol_1 * vol_2\n",
    "    cov_rets   = pd.DataFrame( [[vol_1**2, cov_ij], [cov_ij, vol_2**2]] )\n",
    "    daily_rets = pd.DataFrame( np.random.multivariate_normal((mean_1,mean_2), cov_rets.values, nret) )\n",
    "    \n",
    "    for i in range(ww.shape[0]):\n",
    "        # Now, construct the portfolio of two asset with correlation rho and weights ww.loc[i]\n",
    "        weights = ww.loc[i] \n",
    "        # here, weights is a column vector (pd.Series)\n",
    "\n",
    "        # annualized portfolio returns\n",
    "        ann_rets      = erk.annualize_rets(daily_rets, periods_per_year)\n",
    "        portfolio_ret = erk.portfolio_return(weights, ann_rets)        \n",
    "\n",
    "        # annualized portfolio volatility\n",
    "        portfolio_vol = erk.portfolio_volatility(weights, cov_rets)\n",
    "        portfolio_vol = erk.annualize_vol(portfolio_vol, periods_per_year)\n",
    "\n",
    "        # annualized portfolio sharpe ratio\n",
    "        portfolio_spr = erk.sharpe_ratio(portfolio_ret, risk_free_rate, periods_per_year, v=portfolio_vol)\n",
    "\n",
    "        # dataframe containing the return, volatility, and the sharpe ratio of the portfolio constructed   \n",
    "        portfolio = portfolio.append( {\"return\":portfolio_ret, \"volatility\": portfolio_vol, \"sharpe ratio\":portfolio_spr}, ignore_index=True)\n",
    "\n",
    "    # plot create scatter plot coloured by Sharpe Ratio\n",
    "    im = ax[k_rho].scatter(portfolio[\"volatility\"]*100, portfolio[\"return\"]*100, c=w2, cmap='RdYlBu') \n",
    "    ax[k_rho].grid()\n",
    "    ax[k_rho].set_title(\"Correlation: {}\".format(np.round(rho,2)), y=0.9, loc='left')\n",
    "    ax[k_rho].set_xlabel(\"volatility (%)\")\n",
    "    if k_rho==0: ax[k_rho].set_ylabel(\"return (%)\") \n",
    "    ax[k_rho].set_xlim([0,32])\n",
    "    ax[k_rho].set_ylim([0,95])\n",
    "    \n",
    "fig.colorbar(im, ax=ax.ravel().tolist())\n",
    "plt.show()"
   ]
  },
  {
   "cell_type": "markdown",
   "metadata": {},
   "source": [
    "For any given correlation, each point represents the pair (return, volatility) of a portfolio constructed with some percentage allocation. \n",
    "This can be seen in the colorbar: **red corresponds to $\\mathbf{w} = (1,0)$**, i.e., allocation of money only to the first asset, whereas \n",
    "**blue corresponds to $\\mathbf{w} = (0,1)$**, i.e., allocation of money only ot the second asset.  \n",
    "\n",
    "We can see that **the lower the correlation between the assets, the better the trade-off between return and volatility**: in this example, \n",
    "when $\\rho=-1$, we could in principle construct a portfolio which guarantee about $30\\%$ of return with almost no volatility."
   ]
  },
  {
   "cell_type": "markdown",
   "metadata": {},
   "source": [
    "### Example from the real world: US stocks\n",
    "Now we will get the timeseries of some US economy stocks and see how to construct a portfolio in an efficient way."
   ]
  },
  {
   "cell_type": "code",
   "execution_count": 17,
   "metadata": {},
   "outputs": [],
   "source": [
    "tickers  = ['AMZN','KO','MSFT']\n",
    "n_assets = len(tickers) \n",
    "\n",
    "stocks = pd.DataFrame()\n",
    "for stock_name in tickers:\n",
    "    # daily data\n",
    "    stocks[stock_name] = data.DataReader(stock_name, data_source=\"yahoo\", \n",
    "                                         start=datetime(2010,1,1), end=datetime(2019,11,15))[\"Adj Close\"]    "
   ]
  },
  {
   "cell_type": "code",
   "execution_count": 18,
   "metadata": {},
   "outputs": [
    {
     "data": {
      "text/html": [
       "<div>\n",
       "<style scoped>\n",
       "    .dataframe tbody tr th:only-of-type {\n",
       "        vertical-align: middle;\n",
       "    }\n",
       "\n",
       "    .dataframe tbody tr th {\n",
       "        vertical-align: top;\n",
       "    }\n",
       "\n",
       "    .dataframe thead th {\n",
       "        text-align: right;\n",
       "    }\n",
       "</style>\n",
       "<table border=\"1\" class=\"dataframe\">\n",
       "  <thead>\n",
       "    <tr style=\"text-align: right;\">\n",
       "      <th></th>\n",
       "      <th>AMZN</th>\n",
       "      <th>KO</th>\n",
       "      <th>MSFT</th>\n",
       "    </tr>\n",
       "    <tr>\n",
       "      <th>Date</th>\n",
       "      <th></th>\n",
       "      <th></th>\n",
       "      <th></th>\n",
       "    </tr>\n",
       "  </thead>\n",
       "  <tbody>\n",
       "    <tr>\n",
       "      <th>2019-11-11</th>\n",
       "      <td>1771.650024</td>\n",
       "      <td>51.455643</td>\n",
       "      <td>145.614517</td>\n",
       "    </tr>\n",
       "    <tr>\n",
       "      <th>2019-11-12</th>\n",
       "      <td>1778.000000</td>\n",
       "      <td>51.326607</td>\n",
       "      <td>146.571259</td>\n",
       "    </tr>\n",
       "    <tr>\n",
       "      <th>2019-11-13</th>\n",
       "      <td>1753.109985</td>\n",
       "      <td>52.021416</td>\n",
       "      <td>146.810440</td>\n",
       "    </tr>\n",
       "    <tr>\n",
       "      <th>2019-11-14</th>\n",
       "      <td>1754.599976</td>\n",
       "      <td>52.239788</td>\n",
       "      <td>147.557892</td>\n",
       "    </tr>\n",
       "    <tr>\n",
       "      <th>2019-11-15</th>\n",
       "      <td>1739.489990</td>\n",
       "      <td>52.279488</td>\n",
       "      <td>149.461426</td>\n",
       "    </tr>\n",
       "  </tbody>\n",
       "</table>\n",
       "</div>"
      ],
      "text/plain": [
       "                   AMZN         KO        MSFT\n",
       "Date                                          \n",
       "2019-11-11  1771.650024  51.455643  145.614517\n",
       "2019-11-12  1778.000000  51.326607  146.571259\n",
       "2019-11-13  1753.109985  52.021416  146.810440\n",
       "2019-11-14  1754.599976  52.239788  147.557892\n",
       "2019-11-15  1739.489990  52.279488  149.461426"
      ]
     },
     "execution_count": 18,
     "metadata": {},
     "output_type": "execute_result"
    }
   ],
   "source": [
    "stocks.tail()"
   ]
  },
  {
   "cell_type": "code",
   "execution_count": 19,
   "metadata": {},
   "outputs": [
    {
     "data": {
      "text/html": [
       "<div>\n",
       "<style scoped>\n",
       "    .dataframe tbody tr th:only-of-type {\n",
       "        vertical-align: middle;\n",
       "    }\n",
       "\n",
       "    .dataframe tbody tr th {\n",
       "        vertical-align: top;\n",
       "    }\n",
       "\n",
       "    .dataframe thead th {\n",
       "        text-align: right;\n",
       "    }\n",
       "</style>\n",
       "<table border=\"1\" class=\"dataframe\">\n",
       "  <thead>\n",
       "    <tr style=\"text-align: right;\">\n",
       "      <th></th>\n",
       "      <th>AMZN</th>\n",
       "      <th>KO</th>\n",
       "      <th>MSFT</th>\n",
       "    </tr>\n",
       "    <tr>\n",
       "      <th>Date</th>\n",
       "      <th></th>\n",
       "      <th></th>\n",
       "      <th></th>\n",
       "    </tr>\n",
       "  </thead>\n",
       "  <tbody>\n",
       "    <tr>\n",
       "      <th>2019-11-11</th>\n",
       "      <td>-0.007968</td>\n",
       "      <td>-0.007087</td>\n",
       "      <td>0.001028</td>\n",
       "    </tr>\n",
       "    <tr>\n",
       "      <th>2019-11-12</th>\n",
       "      <td>0.003584</td>\n",
       "      <td>-0.002508</td>\n",
       "      <td>0.006570</td>\n",
       "    </tr>\n",
       "    <tr>\n",
       "      <th>2019-11-13</th>\n",
       "      <td>-0.013999</td>\n",
       "      <td>0.013537</td>\n",
       "      <td>0.001632</td>\n",
       "    </tr>\n",
       "    <tr>\n",
       "      <th>2019-11-14</th>\n",
       "      <td>0.000850</td>\n",
       "      <td>0.004198</td>\n",
       "      <td>0.005091</td>\n",
       "    </tr>\n",
       "    <tr>\n",
       "      <th>2019-11-15</th>\n",
       "      <td>-0.008612</td>\n",
       "      <td>0.000760</td>\n",
       "      <td>0.012900</td>\n",
       "    </tr>\n",
       "  </tbody>\n",
       "</table>\n",
       "</div>"
      ],
      "text/plain": [
       "                AMZN        KO      MSFT\n",
       "Date                                    \n",
       "2019-11-11 -0.007968 -0.007087  0.001028\n",
       "2019-11-12  0.003584 -0.002508  0.006570\n",
       "2019-11-13 -0.013999  0.013537  0.001632\n",
       "2019-11-14  0.000850  0.004198  0.005091\n",
       "2019-11-15 -0.008612  0.000760  0.012900"
      ]
     },
     "execution_count": 19,
     "metadata": {},
     "output_type": "execute_result"
    }
   ],
   "source": [
    "# compute the daily returns \n",
    "daily_rets = erk.compute_returns(stocks)\n",
    "daily_rets.tail()"
   ]
  },
  {
   "cell_type": "code",
   "execution_count": 20,
   "metadata": {},
   "outputs": [
    {
     "data": {
      "text/html": [
       "<div>\n",
       "<style scoped>\n",
       "    .dataframe tbody tr th:only-of-type {\n",
       "        vertical-align: middle;\n",
       "    }\n",
       "\n",
       "    .dataframe tbody tr th {\n",
       "        vertical-align: top;\n",
       "    }\n",
       "\n",
       "    .dataframe thead th {\n",
       "        text-align: right;\n",
       "    }\n",
       "</style>\n",
       "<table border=\"1\" class=\"dataframe\">\n",
       "  <thead>\n",
       "    <tr style=\"text-align: right;\">\n",
       "      <th></th>\n",
       "      <th>AMZN</th>\n",
       "      <th>KO</th>\n",
       "      <th>MSFT</th>\n",
       "    </tr>\n",
       "  </thead>\n",
       "  <tbody>\n",
       "    <tr>\n",
       "      <th>AMZN</th>\n",
       "      <td>0.000384</td>\n",
       "      <td>0.000047</td>\n",
       "      <td>0.000138</td>\n",
       "    </tr>\n",
       "    <tr>\n",
       "      <th>KO</th>\n",
       "      <td>0.000047</td>\n",
       "      <td>0.000088</td>\n",
       "      <td>0.000050</td>\n",
       "    </tr>\n",
       "    <tr>\n",
       "      <th>MSFT</th>\n",
       "      <td>0.000138</td>\n",
       "      <td>0.000050</td>\n",
       "      <td>0.000207</td>\n",
       "    </tr>\n",
       "  </tbody>\n",
       "</table>\n",
       "</div>"
      ],
      "text/plain": [
       "          AMZN        KO      MSFT\n",
       "AMZN  0.000384  0.000047  0.000138\n",
       "KO    0.000047  0.000088  0.000050\n",
       "MSFT  0.000138  0.000050  0.000207"
      ]
     },
     "execution_count": 20,
     "metadata": {},
     "output_type": "execute_result"
    }
   ],
   "source": [
    "# compute the mean daily returns and the covariance of daily returns of the two assets\n",
    "mean_rets = daily_rets.mean()\n",
    "std_rets  = daily_rets.std()\n",
    "cov_rets  = daily_rets.cov()\n",
    "cov_rets"
   ]
  },
  {
   "cell_type": "markdown",
   "metadata": {},
   "source": [
    "Now we simulate $4000$ portfolios with weights allocated to the stocks above:"
   ]
  },
  {
   "cell_type": "code",
   "execution_count": 21,
   "metadata": {},
   "outputs": [],
   "source": [
    "periods_per_year = 252\n",
    "num_portfolios   = 4000\n",
    "portfolios       = pd.DataFrame(columns=[\"return\",\"volatility\",\"sharpe ratio\",\"w1\",\"w2\",\"w3\"])\n",
    "risk_free_rate   = 0"
   ]
  },
  {
   "cell_type": "code",
   "execution_count": 22,
   "metadata": {},
   "outputs": [],
   "source": [
    "for i in range(num_portfolios):\n",
    "    # select random weights\n",
    "    weights = np.random.random(n_assets)\n",
    "    # and rescale them to sum to 1\n",
    "    weights /= np.sum(weights)\n",
    "    \n",
    "    # annualized portfolio returns\n",
    "    ann_rets      = erk.annualize_rets(daily_rets, periods_per_year)\n",
    "    portfolio_ret = erk.portfolio_return(weights, ann_rets)        \n",
    "\n",
    "    # annualized portfolio volatility\n",
    "    portfolio_vol = erk.portfolio_volatility(weights, cov_rets)\n",
    "    portfolio_vol = erk.annualize_vol(portfolio_vol, periods_per_year)\n",
    "\n",
    "    # annualized portfolio sharpe ratio\n",
    "    portfolio_spr = erk.sharpe_ratio(portfolio_ret, risk_free_rate, periods_per_year, v=portfolio_vol)\n",
    "    \n",
    "    # create dataframe   \n",
    "    portfolios = portfolios.append( {\"return\":portfolio_ret, \n",
    "                                     \"volatility\":portfolio_vol, \n",
    "                                     \"sharpe ratio\":portfolio_spr, \n",
    "                                     \"w1\": weights[0], \"w2\": weights[1], \"w3\": weights[2]}, \n",
    "                                     ignore_index=True)"
   ]
  },
  {
   "cell_type": "markdown",
   "metadata": {},
   "source": [
    "Now we create a scatter plot coloured by sharpe ratios of the portfolios generated above and we also plot the efficient frontier:"
   ]
  },
  {
   "cell_type": "code",
   "execution_count": 23,
   "metadata": {},
   "outputs": [
    {
     "data": {
      "image/png": "[encoded data removed]",
      "text/plain": [
       "<Figure size 720x432 with 2 Axes>"
      ]
     },
     "metadata": {},
     "output_type": "display_data"
    }
   ],
   "source": [
    "fig, ax = plt.subplots(1,1, figsize=(10,6)) \n",
    "\n",
    "im = ax.scatter(portfolios[\"volatility\"], portfolios[\"return\"], c=portfolios[\"sharpe ratio\"], s=20, edgecolor=None, cmap='RdYlBu')\n",
    "ax.set_title(\"Portfolios and efficient frontier\")\n",
    "ax.set_xlabel(\"volatility\")\n",
    "ax.set_ylabel(\"return\")\n",
    "ax.grid()\n",
    "\n",
    "# Draw the efficient frontier\n",
    "df = erk.efficient_frontier(50, daily_rets, cov_rets, periods_per_year)\n",
    "df.plot.line(x=\"volatility\", y=\"return\", style=\"--\", color=\"coral\", ax=ax, grid=True, label=\"Efficient frontier\")\n",
    "ax.set_xlim([0.125,0.33])\n",
    "\n",
    "fig.colorbar(im, ax=ax)\n",
    "plt.show()"
   ]
  },
  {
   "cell_type": "markdown",
   "metadata": {},
   "source": [
    "**We will come back to the plot of the efficient frontier below**.\n",
    "\n",
    "We can see that if the investor is targeting **a return of $20\\%$** he could simply hold \n",
    "a portfolio **with volatility of about $17.5\\%$**, although there are many other portfolios that \n",
    "can guarantee the same return but with much higher volatilities such as $22.5\\%$. \n",
    "It is clear that one should carefully choose the weights of the portfolio. \n",
    "\n",
    "We can see, in particular, that there are **two important** portfolios:\n",
    "\n",
    "1. the **portfolio with the Global Minimum Volatility (GMV)**, i.e., the global minimum variance portfolio\n",
    "2. the **portfolio with the Maximum Sharpe Ratio (MSR)**.\n",
    "\n",
    "From the code above we can easily locate these two portfolios in our dataframe by looking at the lowest volatility and highest sharpe ratio \n",
    "and and recover the corresponding weights that have been stored."
   ]
  },
  {
   "cell_type": "code",
   "execution_count": 24,
   "metadata": {},
   "outputs": [
    {
     "name": "stdout",
     "output_type": "stream",
     "text": [
      "Global Minimum Volatility portfolio:\n",
      "- return      : 13.11%\n",
      "- volatility  : 14.17%\n",
      "- sharpe ratio: 0.93\n",
      "\\Maximum Sharpe Ratio portfolio:\n",
      "- return      : 19.39%\n",
      "- volatility  : 17.24%\n",
      "- sharpe ratio: 1.13\n"
     ]
    }
   ],
   "source": [
    "# find the portfolio with lowest volatility \n",
    "low_vol_portfolio = portfolios.iloc[ portfolios['volatility'].idxmin() ]\n",
    "print(\"Global Minimum Volatility portfolio:\")\n",
    "print(\"- return      : {:.2f}%\".format(low_vol_portfolio[0]*100) )\n",
    "print(\"- volatility  : {:.2f}%\".format(low_vol_portfolio[1]*100) )\n",
    "print(\"- sharpe ratio: {:.2f}\".format(low_vol_portfolio[2]) )\n",
    "\n",
    "# find the portfolio with highest sharpe ratio\n",
    "high_sharpe_portfolio = portfolios.iloc[ portfolios['sharpe ratio'].idxmax() ]\n",
    "print(\"\\Maximum Sharpe Ratio portfolio:\")\n",
    "print(\"- return      : {:.2f}%\".format(high_sharpe_portfolio[0]*100) )\n",
    "print(\"- volatility  : {:.2f}%\".format(high_sharpe_portfolio[1]*100) )\n",
    "print(\"- sharpe ratio: {:.2f}\".format(high_sharpe_portfolio[2]) )"
   ]
  },
  {
   "cell_type": "code",
   "execution_count": 26,
   "metadata": {},
   "outputs": [
    {
     "data": {
      "image/png": "[encoded data removed]",
      "text/plain": [
       "<Figure size 720x432 with 2 Axes>"
      ]
     },
     "metadata": {},
     "output_type": "display_data"
    }
   ],
   "source": [
    "fig, ax = plt.subplots(1,1, figsize=(10,6)) \n",
    "\n",
    "im = ax.scatter(portfolios[\"volatility\"], portfolios[\"return\"], c=portfolios[\"sharpe ratio\"], s=20, edgecolor=None, label=None, cmap='RdYlBu')\n",
    "ax.set_title(\"Portfolios and efficient frontier\")\n",
    "ax.set_xlabel(\"volatility\")\n",
    "ax.set_ylabel(\"return\")\n",
    "ax.grid()\n",
    "\n",
    "# Draw the efficient frontier\n",
    "df.plot.line(x=\"volatility\", y=\"return\", style=\"--\", color=\"coral\", ax=ax, grid=True, label=\"Efficient frontier\")\n",
    "\n",
    "ax.scatter(low_vol_portfolio[1],     low_vol_portfolio[0],     marker=\"X\", color='g', s=120, label=\"GMV portfolio\")\n",
    "ax.scatter(high_sharpe_portfolio[1], high_sharpe_portfolio[0], marker=\"X\", color='r', s=120, label=\"MSR portfolio\")\n",
    "\n",
    "ax.set_xlim([0.125,0.33])\n",
    "ax.legend()\n",
    "\n",
    "fig.colorbar(im, ax=ax)\n",
    "plt.show()"
   ]
  },
  {
   "cell_type": "markdown",
   "metadata": {},
   "source": [
    "Let us define the following function which we are going to use several time in what follows:"
   ]
  },
  {
   "cell_type": "code",
   "execution_count": 27,
   "metadata": {},
   "outputs": [],
   "source": [
    "def get_portfolio_features(weights, rets, covmat, risk_free_rate, periods_per_year):\n",
    "    # portfolio volatility\n",
    "    vol = erk.portfolio_volatility(weights, covmat)\n",
    "    vol = erk.annualize_vol(vol, periods_per_year)\n",
    "\n",
    "    # portfolio return\n",
    "    ret = erk.portfolio_return(weights, rets)\n",
    "\n",
    "    # portfolio sharpe ratio\n",
    "    shp = erk.sharpe_ratio(ret, risk_free_rate, periods_per_year, v=vol)\n",
    "\n",
    "    print(\"Portfolio return:       {:.2f}%\" .format(ret*100))\n",
    "    print(\"Portfolio volatility:   {:.2f}%\" .format(vol*100))\n",
    "    print(\"Portfolio sharpe ratio: {:.2f}\" .format(shp))\n",
    "    \n",
    "    return ret, vol, shp"
   ]
  },
  {
   "cell_type": "markdown",
   "metadata": {},
   "source": [
    "### Finding the optimal portfolios: minimizing the volatility \n",
    "\n",
    "In the experiments above, we found the optimal portfolios, i.e., the ones on the efficient frontier, by **simulating a high number of portfolios** and then plotting them. From the plot we could see what the efficient frontier looked like. \n",
    "However, we can find an optimal portfolio on the efficient frontier by **solving a minimization problem**, \n",
    "for example, by applying the **scipy optimize** method. \n",
    "\n",
    "\n",
    "For example, suppose we want to **find the portfolio (on the efficient frontier) which has the minimum volatility**. \n",
    "Then the minimization problem is:\n",
    "$$\n",
    "\\text{minimize} \\;\\; \\frac{1}{2} \\mathbf{w}^T\\Sigma\\mathbf{w}, \n",
    "$$\n",
    "subject to \n",
    "$$\n",
    "\\begin{cases}\n",
    "\\mathbf{w}^T \\mathbf{1} = 1, \\\\\n",
    "0 \\leq \\mathbf{w} \\leq 1.\n",
    "\\end{cases}\n",
    "$$"
   ]
  },
  {
   "cell_type": "code",
   "execution_count": 28,
   "metadata": {},
   "outputs": [
    {
     "data": {
      "text/plain": [
       "AMZN    0.296842\n",
       "KO      0.105357\n",
       "MSFT    0.201881\n",
       "dtype: float64"
      ]
     },
     "execution_count": 28,
     "metadata": {},
     "output_type": "execute_result"
    }
   ],
   "source": [
    "# Let us see the total (annual) returns of single companies we are investing in\n",
    "ann_rets = erk.annualize_rets(daily_rets, periods_per_year)\n",
    "ann_rets"
   ]
  },
  {
   "cell_type": "markdown",
   "metadata": {},
   "source": [
    "Now, we can call our minimizer which solves the minimization problem of finding the weights of the portfolio with minimum volatility. "
   ]
  },
  {
   "cell_type": "code",
   "execution_count": 30,
   "metadata": {},
   "outputs": [
    {
     "name": "stdout",
     "output_type": "stream",
     "text": [
      "optimal weights:\n",
      "  AMZN: 5.57%\n",
      "  KO:   78.98%\n",
      "  MSFT: 15.45%\n"
     ]
    }
   ],
   "source": [
    "optimal_weights = erk.minimize_volatility(ann_rets, cov_rets)\n",
    "print(\"optimal weights:\")\n",
    "print(\"  AMZN: {:.2f}%\".format(optimal_weights[0]*100))\n",
    "print(\"  KO:   {:.2f}%\".format(optimal_weights[1]*100))\n",
    "print(\"  MSFT: {:.2f}%\".format(optimal_weights[2]*100))"
   ]
  },
  {
   "cell_type": "markdown",
   "metadata": {},
   "source": [
    "Let us compute the volatility of the portfolio constructed with these weights and locate it on the efficient frontier:"
   ]
  },
  {
   "cell_type": "code",
   "execution_count": 31,
   "metadata": {},
   "outputs": [
    {
     "name": "stdout",
     "output_type": "stream",
     "text": [
      "Portfolio return:       13.09%\n",
      "Portfolio volatility:   14.17%\n",
      "Portfolio sharpe ratio: 0.92\n"
     ]
    },
    {
     "data": {
      "image/png": "[encoded data removed]",
      "text/plain": [
       "<Figure size 576x288 with 1 Axes>"
      ]
     },
     "metadata": {},
     "output_type": "display_data"
    }
   ],
   "source": [
    "ret, vol, shp = get_portfolio_features(optimal_weights, ann_rets, cov_rets, risk_free_rate, periods_per_year)\n",
    "\n",
    "# Draw the efficient frontier\n",
    "fig, ax = plt.subplots(1,1, figsize=(8,4)) \n",
    "df = erk.efficient_frontier(50, daily_rets, cov_rets, periods_per_year)\n",
    "df.plot.line(x=\"volatility\", y=\"return\", style=\"--\", color=\"coral\", ax=ax, grid=True, label=\"Efficient frontier\")\n",
    "ax.scatter(vol, ret,  marker=\"X\", color='g', s=120, label=\"GMV portfolio\")\n",
    "ax.set_xlim([0.13,0.33])\n",
    "ax.legend()\n",
    "ax.set_title(\"Minimum volatility portfolio\")\n",
    "plt.show()"
   ]
  },
  {
   "cell_type": "markdown",
   "metadata": {},
   "source": [
    "We can also verify that the minimum volatility portfolio obtained by solving the minimization problem almost coincides \n",
    "with the one obtained from simulating a high number of portfolios as we have done before: "
   ]
  },
  {
   "cell_type": "code",
   "execution_count": 32,
   "metadata": {},
   "outputs": [
    {
     "name": "stdout",
     "output_type": "stream",
     "text": [
      "GMV portfolio:\n",
      "\n",
      "- Monte carlo:\n",
      "  return:       13.11%\n",
      "  volatility:   14.17%\n",
      "  sharpe ratio: 0.93\n",
      "\n",
      "- Minimization problem:\n",
      "  return:       13.09%\n",
      "  volatility:   14.17%\n",
      "  sharpe ratio: 0.92\n"
     ]
    }
   ],
   "source": [
    "print(\"GMV portfolio:\\n\")\n",
    "print(\"- Monte carlo:\")\n",
    "print(\"  return:       {:.2f}%\" .format(low_vol_portfolio[0]*100))\n",
    "print(\"  volatility:   {:.2f}%\" .format(low_vol_portfolio[1]*100))\n",
    "print(\"  sharpe ratio: {:.2f}\" .format(low_vol_portfolio[2]))\n",
    "print(\"\\n- Minimization problem:\")\n",
    "print(\"  return:       {:.2f}%\" .format(ret*100))\n",
    "print(\"  volatility:   {:.2f}%\" .format(vol*100))\n",
    "print(\"  sharpe ratio: {:.2f}\" .format(shp))"
   ]
  },
  {
   "cell_type": "markdown",
   "metadata": {},
   "source": [
    "#### Finding the optimal portfolios: minimizing the volatility given a fixed return\n",
    "\n",
    "What if we want to find the **portfolio (on the efficient frontier) with minimium volatility for a given a level of return**? \n",
    "In this case, we simply have to add a constrain in the minimization problem:\n",
    "$$\n",
    "\\text{minimize} \\;\\; \\frac{1}{2} \\mathbf{w}^T\\Sigma\\mathbf{w}, \n",
    "$$\n",
    "subject to \n",
    "$$\n",
    "\\begin{cases}\n",
    "\\mathbf{w}^T \\mathbf{R} = R_0, \\\\\n",
    "\\mathbf{w}^T \\mathbf{1} = 1, \\\\\n",
    "0 \\leq \\mathbf{w} \\leq 1.\n",
    "\\end{cases}\n",
    "$$\n",
    "where $R_0$ denotes a fixed level of expected return. For example, suppose we target the following total expected return $R_0=16\\%$:"
   ]
  },
  {
   "cell_type": "code",
   "execution_count": 33,
   "metadata": {},
   "outputs": [],
   "source": [
    "target_return = 0.16"
   ]
  },
  {
   "cell_type": "markdown",
   "metadata": {},
   "source": [
    "Now, we can call again the minimizer with the option of solving the problem with the constrain for the given target return:"
   ]
  },
  {
   "cell_type": "code",
   "execution_count": 34,
   "metadata": {},
   "outputs": [
    {
     "name": "stdout",
     "output_type": "stream",
     "text": [
      "optimal weights:\n",
      "  AMZN: 17.72%\n",
      "  KO:   60.82%\n",
      "  MSFT: 21.46%\n"
     ]
    }
   ],
   "source": [
    "optimal_weights = erk.minimize_volatility(ann_rets, cov_rets, target_return)\n",
    "print(\"optimal weights:\")\n",
    "print(\"  AMZN: {:.2f}%\".format(optimal_weights[0]*100))\n",
    "print(\"  KO:   {:.2f}%\".format(optimal_weights[1]*100))\n",
    "print(\"  MSFT: {:.2f}%\".format(optimal_weights[2]*100))"
   ]
  },
  {
   "cell_type": "markdown",
   "metadata": {},
   "source": [
    "Let us compute the volatility of the portfolio constructed with these weights. \n",
    "Also, we double check that the corresponding return is the target return that we have chosen (i.e., $16\\%$) and \n",
    "locate the portfolio on the efficient frontier:"
   ]
  },
  {
   "cell_type": "code",
   "execution_count": 35,
   "metadata": {},
   "outputs": [
    {
     "name": "stdout",
     "output_type": "stream",
     "text": [
      "Portfolio return:       16.00%\n",
      "Portfolio volatility:   14.87%\n",
      "Portfolio sharpe ratio: 1.08\n"
     ]
    },
    {
     "data": {
      "image/png": "[encoded data removed]",
      "text/plain": [
       "<Figure size 576x288 with 1 Axes>"
      ]
     },
     "metadata": {},
     "output_type": "display_data"
    }
   ],
   "source": [
    "ret, vol, shp = get_portfolio_features(optimal_weights, ann_rets, cov_rets, risk_free_rate, periods_per_year)\n",
    "\n",
    "# Draw the efficient frontier\n",
    "fig, ax = plt.subplots(1,1, figsize=(8,4)) \n",
    "df = erk.efficient_frontier(50, daily_rets, cov_rets, periods_per_year)\n",
    "df.plot.line(x=\"volatility\", y=\"return\", style=\"--\", color=\"coral\", ax=ax, grid=True, label=\"Efficient frontier\")\n",
    "ax.scatter(vol, target_return,  marker=\"X\", color='g', s=120, label=\"min. volatility port.\")\n",
    "ax.set_xlim([0.13,0.33])\n",
    "ax.legend()\n",
    "ax.set_title(\"Minimum Volatility portfolio for given return of $16\\%$\")\n",
    "plt.show()"
   ]
  },
  {
   "cell_type": "markdown",
   "metadata": {},
   "source": [
    "Recall that **the return of a portfolio will be some value between the minimum and the maximum return from the assets composing the portfolio**. That is, given the same three companies, we cannot achieve a return of, say $40\\%$ since the maximum return achievable is about $30\\%$ from Amazon. \n",
    "In fact, if we run the minimizer with a target return equal to $40\\%$ we will get zero weights to all assets but Amazon:"
   ]
  },
  {
   "cell_type": "code",
   "execution_count": 36,
   "metadata": {},
   "outputs": [
    {
     "name": "stdout",
     "output_type": "stream",
     "text": [
      "optimal weights:\n",
      "  AMZN: 100.00%\n",
      "  KO:   0.00%\n",
      "  MSFT: 0.00%\n"
     ]
    }
   ],
   "source": [
    "optimal_weights = erk.minimize_volatility(ann_rets, cov_rets, 0.4)\n",
    "print(\"optimal weights:\")\n",
    "print(\"  AMZN: {:.2f}%\".format(optimal_weights[0]*100))\n",
    "print(\"  KO:   {:.2f}%\".format(optimal_weights[1]*100))\n",
    "print(\"  MSFT: {:.2f}%\".format(optimal_weights[2]*100))"
   ]
  },
  {
   "cell_type": "markdown",
   "metadata": {},
   "source": [
    "### Finding the optimal portfolios: maximizing the sharpe ratio \n",
    "\n",
    "Now, consider the case of finding **the portfolio (on the efficient frontier) with the highest sharpe ratio**. \n",
    "\n",
    "Note that scipy offers a **minimize** method, but no a **maximize** a method, and we may then conclude \n",
    "that we are not able to find such a portfolio by solving an optimization problem. \n",
    "However, **the maximization of the sharpe ratio is nothing but the minimization of the negative sharpe ratio**. \n",
    "That is, we have \n",
    "$$\n",
    "\\text{minimize} \\;\\; -  \\frac{R_p - r_f}{\\sigma_p} =: \\text{SR} \n",
    "$$\n",
    "subject to \n",
    "$$\n",
    "\\begin{cases}\n",
    "\\mathbf{w}^T \\mathbf{1} = 1, \\\\\n",
    "0 \\leq \\mathbf{w} \\leq 1.\n",
    "\\end{cases}\n",
    "$$\n",
    "\n",
    "Let us use our minimizer:"
   ]
  },
  {
   "cell_type": "code",
   "execution_count": 37,
   "metadata": {},
   "outputs": [
    {
     "name": "stdout",
     "output_type": "stream",
     "text": [
      "optimal weights:\n",
      "  AMZN: 31.92%\n",
      "  KO:   39.61%\n",
      "  MSFT: 28.47%\n"
     ]
    }
   ],
   "source": [
    "optimal_weights = erk.maximize_shape_ratio(ann_rets, cov_rets, risk_free_rate, periods_per_year)\n",
    "print(\"optimal weights:\")\n",
    "print(\"  AMZN: {:.2f}%\".format(optimal_weights[0]*100))\n",
    "print(\"  KO:   {:.2f}%\".format(optimal_weights[1]*100))\n",
    "print(\"  MSFT: {:.2f}%\".format(optimal_weights[2]*100))"
   ]
  },
  {
   "cell_type": "code",
   "execution_count": 38,
   "metadata": {},
   "outputs": [
    {
     "name": "stdout",
     "output_type": "stream",
     "text": [
      "Portfolio return:       19.40%\n",
      "Portfolio volatility:   17.24%\n",
      "Portfolio sharpe ratio: 1.13\n"
     ]
    },
    {
     "data": {
      "image/png": "[encoded data removed]",
      "text/plain": [
       "<Figure size 576x288 with 1 Axes>"
      ]
     },
     "metadata": {},
     "output_type": "display_data"
    }
   ],
   "source": [
    "ret, vol, shp = get_portfolio_features(optimal_weights, ann_rets, cov_rets, risk_free_rate, periods_per_year)\n",
    "\n",
    "# Draw the efficient frontier\n",
    "fig, ax = plt.subplots(1,1, figsize=(8,4)) \n",
    "df = erk.efficient_frontier(50, daily_rets, cov_rets, periods_per_year)\n",
    "df.plot.line(x=\"volatility\", y=\"return\", style=\"--\", color=\"coral\", ax=ax, grid=True, label=\"Efficient frontier\")\n",
    "ax.scatter(vol, ret,  marker=\"X\", color='r', s=120, label=\"highest sharpe ratio port.\")\n",
    "ax.set_xlim([0.13,0.33])\n",
    "ax.legend()\n",
    "ax.set_title(\"Maximum Sharpe Ratio portfolio (SR={:.2f})\".format(shp))\n",
    "plt.show()"
   ]
  },
  {
   "cell_type": "markdown",
   "metadata": {},
   "source": [
    "and let us see how these numbers differ from those obtained from the Monte Carlo simulation:"
   ]
  },
  {
   "cell_type": "code",
   "execution_count": 39,
   "metadata": {},
   "outputs": [
    {
     "name": "stdout",
     "output_type": "stream",
     "text": [
      "MSR portfolio:\n",
      "\n",
      "- Monte carlo:\n",
      "  return:       19.39%\n",
      "  volatility:   17.24%\n",
      "  sharpe ratio: 1.13\n",
      "\n",
      "- Minimization problem:\n",
      "  return:       19.40%\n",
      "  volatility:   17.24%\n",
      "  sharpe ratio: 1.13\n"
     ]
    }
   ],
   "source": [
    "print(\"MSR portfolio:\\n\")\n",
    "print(\"- Monte carlo:\")\n",
    "print(\"  return:       {:.2f}%\" .format(high_sharpe_portfolio[0]*100))\n",
    "print(\"  volatility:   {:.2f}%\" .format(high_sharpe_portfolio[1]*100))\n",
    "print(\"  sharpe ratio: {:.2f}\" .format(high_sharpe_portfolio[2]))\n",
    "print(\"\\n- Minimization problem:\")\n",
    "print(\"  return:       {:.2f}%\" .format(ret*100))\n",
    "print(\"  volatility:   {:.2f}%\" .format(vol*100))\n",
    "print(\"  sharpe ratio: {:.2f}\" .format(shp))"
   ]
  },
  {
   "cell_type": "markdown",
   "metadata": {},
   "source": [
    "#### Finding the optimal portfolios: maximize the sharpe ratio given a fixed volatility \n",
    "\n",
    "Similarly to what we have done before, we can find the **portfolio (on the efficient frontier) with highest sharpe ratio \n",
    "for a given a level of volatility**. In this case, we simply add a constrain in the minimization problem:\n",
    "$$\n",
    "\\text{minimize} \\;\\; -  \\frac{R_p - r_f}{\\sigma_p} =: \\text{SR} \n",
    "$$\n",
    "subject to \n",
    "$$\n",
    "\\begin{cases}\n",
    "\\frac{1}{2} \\mathbf{w}^T\\Sigma\\mathbf{w} = \\sigma_0, \\\\\n",
    "\\mathbf{w}^T \\mathbf{1} = 1, \\\\\n",
    "0 \\leq \\mathbf{w} \\leq 1.\n",
    "\\end{cases}\n",
    "$$\n",
    "where $\\sigma_0$ denotes a fixed level of volatility. For example, suppose we target the following total volatility of $\\sigma_0=20\\%$:"
   ]
  },
  {
   "cell_type": "code",
   "execution_count": 40,
   "metadata": {},
   "outputs": [
    {
     "name": "stdout",
     "output_type": "stream",
     "text": [
      "optimal weights:\n",
      "  AMZN: 43.53%\n",
      "  KO:   22.47%\n",
      "  MSFT: 34.00%\n"
     ]
    }
   ],
   "source": [
    "target_volatility = 0.2\n",
    "optimal_weights = erk.maximize_shape_ratio(ann_rets, cov_rets, risk_free_rate, periods_per_year, target_volatility)\n",
    "print(\"optimal weights:\")\n",
    "print(\"  AMZN: {:.2f}%\".format(optimal_weights[0]*100))\n",
    "print(\"  KO:   {:.2f}%\".format(optimal_weights[1]*100))\n",
    "print(\"  MSFT: {:.2f}%\".format(optimal_weights[2]*100))"
   ]
  },
  {
   "cell_type": "code",
   "execution_count": 41,
   "metadata": {},
   "outputs": [
    {
     "name": "stdout",
     "output_type": "stream",
     "text": [
      "Portfolio return:       22.15%\n",
      "Portfolio volatility:   20.00%\n",
      "Portfolio sharpe ratio: 1.11\n"
     ]
    },
    {
     "data": {
      "image/png": "[encoded data removed]",
      "text/plain": [
       "<Figure size 576x288 with 1 Axes>"
      ]
     },
     "metadata": {},
     "output_type": "display_data"
    }
   ],
   "source": [
    "ret, vol, shp = get_portfolio_features(optimal_weights, ann_rets, cov_rets, risk_free_rate, periods_per_year)\n",
    "\n",
    "# Draw the efficient frontier\n",
    "fig, ax = plt.subplots(1,1, figsize=(8,4)) \n",
    "df = erk.efficient_frontier(50, daily_rets, cov_rets, periods_per_year)\n",
    "df.plot.line(x=\"volatility\", y=\"return\", style=\"--\", color=\"coral\", ax=ax, grid=True, label=\"Efficient frontier\")\n",
    "ax.scatter(vol, ret,  marker=\"X\", color='r', s=120, label=\"highes sharpe ratio port.\")\n",
    "ax.set_xlim([0.13,0.33])\n",
    "ax.legend()\n",
    "ax.set_title(\"Maximum Sharpe Ratio portfolio for given volatility of $20\\%$ (SR={:.2f})\".format(shp))\n",
    "plt.show()"
   ]
  },
  {
   "cell_type": "markdown",
   "metadata": {},
   "source": [
    "### Observation on constraints\n",
    "\n",
    "It is worth mentioning that so far we have decided to invest all of our capital and, at the same time, our strategy has been **long-only**. That is, the weights that we allocate to the assets sum to $1$ \n",
    "and all of them are positive (because we **buy** the assets). \n",
    "In particular, these two conditions were imposed when solving the minimization problems. \n",
    "\n",
    "However, **we could in principle not invest all of our capital**, which means that we at do not necessarily \n",
    "get weights that sum to $1$, and also we may decide to not buy all the assets. We could **short selling** some of them (by short shelling we mean selling an asset that we do not have and that we borrow from someone else).\n",
    "\n",
    "#### Short selling and not normalized weigths: minimum volatility portofolio given a fixed return \n",
    "\n",
    "We can solve the minimization problem without imposing the constraint on positive weigths and the constraint that the weights sum to $1$, i.e., simply:\n",
    "$$\n",
    "\\text{minimize} \\;\\; \\frac{1}{2} \\mathbf{w}^T\\Sigma\\mathbf{w}, \n",
    "$$\n",
    "subject to \n",
    "$$\n",
    "\\begin{cases}\n",
    "\\mathbf{w}^T \\mathbf{R} = R_0, \n",
    "\\end{cases}\n",
    "$$\n",
    "in the case of finding the minimum volatility portfolio for a fixed return. \n",
    "In this case we are allowed to **short sell** the asset and in principle we do not have to invest all of our capital.\n",
    "\n",
    "For such a problem we can find the analytical solution to the problem by using the **Lagrange multipliers**. \n",
    "We define the **Lagrangian** of the problem:\n",
    "$$\n",
    "\\mathcal{L}(\\mathbf{w}, \\lambda) := \\frac{1}{2} \\mathbf{w}^T\\Sigma\\mathbf{w} - \\lambda(  \\mathbf{w}^T \\mathbf{R} - R_0 ),\n",
    "$$\n",
    "and put the partial derivatives to zero:\n",
    "$$\n",
    "\\begin{cases}\n",
    "\\frac{\\partial\\mathcal{L}}{\\partial \\mathbf{w}} &= \\frac{1}{2} (2\\Sigma \\mathbf{w}) - \\lambda  \\mathbf{R} = 0, \\\\\n",
    "\\frac{\\partial\\mathcal{L}}{\\partial \\lambda} &=  - \\mathbf{w}^T \\mathbf{R} + R_0 = 0.\n",
    "\\end{cases}\n",
    "$$\n",
    "From the first equation, we get:\n",
    "$$\n",
    "\\Sigma \\mathbf{w} - \\lambda  \\mathbf{R} = 0 \n",
    "\\quad\\Longrightarrow\\quad \n",
    "\\mathbf{w} = \\lambda \\Sigma^{-1}\\mathbf{R},  \n",
    "$$\n",
    "and inserting in the second equation:\n",
    "$$\n",
    "- ( \\lambda \\Sigma^{-1}\\mathbf{R} )^T \\mathbf{R} + R_0 = 0 \n",
    "\\quad\\Longrightarrow\\quad \n",
    "\\lambda \\mathbf{R}^T \\Sigma^{-1} \\mathbf{R} = R_0\n",
    "\\quad\\Longrightarrow\\quad \n",
    "\\lambda = \\frac{R_0}{\\mathbf{R}^T \\Sigma^{-1} \\mathbf{R}}.\n",
    "$$\n",
    "Note that since $\\Sigma$ was symmetric, so is $\\Sigma^{-1}$, from which $(\\Sigma^{-1})^T = \\Sigma^{-1}$. \n",
    "We can then insert $\\lambda$ back into the first equation and obtain:\n",
    "$$\n",
    "\\mathbf{w}^* = R_0 \\frac{\\Sigma^{-1}\\mathbf{R}}{\\mathbf{R}^T \\Sigma^{-1} \\mathbf{R}},\n",
    "$$\n",
    "which is therefore the analytical expression for the weights. Notice that since we have not imposed the constraint \n",
    "on the normalisation, we are not guaranteed that such vector of weights sum to $1$. "
   ]
  },
  {
   "cell_type": "markdown",
   "metadata": {},
   "source": [
    "#### Short selling and normalized weigths: minimum volatility portofolio given a fixed return \n",
    "\n",
    "Analogously, we can also also fin the analytical expression of optimal weights in case we add the condition that the weigths sum to $1$, but without requiring that they have to be all positive, i.e.:\n",
    "$$\n",
    "\\text{minimize} \\;\\; \\frac{1}{2} \\mathbf{w}^T\\Sigma\\mathbf{w}, \n",
    "$$\n",
    "subject to \n",
    "$$\n",
    "\\begin{cases}\n",
    "\\mathbf{w}^T \\mathbf{R} &= R_0,  \\\\\n",
    "\\mathbf{w}^T \\mathbf{1} &= 1.\n",
    "\\end{cases}\n",
    "$$\n",
    "This is again the case in which we can **short sell** the asset but this time we invest all of the capital. \n",
    "\n",
    "We define the Lagrangian:\n",
    "$$\n",
    "\\mathcal{L}(\\mathbf{w}, \\lambda) := \\frac{1}{2} \\mathbf{w}^T\\Sigma\\mathbf{w} \n",
    "- \\lambda( \\mathbf{w}^T \\mathbf{R} - R_0) - \\delta(\\mathbf{w}^T\\mathbf{1}-1),\n",
    "$$\n",
    "and put the partial derivatives to zero:\n",
    "$$\n",
    "\\begin{cases}\n",
    "\\frac{\\partial\\mathcal{L}}{\\partial \\mathbf{w}} &= \\frac{1}{2} (2\\Sigma \\mathbf{w}) - \\lambda \\mathbf{R} - \\delta \\mathbf{1}= 0, \\\\\n",
    "\\frac{\\partial\\mathcal{L}}{\\partial \\lambda} &=  - \\mathbf{w}^T \\mathbf{R} + R_0 = 0, \\\\\n",
    "\\frac{\\partial\\mathcal{L}}{\\partial \\lambda} &=  - \\mathbf{w}^T \\mathbf{1} + R_0 = 0.\n",
    "\\end{cases}\n",
    "$$\n",
    "From the first equation we get:\n",
    "$$\n",
    "\\mathbf{w} = \\Sigma^{-1}(\\lambda \\mathbf{R} + \\delta\\mathbf{1}), \n",
    "$$\n",
    "and we can insert it in the second and the third equation, respectively:\n",
    "\\begin{cases}\n",
    "\\left(\\Sigma^{-1}(\\lambda \\mathbf{R} + \\delta\\mathbf{1}) \\right)^T\\mathbf{R} \n",
    "&= \\lambda \\mathbf{R}^T\\Sigma^{-1}\\mathbf{R} + \\delta\\mathbf{1}\\Sigma^{-1}\\mathbf{R} = R_0, \\\\\n",
    "\\left(\\Sigma^{-1}(\\lambda \\mathbf{R} + \\delta\\mathbf{1}) \\right)^T\\mathbf{1} \n",
    "&= \\lambda \\mathbf{R}^T\\Sigma^{-1}\\mathbf{1} + \\delta\\mathbf{1}\\Sigma^{-1}\\mathbf{1} = 1.\n",
    "\\end{cases}\n",
    "Let us define the following fixed numbers:\n",
    "$$\n",
    "\\begin{cases}\n",
    "A & := \\mathbf{R}^T \\Sigma^{-1} \\mathbf{R},  \\\\\n",
    "B & := \\mathbf{1}^T \\Sigma^{-1} \\mathbf{R} \\equiv \\mathbf{R}^T \\Sigma^{-1} \\mathbf{1}, \\\\\n",
    "C & := \\mathbf{1}^T \\Sigma^{-1} \\mathbf{1},\n",
    "\\end{cases}\n",
    "$$\n",
    "where notice that in B the second equation is true since $\\Sigma^{-1}$ is a symmetric matrix. Hence we have the following system to solve:\n",
    "$$\n",
    "\\begin{cases}\n",
    "\\lambda A + \\delta B &= R_0, \\\\\n",
    "\\lambda B + \\delta C &= 1.\n",
    "\\end{cases}\n",
    "$$\n",
    "From the second equation we find $\\lambda$ and put it into the first equation:\n",
    "$$\n",
    "\\lambda = \\frac{1-\\delta C}{B}\n",
    "\\quad\\Longrightarrow\\quad \n",
    "\\frac{1-\\delta C}{B} A + \\delta B = R_0\n",
    "\\quad\\text{from which we find}\\quad\n",
    "\\delta = \\frac{R_0B - A}{B^2-AC}.\n",
    "$$\n",
    "Now, we put $\\delta$ back into $\\lambda$:\n",
    "$$\n",
    "\\lambda = \\frac{1 - \\frac{R_0 B-A}{B^2-AC}C }{B} = \\frac{B - R_0 C}{B^2-AC}.\n",
    "$$\n",
    "Finally, we can put both $\\lambda$ and $\\delta$ we have just find back into $\\mathbf{w}$ and find the optimal weight:\n",
    "$$\n",
    "\\mathbf{w}^*  \n",
    "= \\lambda \\Sigma^{-1} \\mathbf{R} + \\delta \\Sigma^{-1} \\mathbf{1} \n",
    "= \\frac{B - R_0 C}{B^2-AC} \\Sigma^{-1} \\mathbf{R}  +  \\frac{R_0B - A}{B^2-AC}  \\Sigma^{-1}\\mathbf{1} \n",
    "= \\underbrace{ \\frac{1}{B^2-AC}\\left(B\\Sigma^{-1}\\mathbf{R} - A\\Sigma^{-1}\\mathbf{1} \\right) }_{:= \\mathbf{f} }\n",
    "+ R_0 \\Bigl( \\underbrace{ \\frac{1}{B^2-AC}\\left(B\\Sigma^{-1}\\mathbf{1} - C\\Sigma^{-1}\\mathbf{R} \\right) }_{:= \\mathbf{g} }  \\Bigr)\n",
    "= \\mathbf{f} + R_0 \\mathbf{g}.\n",
    "$$"
   ]
  },
  {
   "cell_type": "markdown",
   "metadata": {},
   "source": [
    "### Maximizing the sharpe ratio portfolio in presence of non null risk-free rate\n",
    "\n",
    "Recall that a **risk-free asset** is an (hypothetical) asset with a risk-free rate. For example, **short-term government securities (such as US treasury bills)** are used as a risk-free asset since **they pay a fixed interest rate and have exceptionally low default risk**. \n",
    "\n",
    "The risk-free asset has zero volatility. Furthermore, it is also uncorrelated with any other asset since, \n",
    "by definition, its volatility is zero. Therefore, when combined with any other asset in a portfolio, \n",
    "**the change in return is linearly related to the change in risk** as the proportions in the combination vary.\n",
    "\n",
    "#### The capital market line (CML)\n",
    "\n",
    "When a risk-free asset is introduced, there will be a line satisfying:\n",
    "\n",
    " 1. it is tangent to the curve at the risky portfolio with the highest Sharpe ratio; \n",
    " 2. its vertical intercept represents a portfolio with $100\\%$ of holdings in the risk-free asset; \n",
    " 3. the tangency with the curve represents the highest sharpe ratio portfolio with no risk-free holdings and $100%$ of risky assets; \n",
    " assets held in the portfolio occurring at the tangency point; \n",
    " 4. points on this line represent portfolios containing positive amounts of both the risky assets and the risk-free asset; \n",
    " \n",
    "This efficient line is called the **Capital Market Line (CML)**, and its given by:\n",
    "$$\n",
    "R_{CML} = R_{f} + \\sigma_{CML}\\frac{R_{p} - R_{f}}{\\sigma_{p}}, \n",
    "$$\n",
    "where $R_p$ and $\\sigma_p$ are the return and the volatility of the risky portfolio with no risk free asset, respectively, \n",
    "$R_f$ denotes the risk-free rate, and $R_{CML}$ and $\\sigma_{CML}$ denote the return and the volatility of the \n",
    "portfolio combining both risky assets and the risk-free asset, respectively."
   ]
  },
  {
   "cell_type": "code",
   "execution_count": 42,
   "metadata": {},
   "outputs": [
    {
     "name": "stdout",
     "output_type": "stream",
     "text": [
      "optimal weights:\n",
      "  AMZN: 54.48%\n",
      "  KO:   6.43%\n",
      "  MSFT: 39.09%\n"
     ]
    }
   ],
   "source": [
    "risk_free_rate = 0.06\n",
    "optimal_weights = erk.maximize_shape_ratio(ann_rets, cov_rets, risk_free_rate, periods_per_year)\n",
    "print(\"optimal weights:\")\n",
    "print(\"  AMZN: {:.2f}%\".format(optimal_weights[0]*100))\n",
    "print(\"  KO:   {:.2f}%\".format(optimal_weights[1]*100))\n",
    "print(\"  MSFT: {:.2f}%\".format(optimal_weights[2]*100))"
   ]
  },
  {
   "cell_type": "code",
   "execution_count": 43,
   "metadata": {},
   "outputs": [
    {
     "name": "stdout",
     "output_type": "stream",
     "text": [
      "Portfolio return:       24.74%\n",
      "Portfolio volatility:   23.03%\n",
      "Portfolio sharpe ratio: 0.81\n"
     ]
    }
   ],
   "source": [
    "ret, vol, shp = get_portfolio_features(optimal_weights, ann_rets, cov_rets, risk_free_rate, periods_per_year)"
   ]
  },
  {
   "cell_type": "markdown",
   "metadata": {},
   "source": [
    "Let us plot the efficient frontier and the capital market line using the optional argument in our plot method:"
   ]
  },
  {
   "cell_type": "code",
   "execution_count": 45,
   "metadata": {},
   "outputs": [
    {
     "data": {
      "image/png": "[encoded data removed]",
      "text/plain": [
       "<Figure size 576x288 with 1 Axes>"
      ]
     },
     "metadata": {},
     "output_type": "display_data"
    }
   ],
   "source": [
    "df, ax = erk.efficient_frontier(40, daily_rets, cov_rets, periods_per_year, risk_free_rate=risk_free_rate, \n",
    "                                iplot=True, cml=True)\n",
    "ax.set_title(\"Maximum Sharpe Ratio portfolio {} for risk free rate {}%\".format(np.round(shp,2),risk_free_rate*100))\n",
    "plt.show()"
   ]
  },
  {
   "cell_type": "markdown",
   "metadata": {},
   "source": [
    "The introduction of the risk-free asset as a possible component of the portfolio has improved the range of volatility-return combinations available since **everywhere, except at the tangency portfolio, the CML provides a higher return than the (old) efficient frontier does \n",
    "at every possible volatility.** "
   ]
  },
  {
   "cell_type": "markdown",
   "metadata": {},
   "source": [
    "Note that the efficient frontier method has other optional parameter to plot the highest sharpe ratio, the minimum volatility, and the equally weigthed portfolio as well:"
   ]
  },
  {
   "cell_type": "code",
   "execution_count": 81,
   "metadata": {},
   "outputs": [
    {
     "data": {
      "image/png": "[encoded data removed]",
      "text/plain": [
       "<Figure size 576x288 with 1 Axes>"
      ]
     },
     "metadata": {},
     "output_type": "display_data"
    }
   ],
   "source": [
    "risk_free_rate = 0.05\n",
    "df, ax = erk.efficient_frontier(90, daily_rets, cov_rets, periods_per_year, risk_free_rate=risk_free_rate, \n",
    "                                iplot=True, hsr=True, cml=True, mvp=True, ewp=True)\n",
    "ax.set_title(\"Maximum Sharpe ratio portfolio {} for risk free rate {}%\".format(np.round(shp,2),risk_free_rate*100))\n",
    "plt.show()"
   ]
  },
  {
   "cell_type": "code",
   "execution_count": 125,
   "metadata": {},
   "outputs": [
    {
     "data": {
      "text/html": [
       "<div>\n",
       "<style scoped>\n",
       "    .dataframe tbody tr th:only-of-type {\n",
       "        vertical-align: middle;\n",
       "    }\n",
       "\n",
       "    .dataframe tbody tr th {\n",
       "        vertical-align: top;\n",
       "    }\n",
       "\n",
       "    .dataframe thead th {\n",
       "        text-align: right;\n",
       "    }\n",
       "</style>\n",
       "<table border=\"1\" class=\"dataframe\">\n",
       "  <thead>\n",
       "    <tr style=\"text-align: right;\">\n",
       "      <th></th>\n",
       "      <th>0</th>\n",
       "      <th>1</th>\n",
       "      <th>2</th>\n",
       "      <th>3</th>\n",
       "      <th>4</th>\n",
       "      <th>5</th>\n",
       "    </tr>\n",
       "  </thead>\n",
       "  <tbody>\n",
       "    <tr>\n",
       "      <th>88</th>\n",
       "      <td>0.306585</td>\n",
       "      <td>0.294691</td>\n",
       "      <td>0.798117</td>\n",
       "      <td>0.977343</td>\n",
       "      <td>2.775558e-16</td>\n",
       "      <td>0.022657</td>\n",
       "    </tr>\n",
       "    <tr>\n",
       "      <th>89</th>\n",
       "      <td>0.311073</td>\n",
       "      <td>0.296842</td>\n",
       "      <td>0.793521</td>\n",
       "      <td>1.000000</td>\n",
       "      <td>1.335500e-16</td>\n",
       "      <td>0.000000</td>\n",
       "    </tr>\n",
       "    <tr>\n",
       "      <th>90</th>\n",
       "      <td>0.212923</td>\n",
       "      <td>0.232931</td>\n",
       "      <td>0.859140</td>\n",
       "      <td>0.483833</td>\n",
       "      <td>1.543192e-01</td>\n",
       "      <td>0.361848</td>\n",
       "    </tr>\n",
       "    <tr>\n",
       "      <th>91</th>\n",
       "      <td>0.141678</td>\n",
       "      <td>0.130930</td>\n",
       "      <td>0.571223</td>\n",
       "      <td>0.055687</td>\n",
       "      <td>7.898499e-01</td>\n",
       "      <td>0.154463</td>\n",
       "    </tr>\n",
       "    <tr>\n",
       "      <th>92</th>\n",
       "      <td>0.179320</td>\n",
       "      <td>0.201360</td>\n",
       "      <td>0.844078</td>\n",
       "      <td>0.333333</td>\n",
       "      <td>3.333333e-01</td>\n",
       "      <td>0.333333</td>\n",
       "    </tr>\n",
       "  </tbody>\n",
       "</table>\n",
       "</div>"
      ],
      "text/plain": [
       "           0         1         2         3             4         5\n",
       "88  0.306585  0.294691  0.798117  0.977343  2.775558e-16  0.022657\n",
       "89  0.311073  0.296842  0.793521  1.000000  1.335500e-16  0.000000\n",
       "90  0.212923  0.232931  0.859140  0.483833  1.543192e-01  0.361848\n",
       "91  0.141678  0.130930  0.571223  0.055687  7.898499e-01  0.154463\n",
       "92  0.179320  0.201360  0.844078  0.333333  3.333333e-01  0.333333"
      ]
     },
     "execution_count": 125,
     "metadata": {},
     "output_type": "execute_result"
    }
   ],
   "source": [
    "df.tail()"
   ]
  },
  {
   "cell_type": "markdown",
   "metadata": {},
   "source": [
    "### Maximizing the sharpe ratio = Minimizing volatility when we invest also in a risk free asset\n",
    "\n",
    "Suppose that along with the set of risky assets there is also a risk-free asset with volatility zero and return equal to the risk-free rate $R_f$. In this case, we may want to minimize the volatility of the portfolio (i.e., the volatility of the part of the portfolio invested in the risky assets, since the the risk-free asset, by definition, is risk free) in which we have allocated some weights $\\mathbf{w}$ in the risky assets and the remaining part of our capital, i.e., $1-\\mathbf{w}^T\\mathbf{1}$, in the risk-free asset:\n",
    "$$\n",
    "\\text{minimize} \\;\\; \\frac{1}{2} \\mathbf{w}^T\\Sigma\\mathbf{w}, \n",
    "$$\n",
    "subject to \n",
    "$$\n",
    "\\begin{cases}\n",
    "\\mathbf{w}^T \\mathbf{R} + (1 - \\mathbf{w}^T\\mathbf{1})R_f &= R_0,  \\\\\n",
    "\\end{cases}\n",
    "$$\n",
    "Note that in this case we can **short sell** the assets and we invest all of the capital. \n",
    "We define the Lagrangian:\n",
    "$$\n",
    "\\mathcal{L}(\\mathbf{w}, \\lambda) := \n",
    "\\frac{1}{2} \\mathbf{w}^T\\Sigma\\mathbf{w} \n",
    "- \\lambda\\left( \\mathbf{w}^T \\mathbf{R} + (1-\\mathbf{w}^T\\mathbf{1})R_f - R_0\\right),\n",
    "$$\n",
    "and put the partial derivatives to zero:\n",
    "$$\n",
    "\\begin{cases}\n",
    "\\frac{\\partial\\mathcal{L}}{\\partial \\mathbf{w}} &= \\frac{1}{2} (2\\Sigma \\mathbf{w}) - \\lambda \\mathbf{R} + \\lambda R_f \\mathbf{1}= 0, \\\\\n",
    "\\frac{\\partial\\mathcal{L}}{\\partial \\lambda} &=  - \\mathbf{w}^T \\mathbf{R} - (1-\\mathbf{w}\\mathbf{1})R_f + R_0 = 0, \\\\\n",
    "\\end{cases}\n",
    "$$\n",
    "From the first equation we get:\n",
    "$$\n",
    "\\mathbf{w} = \\lambda \\Sigma^{-1}(\\mathbf{R} - R_f\\mathbf{1}), \n",
    "$$\n",
    "and we can insert it in the second equation:\n",
    "$$\n",
    "\\left( \\lambda\\Sigma^{-1}(\\mathbf{R}-R_f\\mathbf{1}) \\right)^T \\mathbf{R} + \\left( 1 - (\\lambda\\Sigma^{-1}(\\mathbf{R}-R_f\\mathbf{1}))^T\\mathbf{1}   \\right) R_f = R_0\n",
    "\\quad \\Longrightarrow\\quad \n",
    "\\lambda = \\frac{R_0-R_f}{(\\mathbf{R}-R_f\\mathbf{1})^T\\Sigma^{-1}(\\mathbf{R}-R_f\\mathbf{1})}.\n",
    "$$\n",
    "We can now put $\\lambda$ back into the expression for the weigths:\n",
    "$$\n",
    "\\mathbf{w}^* \n",
    "= \\underbrace{ \\frac{R_0-R_f}{(\\mathbf{R}-R_f\\mathbf{1})^T\\Sigma^{-1}(\\mathbf{R}-R_f\\mathbf{1})} }_{:= r} \\Sigma^{-1}(\\mathbf{R} - R_f\\mathbf{1})\n",
    "= r \\Sigma^{-1}(\\mathbf{R} - R_f\\mathbf{1}).\n",
    "$$\n",
    "We found the otpimal weight allocations to the risky assets. The allocation to the risk-free rate would be then given by \n",
    "$1-\\mathbf{w^*}^T\\mathbf{1}$. \n",
    "\n",
    "#### Portfolio return and volatility\n",
    "Notice that a portfolio with these weigths should give, by definition, a return equal to the target return $R_0$. \n",
    "In fact:\n",
    "$$\n",
    "\\mu_p = \\mathbf{w^*}^T \\mathbf{R} + (1 - \\mathbf{w^*}^T\\mathbf{1})R_f \n",
    "= r(\\mathbf{R}-R_f\\mathbf{1})^T\\Sigma^{-1}\\mathbf{R} + R_f - r(\\mathbf{R}-R_f\\mathbf{1})^T\\Sigma^{-1} R_f \\mathbf{1} \n",
    "= \\underbrace{ r(\\mathbf{R}-R_f\\mathbf{1})^T\\Sigma^{-1}(\\mathbf{R}-R_f\\mathbf{1}) }_{= R_0 - R_f}   + R_f  = R_0.\n",
    "$$\n",
    "Right. The volatility of the portfolio is given by:\n",
    "$$\n",
    "\\sigma_p^2 = \\mathbf{w^*}^T\\Sigma\\mathbf{w^*} \n",
    "= \\left( r \\Sigma^{-1}(\\mathbf{R} - R_f\\mathbf{1}) \\right)^T \\Sigma \\left( r \\Sigma^{-1}(\\mathbf{R} - R_f\\mathbf{1}) \\right) \n",
    "= r^2 (\\mathbf{R} - R_f\\mathbf{1})^T \\Sigma^{-1}\\underbrace{\\Sigma\\Sigma^{-1}}_{=Id} (\\mathbf{R} - R_f\\mathbf{1}) \n",
    "= \\frac{(R_0-R_f)^2}{ \\left( (\\mathbf{R}-R_f\\mathbf{1})^T\\Sigma^{-1}(\\mathbf{R}-R_f\\mathbf{1}) \\right)^2 } \n",
    "(\\mathbf{R}-R_f\\mathbf{1})^T\\Sigma^{-1}(\\mathbf{R}-R_f\\mathbf{1})\n",
    "$$\n",
    "that is:\n",
    "$$\n",
    "\\sigma_p = \\frac{(R_0-R_f)}{ \\sqrt{ (\\mathbf{R}-R_f\\mathbf{1})^T\\Sigma^{-1}(\\mathbf{R}-R_f\\mathbf{1})} }.\n",
    "$$\n",
    "\n",
    "#### Portoflio weigths when full allocation is done to the risky assets (MSR)\n",
    "\n",
    "If, even in case of risk-free asset, we decide to allocate all the capital to the risky assets we can easily find the weights by normalizing the efficient weights we have found before. In particular, notice that $\\mathbf{w}^*$ is proportional to the vector \n",
    "$\\Sigma^{-1}(\\mathbf{R}-R_f\\mathbf{1})$ with the constant of proportionality equal to $r$. \n",
    "Hence we can define the weigths:\n",
    "$$\n",
    "\\mathbf{w}_M := \\frac{\\Sigma^{-1}(\\mathbf{R}-R_f\\mathbf{1}) }{ \\mathbf{1}^T\\Sigma^{-1}(\\mathbf{R}-R_f\\mathbf{1}) },\n",
    "$$\n",
    "where notice that the denominator is simply the sum of the weigths in $\\Sigma^{-1}(\\mathbf{R}-R_f\\mathbf{1})$, i.e., weights in $w_M$ sum to $1$, and correspond to a full allocation of money in the risky assets and zero to the risk-free rate asset. \n",
    "\n",
    "Note that the return of such portfolio is given by:\n",
    "$$\n",
    "\\mu_M = \\mathbf{w}_M^T\\mathbf{R} = \\frac{ (\\mathbf{R}-R_f\\mathbf{1})^T\\Sigma^{-1}\\mathbf{R} }{ \\mathbf{1}^T\\Sigma^{-1}(\\mathbf{R}-R_f\\mathbf{1})}, \n",
    "$$\n",
    "while the volatility is:\n",
    "$$\n",
    "\\sigma_M^2 = \\mathbf{w}_M^T \\Sigma \\mathbf{w}_M \n",
    "= \\frac{1}{ \\left( \\mathbf{1}^T\\Sigma^{-1}(\\mathbf{R}-R_f\\mathbf{1})  \\right)^2 } \n",
    "(\\mathbf{R}-R_f\\mathbf{1})^T\\underbrace{\\Sigma^{-1}\\Sigma}_{=Id}\\Sigma^{-1} (\\mathbf{R}-R_f\\mathbf{1}) \n",
    "= \\frac{(\\mathbf{R}-R_f\\mathbf{1})^T \\Sigma^{-1} (\\mathbf{R}-R_f\\mathbf{1})}{ \\left( \\mathbf{1}^T\\Sigma^{-1}(\\mathbf{R}-R_f\\mathbf{1}) \\right)^2 }\n",
    "\\quad \\Longrightarrow\\quad \n",
    "\\sigma_M = \n",
    "\\frac{ \\sqrt{(\\mathbf{R}-R_f\\mathbf{1})^T \\Sigma^{-1} (\\mathbf{R}-R_f\\mathbf{1})}  }{ \\mathbf{1}^T\\Sigma^{-1}(\\mathbf{R}-R_f\\mathbf{1})  }.\n",
    "$$\n",
    "\n",
    "The portoflio of only risky assets with weights given by $\\mathbf{w}_M$ is, by constuction, a portfolio with a minimum volatility lying on the efficient frontier. However, we can see that **it is also the portfolio with the highest Sharpe Ratio**. \n",
    "\n",
    "Consider the point on the $(\\sigma, \\mu)$ plane corresponding to the portfolio where we only allocate money to the risk-free asset, \n",
    "i.e. the portfolio with $(\\sigma,\\mu)=(0,R_f)$, and the portfolio where we only allocate money to the risky asset,\n",
    "i.e. the portfolio with $(\\sigma,\\mu)=(\\sigma_M,\\mu_M)$, where $\\sigma_M$ and $\\mu_M$ have been found above. \n",
    "The line connecting these two portfolio is:\n",
    "$$\n",
    "\\mu - \\mu_M = \\frac{\\mu_M - R_f}{\\sigma_M - 0} (\\sigma - \\sigma_M) \n",
    "\\quad\\text{and then}\\quad\n",
    "\\mu = R_f + \\frac{\\mu_M - R_f}{\\sigma_M} \\sigma,\n",
    "$$\n",
    "i.e., **this is the Capital Market Line**, and we see that **the slope of the CML is the Sharpe Ratio of the portfolio with return $\\mu_M$ and $\\sigma_M$**, that is, the minimum volatility portfolio on the efficient frontier with weights given by $\\mathbf{w}_M$. Furthermore, from the line we see that such portfolio is also the \n",
    "maximum Sharpe Ratio portfolio since:\n",
    "$$\n",
    "\\max \\frac{\\mu - R_f}{\\sigma} = \\frac{\\mu_M - R_f}{\\sigma_M}.\n",
    "$$\n",
    "\n",
    "Since the CML connects the portfolios composed of only the risk-free asset and only the risky assets, every point on the line corresponds to an investmentes in both the risk-free rate and the risky assets. In this case, the weights are given by the $\\mathbf{w}^*$ previously found. "
   ]
  },
  {
   "cell_type": "markdown",
   "metadata": {},
   "source": [
    "First of all, recall that with our method we can find the weigths of the portfolio with the maximum sharpe ratio:"
   ]
  },
  {
   "cell_type": "code",
   "execution_count": 179,
   "metadata": {},
   "outputs": [
    {
     "data": {
      "text/plain": [
       "array([0.54475748, 0.06431016, 0.39093236])"
      ]
     },
     "execution_count": 179,
     "metadata": {},
     "output_type": "execute_result"
    }
   ],
   "source": [
    "risk_free_rate = 0.06\n",
    "optimal_weights = erk.maximize_shape_ratio(ann_rets, cov_rets, risk_free_rate, periods_per_year)\n",
    "optimal_weights"
   ]
  },
  {
   "cell_type": "markdown",
   "metadata": {},
   "source": [
    "Ok. Let us verify our formulas for $\\mathbf{w}_M$:"
   ]
  },
  {
   "cell_type": "code",
   "execution_count": 180,
   "metadata": {},
   "outputs": [],
   "source": [
    "invcov = erk.inverse_df(cov_rets)\n",
    "ones   = np.repeat(1,3) \n",
    "r_rf   = ann_rets - risk_free_rate*ones"
   ]
  },
  {
   "cell_type": "code",
   "execution_count": 181,
   "metadata": {},
   "outputs": [
    {
     "data": {
      "text/plain": [
       "array([0.54341264, 0.06476864, 0.39181871])"
      ]
     },
     "execution_count": 181,
     "metadata": {},
     "output_type": "execute_result"
    }
   ],
   "source": [
    "w_M = np.dot( invcov, r_rf ) / np.dot( ones, np.dot(invcov, r_rf) )\n",
    "w_M"
   ]
  },
  {
   "cell_type": "markdown",
   "metadata": {},
   "source": [
    "Yes, they coincide. We implemented these weights in the following method:"
   ]
  },
  {
   "cell_type": "code",
   "execution_count": 183,
   "metadata": {},
   "outputs": [
    {
     "data": {
      "text/plain": [
       "array([0.54341264, 0.06476864, 0.39181871])"
      ]
     },
     "execution_count": 183,
     "metadata": {},
     "output_type": "execute_result"
    }
   ],
   "source": [
    "erk.weigths_max_sharpe_ratio(cov_rets, r_rf).values"
   ]
  },
  {
   "cell_type": "markdown",
   "metadata": {},
   "source": [
    "Now, let us verify that the portfolio with these weigths has a return and a volatility as in formulas $\\mu_M$ and $\\sigma_M$:"
   ]
  },
  {
   "cell_type": "code",
   "execution_count": 184,
   "metadata": {},
   "outputs": [
    {
     "data": {
      "text/plain": [
       "0.24723242543150564"
      ]
     },
     "execution_count": 184,
     "metadata": {},
     "output_type": "execute_result"
    }
   ],
   "source": [
    "# return: using the portfolio return method\n",
    "mu_M = erk.portfolio_return(w_M, ann_rets)\n",
    "mu_M"
   ]
  },
  {
   "cell_type": "code",
   "execution_count": 185,
   "metadata": {},
   "outputs": [
    {
     "data": {
      "text/plain": [
       "0.24723242543150556"
      ]
     },
     "execution_count": 185,
     "metadata": {},
     "output_type": "execute_result"
    }
   ],
   "source": [
    "# return: using the formula we found\n",
    "mu_M = np.dot( r_rf, np.dot(invcov, ann_rets) ) / np.dot(ones, np.dot(invcov,r_rf) )\n",
    "mu_M "
   ]
  },
  {
   "cell_type": "code",
   "execution_count": 186,
   "metadata": {},
   "outputs": [
    {
     "data": {
      "text/plain": [
       "0.23005195525472716"
      ]
     },
     "execution_count": 186,
     "metadata": {},
     "output_type": "execute_result"
    }
   ],
   "source": [
    "# volatility: using the portfolio vol method\n",
    "sigma_M = erk.annualize_vol( erk.portfolio_volatility(w_M, cov_rets), periods_per_year)\n",
    "sigma_M"
   ]
  },
  {
   "cell_type": "code",
   "execution_count": 187,
   "metadata": {},
   "outputs": [
    {
     "data": {
      "text/plain": [
       "0.2300519552547272"
      ]
     },
     "execution_count": 187,
     "metadata": {},
     "output_type": "execute_result"
    }
   ],
   "source": [
    "# volatility: using the formula\n",
    "sigma_M = np.sqrt( np.dot(r_rf, np.dot(invcov,r_rf)) ) / np.dot(ones, np.dot(invcov,r_rf))\n",
    "sigma_M = erk.annualize_vol(sigma_M , periods_per_year)\n",
    "sigma_M"
   ]
  },
  {
   "cell_type": "markdown",
   "metadata": {},
   "source": [
    "Perfect. Let us now define the $\\mathbf{w}^*$ weigths of a portfolio which invest in both the risk-free asset and risky assets:"
   ]
  },
  {
   "cell_type": "code",
   "execution_count": 188,
   "metadata": {},
   "outputs": [
    {
     "data": {
      "text/plain": [
       "array([0.20316398, 0.02421485, 0.14648803])"
      ]
     },
     "execution_count": 188,
     "metadata": {},
     "output_type": "execute_result"
    }
   ],
   "source": [
    "target_ret = 0.13\n",
    "wstar = (target_ret - risk_free_rate) / np.dot(r_rf, np.dot(invcov,r_rf)) * np.dot(invcov,r_rf)             \n",
    "wstar"
   ]
  },
  {
   "cell_type": "markdown",
   "metadata": {},
   "source": [
    "To these weigths we have to add the weigth in the risk-free asset:"
   ]
  },
  {
   "cell_type": "code",
   "execution_count": 189,
   "metadata": {},
   "outputs": [
    {
     "data": {
      "text/plain": [
       "array([0.20316398, 0.02421485, 0.14648803, 0.62613313])"
      ]
     },
     "execution_count": 189,
     "metadata": {},
     "output_type": "execute_result"
    }
   ],
   "source": [
    "np.append( wstar, 1-wstar.sum() )"
   ]
  },
  {
   "cell_type": "markdown",
   "metadata": {},
   "source": [
    "The last weight is the one in the risk-free asset. \n",
    "The return of such a portfolio is, by definition, equal to the target return:"
   ]
  },
  {
   "cell_type": "code",
   "execution_count": 190,
   "metadata": {},
   "outputs": [
    {
     "data": {
      "text/plain": [
       "0.13"
      ]
     },
     "execution_count": 190,
     "metadata": {},
     "output_type": "execute_result"
    }
   ],
   "source": [
    "mu_p = erk.portfolio_return( np.append(wstar,1-wstar.sum()) , ann_rets.append(pd.Series(risk_free_rate)) )\n",
    "mu_p"
   ]
  },
  {
   "cell_type": "markdown",
   "metadata": {},
   "source": [
    "Let us see the volatility of such a portfolio:"
   ]
  },
  {
   "cell_type": "code",
   "execution_count": 191,
   "metadata": {},
   "outputs": [
    {
     "data": {
      "text/plain": [
       "0.0860088033935234"
      ]
     },
     "execution_count": 191,
     "metadata": {},
     "output_type": "execute_result"
    }
   ],
   "source": [
    "# using the portfolio_volatility method\n",
    "erk.annualize_vol( erk.portfolio_volatility(wstar, cov_rets), periods_per_year)"
   ]
  },
  {
   "cell_type": "code",
   "execution_count": 192,
   "metadata": {},
   "outputs": [
    {
     "data": {
      "text/plain": [
       "0.08600880339352342"
      ]
     },
     "execution_count": 192,
     "metadata": {},
     "output_type": "execute_result"
    }
   ],
   "source": [
    "# using the formula\n",
    "sigma_p = erk.annualize_vol( (target_ret - risk_free_rate) / np.sqrt(np.dot(r_rf, np.dot(invcov,r_rf))), periods_per_year )\n",
    "sigma_p"
   ]
  },
  {
   "cell_type": "markdown",
   "metadata": {},
   "source": [
    "Finally, let us verify that all portfolio that are constructed using the weigths $\\mathbf{w}^*$ and $1-\\mathbf{w}^T\\mathbf{1}$ lie on the Capital Market Line. We define a set of target returns, from the original target return of $0.06$ up to the maximum sharpe ratio return $\\mu_M$:"
   ]
  },
  {
   "cell_type": "code",
   "execution_count": 193,
   "metadata": {},
   "outputs": [
    {
     "data": {
      "text/plain": [
       "[array([0.20316398, 0.02421485, 0.14648803, 0.62613313]),\n",
       " array([0.22107181, 0.02634926, 0.15940018, 0.59317876]),\n",
       " array([0.23897963, 0.02848367, 0.17231232, 0.56022438]),\n",
       " array([0.25688745, 0.03061808, 0.18522446, 0.52727001]),\n",
       " array([0.27479528, 0.03275249, 0.1981366 , 0.49431563]),\n",
       " array([0.2927031 , 0.0348869 , 0.21104874, 0.46136126]),\n",
       " array([0.31061093, 0.03702131, 0.22396088, 0.42840688]),\n",
       " array([0.32851875, 0.03915572, 0.23687302, 0.39545251]),\n",
       " array([0.34642658, 0.04129013, 0.24978516, 0.36249813]),\n",
       " array([0.3643344 , 0.04342454, 0.2626973 , 0.32954376]),\n",
       " array([0.38224222, 0.04555895, 0.27560945, 0.29658938]),\n",
       " array([0.40015005, 0.04769336, 0.28852159, 0.263635  ]),\n",
       " array([0.41805787, 0.04982777, 0.30143373, 0.23068063]),\n",
       " array([0.4359657 , 0.05196218, 0.31434587, 0.19772625]),\n",
       " array([0.45387352, 0.05409659, 0.32725801, 0.16477188]),\n",
       " array([0.47178135, 0.056231  , 0.34017015, 0.1318175 ]),\n",
       " array([0.48968917, 0.05836541, 0.35308229, 0.09886313]),\n",
       " array([0.50759699, 0.06049982, 0.36599443, 0.06590875]),\n",
       " array([0.52550482, 0.06263423, 0.37890657, 0.03295438]),\n",
       " array([5.43412642e-01, 6.47686429e-02, 3.91818715e-01, 4.44089210e-16])]"
      ]
     },
     "execution_count": 193,
     "metadata": {},
     "output_type": "execute_result"
    }
   ],
   "source": [
    "target_ret_vec = np.linspace(target_ret,mu_M,20)\n",
    "wstar = [ (tr - risk_free_rate) / np.dot(r_rf, np.dot(invcov,r_rf)) * np.dot(invcov,r_rf) for tr in target_ret_vec ]         \n",
    "wstar = [ np.append(wstar[i], 1-wstar[i].sum()) for i in range(len(wstar)) ]\n",
    "wstar "
   ]
  },
  {
   "cell_type": "code",
   "execution_count": 194,
   "metadata": {},
   "outputs": [],
   "source": [
    "mus = [erk.portfolio_return(wstar[i], ann_rets.append(pd.Series(risk_free_rate))) for i in range(len(wstar)) ]\n",
    "sigmas = [erk.annualize_vol((tr - risk_free_rate) / np.sqrt(np.dot(r_rf, np.dot(invcov,r_rf))), periods_per_year) for tr in target_ret_vec]"
   ]
  },
  {
   "cell_type": "code",
   "execution_count": 198,
   "metadata": {},
   "outputs": [
    {
     "data": {
      "image/png": "[encoded data removed]",
      "text/plain": [
       "<Figure size 432x288 with 1 Axes>"
      ]
     },
     "metadata": {},
     "output_type": "display_data"
    }
   ],
   "source": [
    "CML = pd.concat([pd.DataFrame(sigmas),pd.DataFrame(mus)], axis=1) \n",
    "CML.columns = [\"sigma\",\"mu\"]\n",
    "CML.plot.line(x=\"sigma\", y=\"mu\", grid=True, legend=False)\n",
    "plt.show()"
   ]
  }
 ],
 "metadata": {
  "kernelspec": {
   "display_name": "Python 3",
   "language": "python",
   "name": "python3"
  },
  "language_info": {
   "codemirror_mode": {
    "name": "ipython",
    "version": 3
   },
   "file_extension": ".py",
   "mimetype": "text/x-python",
   "name": "python",
   "nbconvert_exporter": "python",
   "pygments_lexer": "ipython3",
   "version": "3.6.6"
  }
 },
 "nbformat": 4,
 "nbformat_minor": 4
}
