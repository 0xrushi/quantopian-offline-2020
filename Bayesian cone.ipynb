{
 "cells": [
  {
   "cell_type": "code",
   "execution_count": null,
   "metadata": {},
   "outputs": [
    {
     "name": "stderr",
     "output_type": "stream",
     "text": [
      "Auto-assigning NUTS sampler...\n",
      "Initializing NUTS using jitter+adapt_diag...\n",
      "Sequential sampling (2 chains in 1 job)\n",
      "NUTS: [y_missing, grw]\n",
      "100%|████████████████████████████████████████████████████████████| 5500/5500 [00:32<00:00, 167.60it/s]\n",
      " 47%|████████████████████████████▏                               | 2588/5500 [00:14<00:15, 192.93it/s]"
     ]
    }
   ],
   "source": [
    "import numpy, pymc3, matplotlib.pyplot, seaborn\n",
    "\n",
    "# generate some data\n",
    "t = numpy.linspace(0,2*numpy.pi,100)\n",
    "y_full = numpy.cos(5*t)\n",
    "# mask the data that I want to predict (requires knowledge \n",
    "#   that one might not always have at training time).\n",
    "cutoff_idx = 80\n",
    "y_obs = numpy.ma.MaskedArray(y_full,numpy.arange(t.size)>cutoff_idx)\n",
    "\n",
    "# specify and train the model, used the masked array to supply only \n",
    "#   the observed data\n",
    "with pymc3.Model() as model:\n",
    "  grw = pymc3.GaussianRandomWalk('grw',mu=0,sd=1,shape=y_obs.size)\n",
    "  y = pymc3.Normal('y',mu=grw,sd=1,observed=y_obs)\n",
    "  trace = pymc3.sample(5000, cores=1)\n",
    "  y_pred = pymc3.sample_ppc(trace,samples=20000,model=model)['y']\n",
    "  y_pred_mean = y_pred.mean(axis=0)\n",
    "\n",
    "  # compute percentiles\n",
    "  dfp = numpy.percentile(y_pred,[2.5,25,50,70,97.5],axis=0)\n",
    "\n",
    "  # plot actual data and summary posterior information\n",
    "  pal = seaborn.color_palette('Purples')\n",
    "  fig = matplotlib.pyplot.figure(dpi=100)\n",
    "  ax = fig.add_subplot(111)\n",
    "  ax.plot(t,y_full,c='g',label='true value',alpha=0.5)\n",
    "  ax.plot(t,y_pred_mean,c=pal[5],label='posterior mean',alpha=0.5)\n",
    "  ax.plot(t,dfp[2,:],alpha=0.75,color=pal[3],label='posterior median')\n",
    "  ax.fill_between(t,dfp[0,:],dfp[4,:],alpha=0.5,color=pal[1],label='CR 95%')\n",
    "  ax.fill_between(t,dfp[1,:],dfp[3,:],alpha=0.4,color=pal[2],label='CR 50%')\n",
    "  ax.axvline(x=t[cutoff_idx],linestyle='--',color='r',alpha=0.25)\n",
    "  ax.legend()\n",
    "  matplotlib.pyplot.show()"
   ]
  }
 ],
 "metadata": {
  "kernelspec": {
   "display_name": "Python 3",
   "language": "python",
   "name": "python3"
  },
  "language_info": {
   "codemirror_mode": {
    "name": "ipython",
    "version": 3
   },
   "file_extension": ".py",
   "mimetype": "text/x-python",
   "name": "python",
   "nbconvert_exporter": "python",
   "pygments_lexer": "ipython3",
   "version": "3.5.6"
  }
 },
 "nbformat": 4,
 "nbformat_minor": 4
}
